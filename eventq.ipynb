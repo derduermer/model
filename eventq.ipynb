{
 "cells": [
  {
   "cell_type": "code",
   "execution_count": null,
   "metadata": {},
   "outputs": [],
   "source": [
    "import heapq as hq\n",
    "\n",
    "class Passenger:\n",
    "    def __init__(self, BM, exit_time):\n",
    "        self.bm = BM\n",
    "        self.exit = exit_time\n",
    "    def __lt__(self, other):\n",
    "        return (self.exit, self.bm) < \\\n",
    "               (other.exit, other.bm)\n",
    "\n",
    "class BM:\n",
    "    def __init__(self, passenger, capacity, stop, itinerary):\n",
    "        self.passenger = passenger\n",
    "        self.capacity = capacity\n",
    "        self.stop = stop\n",
    "        self.itinerary = itinerary\n",
    "    def __le__(self, other):\n",
    "        pass\n",
    "    \n",
    "class Event:\n",
    "    def __init__(self, time, action, bm):\n",
    "        self.time = time\n",
    "        self.action = action\n",
    "        self.bm = bm\n",
    "    def __lt__(self, other):\n",
    "        return (self.time, self.bm) < (other.time, other.bm)\n",
    "    def __le__(self, other):\n",
    "        return (self.time, self.bm) <= (other.time, other.bm)"
   ]
  },
  {
   "cell_type": "code",
   "execution_count": null,
   "metadata": {
    "scrolled": true
   },
   "outputs": [],
   "source": [
    "#passengers = [[{'bm': 0, 'exit_time': 120}]*100 , [{'bm': 1 and 0, 'exit_time': 120}]*40]\n",
    "passengers = [[{'station': 1, 'exit_time': 60}]*8 + [{'station': 2, 'exit_time':120}]*2,\n",
    "              [{'station': 0, 'exit_time':110}]*8 + [{'station': 2, 'exit_time': 60}]*2,\n",
    "              [{'station': 0, 'exit_time': 50}]*0 + [{'station': 2, 'exit_time':110}]*0]\n",
    "bms = [{'n_passengers': 0, 'capacity': 3, 'stop': 0, 'itinerary': [0, 1], 'name': 0},\n",
    "       {'n_passengers': 0, 'capacity': 5, 'stop': 1, 'itinerary': [0, 1, 2], 'name': 1}]\n",
    "\n",
    "event0 = Event(0,'load',0)\n",
    "event1 = Event(0,'load',1)\n",
    "eventq = []\n",
    "hq.heappush(eventq, event0)\n",
    "hq.heappush(eventq, event1)\n",
    "\n",
    "while eventq:\n",
    "    event = hq.heappop(eventq)\n",
    "    bm = bms[event.bm]\n",
    "    current_node = bm['itinerary'][bm['stop'] % len(bm['itinerary'])]\n",
    "    next_node = bm['itinerary'][(bm['stop']+1) % len(bm['itinerary'])]\n",
    "    print('Fahrzeug {} ist am knoten {}'.format(bm['name'],current_node))\n",
    "    print('Nächterhalt des Fahrzeug {} ist {}'.format(bm['name'],next_node))\n",
    "    if event.action == 'load':\n",
    "        print('Fahrzeug {} load'.format(bm['name']))\n",
    "        free = bm['capacity'] - bm['n_passengers']\n",
    "        print('Fahrzeug {} hat {} Pläze frei'.format(bm['name'],free))\n",
    "        while bm['n_passengers'] < bm['capacity']:\n",
    "            #waiting = [idx for idx, passenger in enumerate(passengers[current_node]) if passenger['bm'] == event.bm]\n",
    "            waiting = [idx for idx, passenger in enumerate(passengers[current_node]) if passenger['station'] in bm['itinerary']]\n",
    "            print(waiting)\n",
    "            if not waiting:\n",
    "                break\n",
    "            passenger = passengers[current_node].pop(waiting[0])\n",
    "            print(passenger)\n",
    "            bm['n_passengers'] += 1\n",
    "            hq.heappush(eventq, Event(event.time + passenger['exit_time'],'exit', event.bm))\n",
    "            print(event.time+passenger['exit_time'])\n",
    "        hq.heappush(eventq, Event(event.time+150, 'load', event.bm))\n",
    "        bm['stop'] += 1\n",
    "        # Generate events for exiting passengers\n",
    "    elif event.action == 'exit':\n",
    "        print('Fahrzeug {}, Passagiere exit'.format(bm['name']))\n",
    "        bm['n_passengers'] -= 1\n",
    "        print('Es sind {}'.format(bm['n_passengers']))\n",
    "    else:\n",
    "        raise Exception('Unknown event action')"
   ]
  },
  {
   "cell_type": "code",
   "execution_count": null,
   "metadata": {},
   "outputs": [],
   "source": [
    "bms = [{'n_passengers': 0, 'capacity': 3, 'stop': 0, 'itinerary': [0, 1], 'name': 0},\n",
    "       {'n_passengers': 0, 'capacity': 3, 'stop': 1, 'itinerary': [0, 1], 'name': 1}]\n",
    "pint(evne)"
   ]
  },
  {
   "cell_type": "code",
   "execution_count": null,
   "metadata": {
    "scrolled": true
   },
   "outputs": [],
   "source": [
    "passengers = [[Passenger(0,120)]*5, [Passenger(0,120)]*2]\n",
    "bms = [BM(0,3,0,[0,1])]\n",
    "event0 = Event(0,'load',0) \n",
    "eventq = []\n",
    "hq.heappush(eventq, event0)\n",
    "\n",
    "\n",
    "while eventq:\n",
    "    event = hq.heappop(eventq)\n",
    "    print(event)\n",
    "    bahn = bms[event.bm]\n",
    "    curent_node = bahn.itinerary [bahn.stop % len(bahn.itinerary)]\n",
    "    next_node =  bahn.itinerary [(bahn.stop +1)  % len(bahn.itinerary)]\n",
    "    print(curent_node)\n",
    "    print(next_node)\n",
    "    if event.action == 'load':\n",
    "        #free = bahn.capacity - bahn.passenger\n",
    "        while bahn.passenger < bahn.capacity:\n",
    "            waiting = [idx for idx, passenger in enumerate(passengers[curent_node]) if passenger.bm == event.bm]\n",
    "            print(waiting)\n",
    "            if not waiting:\n",
    "                break\n",
    "            passenger = passengers[curent_node].pop(waiting[0])\n",
    "            print(passenger)\n",
    "            bahn.passenger += 1\n",
    "            hq.heappush(eventq, Event(event.time + passenger.exit,'exit', event.bm))\n",
    "            print(eventq)\n",
    "        hq.heappush(eventq, Event(event.time+150, 'load', event.bm))\n",
    "        print(eventq)\n",
    "        bahn.stop = next_node\n",
    "    elif event.action == 'exit':\n",
    "        bahn.passenger -= 1\n",
    "    else:\n",
    "        raise Exception('Unknown event action')"
   ]
  },
  {
   "cell_type": "code",
   "execution_count": null,
   "metadata": {},
   "outputs": [],
   "source": []
  }
 ],
 "metadata": {
  "kernelspec": {
   "display_name": "Python 3",
   "language": "python",
   "name": "python3"
  },
  "language_info": {
   "codemirror_mode": {
    "name": "ipython",
    "version": 3
   },
   "file_extension": ".py",
   "mimetype": "text/x-python",
   "name": "python",
   "nbconvert_exporter": "python",
   "pygments_lexer": "ipython3",
   "version": "3.6.6"
  }
 },
 "nbformat": 4,
 "nbformat_minor": 2
}
