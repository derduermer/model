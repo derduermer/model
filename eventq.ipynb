{
 "cells": [
  {
   "cell_type": "code",
   "execution_count": null,
   "metadata": {},
   "outputs": [],
   "source": [
    "import heapq as hq\n",
    "\n",
    "\"\"\"\n",
    "class Passenger:\n",
    "    def __init__(self, BM, exit_time):\n",
    "        self.bm = BM\n",
    "        self.exit = exit_time\n",
    "    def __lt__(self, other):\n",
    "        return (self.exit, self.bm) < \\\n",
    "               (other.exit, other.bm)\n",
    "\n",
    "class BM:\n",
    "    def __init__(self, passenger, capacity, stop, itinerary):\n",
    "        self.passenger = passenger\n",
    "        self.capacity = capacity\n",
    "        self.stop = stop\n",
    "        self.itinerary = itinerary\n",
    "    def __le__(self, other):\n",
    "        pass\n",
    "\"\"\"\n",
    "\n",
    "class Event:\n",
    "    def __init__(self, time, action, bm):\n",
    "        self.time = time\n",
    "        self.action = action\n",
    "        self.bm = bm\n",
    "    def __lt__(self, other):\n",
    "        return (self.time, self.bm) < (other.time, other.bm)\n",
    "    def __le__(self, other):\n",
    "        return (self.time, self.bm) <= (other.time, other.bm)"
   ]
  },
  {
   "cell_type": "code",
   "execution_count": null,
   "metadata": {},
   "outputs": [],
   "source": [
    "def solve(eventq):\n",
    "    while eventq:\n",
    "        event = hq.heappop(eventq)\n",
    "        bm = bms[event.bm]\n",
    "        current_node = bm['itinerary'][bm['stop'] % len(bm['itinerary'])]\n",
    "        next_node = bm['itinerary'][(bm['stop']+1) % len(bm['itinerary'])]\n",
    "        print('Fahrzeug {} ist am Knoten {}'.format(bm['name'],current_node))\n",
    "        print('Nächter Halt des Fahrzeugs {} ist {}'.format(bm['name'],next_node))\n",
    "        if event.action == 'load':\n",
    "            print('Fahrzeug {} load'.format(bm['name']))\n",
    "            free = bm['capacity'] - bm['n_passengers']\n",
    "            print('Fahrzeug {} hat {} Plätze frei'.format(bm['name'],free))\n",
    "            while bm['n_passengers'] < bm['capacity']:\n",
    "                #waiting = [idx for idx, passenger in enumerate(passengers[current_node]) if passenger['bm'] == event.bm]\n",
    "                waiting = [idx for idx, passenger in enumerate(passengers[current_node]) if passenger['station'] in bm['itinerary']]\n",
    "                print('Warten:', waiting)\n",
    "                if not waiting:\n",
    "                    break\n",
    "                passenger = passengers[current_node].pop(waiting[0])\n",
    "                print('Passagier:', passenger)\n",
    "                bm['n_passengers'] += 1\n",
    "                hq.heappush(eventq, Event(event.time + passenger['exit_time'],'exit', event.bm))\n",
    "                print('time:', event.time+passenger['exit_time'])\n",
    "            hq.heappush(eventq, Event(event.time+150, 'load', event.bm))\n",
    "            bm['stop'] += 1\n",
    "            # Generate events for exiting passengers\n",
    "        elif event.action == 'exit':\n",
    "            print('Fahrzeug {}, Passagiere exit'.format(bm['name']))\n",
    "            print('Es sind {}'.format(bm['n_passengers']), 'Passagiere in der Bahn')\n",
    "            bm['n_passengers'] -= 1\n",
    "        else:\n",
    "            raise Exception('Unknown event action')\n",
    "\n"
   ]
  },
  {
   "cell_type": "code",
   "execution_count": null,
   "metadata": {},
   "outputs": [],
   "source": [
    "passengers = [[{'station': 1, 'exit_time': 60}]*8 + [{'station': 2, 'exit_time':120}]*2,\n",
    "              [{'station': 0, 'exit_time':110}]*8 + [{'station': 2, 'exit_time': 60}]*2,\n",
    "              [{'station': 0, 'exit_time': 50}]*0 + [{'station': 2, 'exit_time':110}]*0]\n",
    "bms = [{'n_passengers': 0, 'capacity': 3, 'stop': 0, 'itinerary': [0, 1], 'name': 0},\n",
    "       {'n_passengers': 0, 'capacity': 5, 'stop': 1, 'itinerary': [0, 1, 2], 'name': 1}]\n",
    "\n",
    "event0 = Event(0,'load',0)\n",
    "event1 = Event(0,'load',1)\n",
    "eventq = []\n",
    "hq.heappush(eventq, event0)\n",
    "hq.heappush(eventq, event1)"
   ]
  },
  {
   "cell_type": "code",
   "execution_count": null,
   "metadata": {},
   "outputs": [],
   "source": [
    "solve(eventq)"
   ]
  },
  {
   "cell_type": "markdown",
   "metadata": {},
   "source": []
  }
 ],
 "metadata": {
  "kernelspec": {
   "display_name": "Python 3",
   "language": "python",
   "name": "python3"
  },
  "language_info": {
   "codemirror_mode": {
    "name": "ipython",
    "version": 3
   },
   "file_extension": ".py",
   "mimetype": "text/x-python",
   "name": "python",
   "nbconvert_exporter": "python",
   "pygments_lexer": "ipython3",
   "version": "3.6.6"
  }
 },
 "nbformat": 4,
 "nbformat_minor": 2
}
