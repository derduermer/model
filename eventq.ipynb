{
 "cells": [
  {
   "cell_type": "code",
   "execution_count": 46,
   "metadata": {},
   "outputs": [],
   "source": [
    "import heapq as hq\n",
    "\n",
    "class passenger:\n",
    "    def __init__(self, BM, exit_time):\n",
    "        self.bm = BM\n",
    "        self.exit = exit_time\n",
    "    def __lt__(self, other):\n",
    "        return (self.exit, self.bm) < \\\n",
    "               (other.exit, other.bm)\n",
    "\n",
    "class bm:\n",
    "    def __init__(self, n_passenger, capacity, stop, itinerary):\n",
    "        self.passenger = n_passenger\n",
    "        self.capacity = capacity\n",
    "        self.stop = stop\n",
    "        self.itinerary = itinerary\n",
    "    def __le__(self, other):\n",
    "        pass"
   ]
  },
  {
   "cell_type": "code",
   "execution_count": 53,
   "metadata": {},
   "outputs": [],
   "source": [
    "p0 = passenger(0,0)\n",
    "p1 = passenger(-1,1)"
   ]
  },
  {
   "cell_type": "code",
   "execution_count": 54,
   "metadata": {},
   "outputs": [
    {
     "data": {
      "text/plain": [
       "True"
      ]
     },
     "execution_count": 54,
     "metadata": {},
     "output_type": "execute_result"
    }
   ],
   "source": [
    "p0 < p1"
   ]
  },
  {
   "cell_type": "code",
   "execution_count": null,
   "metadata": {},
   "outputs": [],
   "source": []
  }
 ],
 "metadata": {
  "kernelspec": {
   "display_name": "Python 3",
   "language": "python",
   "name": "python3"
  },
  "language_info": {
   "codemirror_mode": {
    "name": "ipython",
    "version": 3
   },
   "file_extension": ".py",
   "mimetype": "text/x-python",
   "name": "python",
   "nbconvert_exporter": "python",
   "pygments_lexer": "ipython3",
   "version": "3.6.6"
  }
 },
 "nbformat": 4,
 "nbformat_minor": 2
}
