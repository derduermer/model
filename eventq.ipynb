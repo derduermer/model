{
 "cells": [
  {
   "cell_type": "code",
   "execution_count": 1,
   "metadata": {},
   "outputs": [],
   "source": [
    "import heapq as hq\n",
    "import networkx as nx\n",
    "import matplotlib.pyplot as plt\n",
    "from random import shuffle\n",
    "\n",
    "class Event:\n",
    "    def __init__(self, time, action, bm):\n",
    "        self.time = time\n",
    "        self.action = action\n",
    "        self.bm = bm\n",
    "    def __lt__(self, other):\n",
    "        return (self.time, self.bm) < (other.time, other.bm)\n",
    "    def __le__(self, other):\n",
    "        return (self.time, self.bm) <= (other.time, other.bm)\n",
    "\n",
    "def shuffle0(passengers):\n",
    "    for i in range(len(passengers)):\n",
    "        x = [j for j in range(len(passengers[i]))]\n",
    "        shuffle(x)\n",
    "        passengers[i] = [passengers[i][k] for k in x]\n",
    "\n",
    "def calc_pic(grah, ListeColor, ListeSize):\n",
    "    nx.draw_kamada_kawai(graph, with_labels = True, node_color = ListeColor, node_size = ListeSize)"
   ]
  },
  {
   "cell_type": "code",
   "execution_count": 2,
   "metadata": {},
   "outputs": [],
   "source": [
    "def solve(eventq, passengers, bms, graph):\n",
    "    ListeNodes = list(graph.node)\n",
    "    ListeColor = ['blue']*len(ListeNodes)\n",
    "    #save(passengers, bms)\n",
    "    while eventq:\n",
    "        # Abbruch Bedingung\n",
    "        if ([len(passengers[i]) == 0 for i in range(len(passengers))] == [True]*len(passengers)) and ([bms[i]['n_passengers'] == 0 for i in range(len(bms))] == [True]*len(bms)):\n",
    "            return print('Ende')\n",
    "        event = hq.heappop(eventq)\n",
    "        bm = bms[event.bm]\n",
    "        current_node = bm['itinerary'][bm['stop'] % len(bm['itinerary'])]\n",
    "        next_node = bm['itinerary'][(bm['stop']+1) % len(bm['itinerary'])]\n",
    "        current_node_time_idx = (bm['stop'] % len(bm['itinerary']))%len(bm['t_times'])\n",
    "        print('Fahrzeug {} ist am Knoten {}, der nächste Halt {}'.format(bm['name'],current_node, next_node))\n",
    "        \n",
    "        ListeSize = [len(i)*100 for i in passengers]\n",
    "        ListeColor[current_node] = bm['color']\n",
    "        calc_pic(graph, ListeColor, ListeSize)\n",
    "        #plt.savefig(\"img/{}.png\".format(event.time))\n",
    "        plt.show()\n",
    "        ListeColor[current_node] = 'blue'\n",
    "        \n",
    "        if event.action == 'load':\n",
    "            free = bm['capacity'] - bm['n_passengers']\n",
    "            print('Fahrzeug {} load'.format(bm['name']))\n",
    "            print('Fahrzeug {} hat {} Plätze frei'.format(bm['name'],free))\n",
    "            while bm['n_passengers'] < bm['capacity']:\n",
    "                waiting = [idx for idx, passenger in enumerate(passengers[current_node]) if passenger['station'] in bm['itinerary']]\n",
    "                #print('Warten: {}'.format(waiting))\n",
    "                if not waiting:\n",
    "                    break\n",
    "                passenger = passengers[current_node].pop(waiting[0])\n",
    "                #print('Passagier:', passenger)\n",
    "                bm['n_passengers'] += 1\n",
    "                hq.heappush(eventq, Event(event.time + passenger['exit_time'],'exit', event.bm))\n",
    "                #print('time:', event.time+passenger['exit_time'])\n",
    "            hq.heappush(eventq, Event(event.time + bm['t_times'][current_node_time_idx], 'load', event.bm))\n",
    "            bm['stop'] += 1\n",
    "        #ListeColor[current_node] = 'blue'\n",
    "        # Generate events for exiting passengers\n",
    "        elif event.action == 'exit':\n",
    "            print('Fahrzeug {}, Passagiere steigen aus, time {}'.format(bm['name'], event.time))\n",
    "            bm['n_passengers'] -= 1\n",
    "            print('Es sind {} Passagiere in der Bahn'.format(bm['n_passengers']))\n",
    "        else:\n",
    "            raise Exception('Unknown event action')"
   ]
  },
  {
   "cell_type": "code",
   "execution_count": 3,
   "metadata": {
    "scrolled": true
   },
   "outputs": [],
   "source": [
    "graph = nx.Graph()\n",
    "\n",
    "graph.add_node('A')\n",
    "graph.add_node('B')\n",
    "graph.add_node('C')\n",
    "\n",
    "ListeNodes = list(graph.node)\n",
    "\n",
    "    \n",
    "graph.add_edge(ListeNodes[0],ListeNodes[1])\n",
    "graph.add_edge(ListeNodes[1],ListeNodes[0])\n",
    "graph.add_edge(ListeNodes[0],ListeNodes[2])\n",
    "graph.add_edge(ListeNodes[2],ListeNodes[0])\n",
    "graph.add_edge(ListeNodes[1],ListeNodes[2])\n",
    "graph.add_edge(ListeNodes[2],ListeNodes[1])\n"
   ]
  },
  {
   "cell_type": "code",
   "execution_count": 5,
   "metadata": {},
   "outputs": [
    {
     "name": "stdout",
     "output_type": "stream",
     "text": [
      "[[{'station': 1, 'exit_time': 10}, {'station': 1, 'exit_time': 10}, {'station': 1, 'exit_time': 10}, {'station': 1, 'exit_time': 10}, {'station': 1, 'exit_time': 10}, {'station': 1, 'exit_time': 10}, {'station': 1, 'exit_time': 10}, {'station': 1, 'exit_time': 10}, {'station': 1, 'exit_time': 10}, {'station': 1, 'exit_time': 10}, {'station': 1, 'exit_time': 10}, {'station': 1, 'exit_time': 10}, {'station': 1, 'exit_time': 10}, {'station': 1, 'exit_time': 10}, {'station': 1, 'exit_time': 10}, {'station': 1, 'exit_time': 10}, {'station': 1, 'exit_time': 10}, {'station': 1, 'exit_time': 10}, {'station': 1, 'exit_time': 10}, {'station': 1, 'exit_time': 10}, {'station': 2, 'exit_time': 20}, {'station': 2, 'exit_time': 20}, {'station': 2, 'exit_time': 20}, {'station': 2, 'exit_time': 20}, {'station': 2, 'exit_time': 20}, {'station': 2, 'exit_time': 20}, {'station': 2, 'exit_time': 20}, {'station': 2, 'exit_time': 20}, {'station': 2, 'exit_time': 20}, {'station': 2, 'exit_time': 20}, {'station': 2, 'exit_time': 20}, {'station': 2, 'exit_time': 20}, {'station': 2, 'exit_time': 20}, {'station': 2, 'exit_time': 20}, {'station': 2, 'exit_time': 20}, {'station': 2, 'exit_time': 20}, {'station': 2, 'exit_time': 20}, {'station': 2, 'exit_time': 20}, {'station': 2, 'exit_time': 20}, {'station': 2, 'exit_time': 20}], [{'station': 0, 'exit_time': 20}, {'station': 0, 'exit_time': 20}, {'station': 0, 'exit_time': 20}, {'station': 0, 'exit_time': 20}, {'station': 0, 'exit_time': 20}, {'station': 0, 'exit_time': 20}, {'station': 0, 'exit_time': 20}, {'station': 0, 'exit_time': 20}, {'station': 0, 'exit_time': 20}, {'station': 0, 'exit_time': 20}, {'station': 0, 'exit_time': 20}, {'station': 0, 'exit_time': 20}, {'station': 0, 'exit_time': 20}, {'station': 0, 'exit_time': 20}, {'station': 0, 'exit_time': 20}, {'station': 0, 'exit_time': 20}, {'station': 0, 'exit_time': 20}, {'station': 0, 'exit_time': 20}, {'station': 0, 'exit_time': 20}, {'station': 0, 'exit_time': 20}, {'station': 2, 'exit_time': 10}, {'station': 2, 'exit_time': 10}, {'station': 2, 'exit_time': 10}, {'station': 2, 'exit_time': 10}, {'station': 2, 'exit_time': 10}, {'station': 2, 'exit_time': 10}, {'station': 2, 'exit_time': 10}, {'station': 2, 'exit_time': 10}, {'station': 2, 'exit_time': 10}, {'station': 2, 'exit_time': 10}, {'station': 2, 'exit_time': 10}, {'station': 2, 'exit_time': 10}, {'station': 2, 'exit_time': 10}, {'station': 2, 'exit_time': 10}, {'station': 2, 'exit_time': 10}, {'station': 2, 'exit_time': 10}, {'station': 2, 'exit_time': 10}, {'station': 2, 'exit_time': 10}, {'station': 2, 'exit_time': 10}, {'station': 2, 'exit_time': 10}], [{'station': 0, 'exit_time': 10}, {'station': 0, 'exit_time': 10}, {'station': 0, 'exit_time': 10}, {'station': 0, 'exit_time': 10}, {'station': 0, 'exit_time': 10}, {'station': 0, 'exit_time': 10}, {'station': 0, 'exit_time': 10}, {'station': 0, 'exit_time': 10}, {'station': 0, 'exit_time': 10}, {'station': 0, 'exit_time': 10}, {'station': 0, 'exit_time': 10}, {'station': 0, 'exit_time': 10}, {'station': 0, 'exit_time': 10}, {'station': 0, 'exit_time': 10}, {'station': 0, 'exit_time': 10}, {'station': 0, 'exit_time': 10}, {'station': 0, 'exit_time': 10}, {'station': 0, 'exit_time': 10}, {'station': 0, 'exit_time': 10}, {'station': 0, 'exit_time': 10}, {'station': 1, 'exit_time': 20}, {'station': 1, 'exit_time': 20}, {'station': 1, 'exit_time': 20}, {'station': 1, 'exit_time': 20}, {'station': 1, 'exit_time': 20}, {'station': 1, 'exit_time': 20}, {'station': 1, 'exit_time': 20}, {'station': 1, 'exit_time': 20}, {'station': 1, 'exit_time': 20}, {'station': 1, 'exit_time': 20}, {'station': 1, 'exit_time': 20}, {'station': 1, 'exit_time': 20}, {'station': 1, 'exit_time': 20}, {'station': 1, 'exit_time': 20}, {'station': 1, 'exit_time': 20}, {'station': 1, 'exit_time': 20}, {'station': 1, 'exit_time': 20}, {'station': 1, 'exit_time': 20}, {'station': 1, 'exit_time': 20}, {'station': 1, 'exit_time': 20}]]\n",
      "[[{'station': 1, 'exit_time': 10}, {'station': 2, 'exit_time': 20}, {'station': 1, 'exit_time': 10}, {'station': 2, 'exit_time': 20}, {'station': 2, 'exit_time': 20}, {'station': 1, 'exit_time': 10}, {'station': 1, 'exit_time': 10}, {'station': 2, 'exit_time': 20}, {'station': 1, 'exit_time': 10}, {'station': 2, 'exit_time': 20}, {'station': 1, 'exit_time': 10}, {'station': 2, 'exit_time': 20}, {'station': 2, 'exit_time': 20}, {'station': 2, 'exit_time': 20}, {'station': 1, 'exit_time': 10}, {'station': 2, 'exit_time': 20}, {'station': 2, 'exit_time': 20}, {'station': 2, 'exit_time': 20}, {'station': 1, 'exit_time': 10}, {'station': 1, 'exit_time': 10}, {'station': 1, 'exit_time': 10}, {'station': 1, 'exit_time': 10}, {'station': 1, 'exit_time': 10}, {'station': 1, 'exit_time': 10}, {'station': 1, 'exit_time': 10}, {'station': 1, 'exit_time': 10}, {'station': 2, 'exit_time': 20}, {'station': 1, 'exit_time': 10}, {'station': 2, 'exit_time': 20}, {'station': 2, 'exit_time': 20}, {'station': 1, 'exit_time': 10}, {'station': 2, 'exit_time': 20}, {'station': 1, 'exit_time': 10}, {'station': 2, 'exit_time': 20}, {'station': 2, 'exit_time': 20}, {'station': 2, 'exit_time': 20}, {'station': 2, 'exit_time': 20}, {'station': 2, 'exit_time': 20}, {'station': 1, 'exit_time': 10}, {'station': 1, 'exit_time': 10}], [{'station': 0, 'exit_time': 20}, {'station': 2, 'exit_time': 10}, {'station': 0, 'exit_time': 20}, {'station': 2, 'exit_time': 10}, {'station': 0, 'exit_time': 20}, {'station': 2, 'exit_time': 10}, {'station': 0, 'exit_time': 20}, {'station': 0, 'exit_time': 20}, {'station': 2, 'exit_time': 10}, {'station': 2, 'exit_time': 10}, {'station': 0, 'exit_time': 20}, {'station': 0, 'exit_time': 20}, {'station': 2, 'exit_time': 10}, {'station': 0, 'exit_time': 20}, {'station': 2, 'exit_time': 10}, {'station': 0, 'exit_time': 20}, {'station': 0, 'exit_time': 20}, {'station': 0, 'exit_time': 20}, {'station': 0, 'exit_time': 20}, {'station': 2, 'exit_time': 10}, {'station': 2, 'exit_time': 10}, {'station': 2, 'exit_time': 10}, {'station': 2, 'exit_time': 10}, {'station': 2, 'exit_time': 10}, {'station': 2, 'exit_time': 10}, {'station': 0, 'exit_time': 20}, {'station': 2, 'exit_time': 10}, {'station': 0, 'exit_time': 20}, {'station': 2, 'exit_time': 10}, {'station': 0, 'exit_time': 20}, {'station': 0, 'exit_time': 20}, {'station': 2, 'exit_time': 10}, {'station': 0, 'exit_time': 20}, {'station': 2, 'exit_time': 10}, {'station': 0, 'exit_time': 20}, {'station': 2, 'exit_time': 10}, {'station': 0, 'exit_time': 20}, {'station': 0, 'exit_time': 20}, {'station': 2, 'exit_time': 10}, {'station': 2, 'exit_time': 10}], [{'station': 0, 'exit_time': 10}, {'station': 0, 'exit_time': 10}, {'station': 1, 'exit_time': 20}, {'station': 1, 'exit_time': 20}, {'station': 1, 'exit_time': 20}, {'station': 1, 'exit_time': 20}, {'station': 0, 'exit_time': 10}, {'station': 0, 'exit_time': 10}, {'station': 1, 'exit_time': 20}, {'station': 1, 'exit_time': 20}, {'station': 0, 'exit_time': 10}, {'station': 1, 'exit_time': 20}, {'station': 1, 'exit_time': 20}, {'station': 1, 'exit_time': 20}, {'station': 0, 'exit_time': 10}, {'station': 1, 'exit_time': 20}, {'station': 1, 'exit_time': 20}, {'station': 1, 'exit_time': 20}, {'station': 0, 'exit_time': 10}, {'station': 0, 'exit_time': 10}, {'station': 1, 'exit_time': 20}, {'station': 0, 'exit_time': 10}, {'station': 1, 'exit_time': 20}, {'station': 0, 'exit_time': 10}, {'station': 0, 'exit_time': 10}, {'station': 1, 'exit_time': 20}, {'station': 0, 'exit_time': 10}, {'station': 0, 'exit_time': 10}, {'station': 0, 'exit_time': 10}, {'station': 1, 'exit_time': 20}, {'station': 1, 'exit_time': 20}, {'station': 1, 'exit_time': 20}, {'station': 0, 'exit_time': 10}, {'station': 0, 'exit_time': 10}, {'station': 0, 'exit_time': 10}, {'station': 1, 'exit_time': 20}, {'station': 0, 'exit_time': 10}, {'station': 0, 'exit_time': 10}, {'station': 1, 'exit_time': 20}, {'station': 0, 'exit_time': 10}]]\n"
     ]
    }
   ],
   "source": [
    "passengers = [#\n",
    "    [{'station': 1, 'exit_time': 10}]*20 + [{'station': 2, 'exit_time': 20}]*20,  # 0 => Station 'A'\n",
    "    [{'station': 0, 'exit_time': 20}]*20 + [{'station': 2, 'exit_time': 10}]*20, # 1 => Station 'B'\n",
    "    [{'station': 0, 'exit_time': 10}]*20 + [{'station': 1, 'exit_time': 20}]*20  # 2 => Station 'C'\n",
    "                  ]#\n",
    "bms = [{'color': '#fff000', 'n_passengers': 0, 'capacity': 5, 'stop': 0, 'itinerary': [2, 1, 0], 'name': 0, 't_times': [12, 12, 12]},\n",
    "    {'color': '#ff00f0', 'n_passengers': 0, 'capacity': 5, 'stop': 0, 'itinerary': [0, 1, 2, 1], 'name': 1, 't_times': [12, 12, 12]}\n",
    "       ]#\n",
    "\n",
    " \n",
    "# shuffle passengers\n",
    "shuffle0(passengers)\n",
    "print(passengers)\n",
    "\n",
    "event0 = Event(0,'load',0)\n",
    "event1 = Event(0,'load',1)\n",
    "eventq = []\n",
    "hq.heappush(eventq, event0)\n",
    "hq.heappush(eventq, event1)"
   ]
  },
  {
   "cell_type": "code",
   "execution_count": null,
   "metadata": {
    "scrolled": false
   },
   "outputs": [],
   "source": [
    "solve(eventq, passengers, bms, graph)"
   ]
  },
  {
   "cell_type": "markdown",
   "metadata": {},
   "source": []
  }
 ],
 "metadata": {
  "kernelspec": {
   "display_name": "Python 3",
   "language": "python",
   "name": "python3"
  },
  "language_info": {
   "codemirror_mode": {
    "name": "ipython",
    "version": 3
   },
   "file_extension": ".py",
   "mimetype": "text/x-python",
   "name": "python",
   "nbconvert_exporter": "python",
   "pygments_lexer": "ipython3",
   "version": "3.7.1"
  }
 },
 "nbformat": 4,
 "nbformat_minor": 2
}
