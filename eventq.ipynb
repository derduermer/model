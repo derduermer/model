{
 "cells": [
  {
   "cell_type": "code",
   "execution_count": null,
   "metadata": {},
   "outputs": [],
   "source": [
    "import heapq as hq\n",
    "#import networkx as nx\n",
    "from random import shuffle\n",
    "\n",
    "class Event:\n",
    "    def __init__(self, time, action, bm):\n",
    "        self.time = time\n",
    "        self.action = action\n",
    "        self.bm = bm\n",
    "    def __lt__(self, other):\n",
    "        return (self.time, self.bm) < (other.time, other.bm)\n",
    "    def __le__(self, other):\n",
    "        return (self.time, self.bm) <= (other.time, other.bm)"
   ]
  },
  {
   "cell_type": "code",
   "execution_count": null,
   "metadata": {},
   "outputs": [],
   "source": [
    "def solve(eventq, passengers):\n",
    "    while eventq:\n",
    "        if [len(passengers[i]) == 0 for i in range(len(passengers))] == [True]*len(passengers):\n",
    "            return 'Ende'\n",
    "        event = hq.heappop(eventq)\n",
    "        bm = bms[event.bm]\n",
    "        current_node = bm['itinerary'][bm['stop'] % len(bm['itinerary'])]\n",
    "        next_node = bm['itinerary'][(bm['stop']+1) % len(bm['itinerary'])]\n",
    "        print('Fahrzeug {} ist am Knoten {}, der nächste Halt {}'.format(bm['name'],current_node, next_node))\n",
    "        if event.action == 'load':\n",
    "            free = bm['capacity'] - bm['n_passengers']\n",
    "            print('Fahrzeug {} load'.format(bm['name']))\n",
    "            print('Fahrzeug {} hat {} Plätze frei'.format(bm['name'],free))\n",
    "            while bm['n_passengers'] < bm['capacity']:\n",
    "                waiting = [idx for idx, passenger in enumerate(passengers[current_node]) if passenger['station'] in bm['itinerary']]\n",
    "                print('Warten: {}'.format(waiting))\n",
    "                if not waiting:\n",
    "                    break\n",
    "                passenger = passengers[current_node].pop(waiting[0])\n",
    "                print('Passagier:', passenger)\n",
    "                bm['n_passengers'] += 1\n",
    "                hq.heappush(eventq, Event(event.time + passenger['exit_time'],'exit', event.bm))\n",
    "                print('time:', event.time+passenger['exit_time'])\n",
    "            hq.heappush(eventq, Event(event.time+125, 'load', event.bm))\n",
    "            bm['stop'] += 1\n",
    "            # Generate events for exiting passengers\n",
    "        elif event.action == 'exit':\n",
    "            print('Fahrzeug {}, Passagiere steigenaus'.format(bm['name']))\n",
    "            print('Es sind {} Passagiere in der Bahn'.format(bm['n_passengers']))\n",
    "            bm['n_passengers'] -= 1\n",
    "        else:\n",
    "            raise Exception('Unknown event action')\n",
    "\n"
   ]
  },
  {
   "cell_type": "code",
   "execution_count": null,
   "metadata": {},
   "outputs": [],
   "source": [
    "def shuffle0(passengers):\n",
    "    for i in range(len(passengers)):\n",
    "        x = [j for j in range(len(passengers[i]))]\n",
    "        shuffle(x)\n",
    "        passengers[i] = [passengers[i][k] for k in x]"
   ]
  },
  {
   "cell_type": "code",
   "execution_count": null,
   "metadata": {
    "scrolled": false
   },
   "outputs": [],
   "source": [
    "passengers = [#\n",
    "    [{'station': 1, 'exit_time': 10}]*10+ [{'station': 2, 'exit_time': 20}]*10,#\n",
    "    [{'station': 0, 'exit_time': 20}]*52 + [{'station': 2, 'exit_time': 10}]*10,#\n",
    "    [{'station': 0, 'exit_time': 10}]*23 + [{'station': 1, 'exit_time': 20}]*10#\n",
    "              ]#\n",
    "bms = [{'n_passengers': 0, 'capacity': 10, 'stop': 0, 'itinerary': [0, 1], 'name': 0},\n",
    "       {'n_passengers': 0, 'capacity': 10, 'stop': 0, 'itinerary': [0, 1, 2, 1], 'name': 1, 't_times': [60, 50, 55]}]\n",
    "\n",
    "# shuffle passengers\n",
    "shuffle0(passengers)\n",
    "\n",
    "event0 = Event(0,'load',0)\n",
    "event1 = Event(1,'load',1)\n",
    "eventq = []\n",
    "hq.merge(eventq, event0)\n",
    "hq.heappush(eventq, event1)"
   ]
  },
  {
   "cell_type": "code",
   "execution_count": null,
   "metadata": {
    "scrolled": false
   },
   "outputs": [],
   "source": [
    "solve(eventq, passengers)"
   ]
  },
  {
   "cell_type": "markdown",
   "metadata": {},
   "source": []
  }
 ],
 "metadata": {
  "kernelspec": {
   "display_name": "Python 3",
   "language": "python",
   "name": "python3"
  },
  "language_info": {
   "codemirror_mode": {
    "name": "ipython",
    "version": 3
   },
   "file_extension": ".py",
   "mimetype": "text/x-python",
   "name": "python",
   "nbconvert_exporter": "python",
   "pygments_lexer": "ipython3",
   "version": "3.6.6"
  }
 },
 "nbformat": 4,
 "nbformat_minor": 2
}
