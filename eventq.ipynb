{
 "cells": [
  {
   "cell_type": "code",
<<<<<<< HEAD
   "execution_count": null,
=======
   "execution_count": 1,
>>>>>>> source/networkx
   "metadata": {},
   "outputs": [],
   "source": [
    "import heapq as hq\n",
    "import networkx as nx\n",
    "import matplotlib.pyplot as plt\n",
    "from random import shuffle\n",
    "\n",
    "class Event:\n",
    "    def __init__(self, time, action, bm):\n",
    "        self.time = time\n",
    "        self.action = action\n",
    "        self.bm = bm\n",
    "    def __lt__(self, other):\n",
    "        return (self.time, self.bm) < (other.time, other.bm)\n",
    "    def __le__(self, other):\n",
    "        return (self.time, self.bm) <= (other.time, other.bm)\n",
    "\n",
    "def shuffle0(passengers):\n",
    "    for i in range(len(passengers)):\n",
    "        x = [j for j in range(len(passengers[i]))]\n",
    "        shuffle(x)\n",
    "        passengers[i] = [passengers[i][k] for k in x]\n",
    "\n",
    "#def save(passengers, bms): # vielleicht?\n",
    "    "
   ]
  },
  {
   "cell_type": "code",
<<<<<<< HEAD
   "execution_count": null,
   "metadata": {},
   "outputs": [],
=======
   "execution_count": 3,
   "metadata": {
    "scrolled": true
   },
   "outputs": [
    {
     "name": "stderr",
     "output_type": "stream",
     "text": [
      "/home/phil/anaconda3/lib/python3.6/site-packages/networkx/drawing/nx_pylab.py:611: MatplotlibDeprecationWarning: isinstance(..., numbers.Number)\n",
      "  if cb.is_numlike(alpha):\n"
     ]
    },
    {
     "data": {
      "image/png": "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\n",
      "text/plain": [
       "<Figure size 432x288 with 1 Axes>"
      ]
     },
     "metadata": {},
     "output_type": "display_data"
    }
   ],
>>>>>>> source/networkx
   "source": [
    "graph = nx.\n",
    "\n",
    "graph.add_node(0, node_color = 'green')\n",
    "graph.add_node(1)\n",
    "graph.add_node(2)\n",
    "\n",
    "graph.add_edge(0,1)\n",
    "graph.add_edge(1,2)\n",
    "graph.add_edge(0,2)\n",
    "\n",
    "\n",
    "\n",
    "nx.draw_kamada_kawai(graph,with_labels = True, font_weight = 'bold')"
   ]
  },
  {
   "cell_type": "code",
<<<<<<< HEAD
   "execution_count": null,
   "metadata": {},
   "outputs": [],
   "source": [
    "G = nx.Graph()\n",
    "pos = nx.spring_layout(G)\n",
    "\n",
    "nx.draw_networkx_nodes(G,pos,\n",
    "                       nodelist=[0,1,2],\n",
    "                       node_color='g',\n",
    "                       node_size=500,\n",
    "                      alpha=0.8)\n",
    "\n",
    "nx.draw_networkx_edges(G,pos,\n",
    "                    edgeslist=[(0,1),(0,2),(1,2)],\n",
    "                    width=8,alpha=0.5,edge_color='r')\n",
    "\n",
    "labels={}\n",
    "labels[0]=r'$a$'\n",
    "labels[1]=r'$b$'\n",
    "labels[2]=r'$c$'\n",
    "\n",
    "nx.draw_networkx_labels(G,pos,labels,font_size=16)\n",
    "\n",
    "plt.axis('off')\n",
    "plt.savefig(\"labels_and_colors.png\") # save as png\n",
    "plt.show() # display"
=======
   "execution_count": 4,
   "metadata": {},
   "outputs": [
    {
     "name": "stderr",
     "output_type": "stream",
     "text": [
      "/home/phil/anaconda3/lib/python3.6/site-packages/networkx/drawing/nx_pylab.py:611: MatplotlibDeprecationWarning: isinstance(..., numbers.Number)\n",
      "  if cb.is_numlike(alpha):\n"
     ]
    },
    {
     "data": {
      "image/png": "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\n",
      "text/plain": [
       "<Figure size 432x288 with 1 Axes>"
      ]
     },
     "metadata": {},
     "output_type": "display_data"
    }
   ],
   "source": [
    "nx.draw_kamada_kawai(graph, with_labels = True,  node_color = ['red', 'red', 'green'])\n",
    "#plt.savefig(.png) "
>>>>>>> source/networkx
   ]
  },
  {
   "cell_type": "code",
   "execution_count": null,
   "metadata": {},
   "outputs": [],
   "source": [
    "ListeNodes = list(graph.node)\n",
    "def solve(eventq, passengers, bms):\n",
    "    #save(passengers, bms)\n",
    "    while eventq:\n",
    "        if ([len(passengers[i]) == 0 for i in range(len(passengers))] == [True]*len(passengers)) and ([bms[i]['n_passengers'] == 0 for i in range(len(bms))] == [True]*len(bms)):\n",
    "            return print('Ende')\n",
    "        event = hq.heappop(eventq)\n",
    "        bm = bms[event.bm]\n",
    "        current_node = bm['itinerary'][bm['stop'] % len(bm['itinerary'])]\n",
    "        next_node = bm['itinerary'][(bm['stop']+1) % len(bm['itinerary'])]\n",
    "        current_node_time_idx = (bm['stop'] % len(bm['itinerary']))%len(bm['t_times'])\n",
    "        print(graph[ListeNodes[current_node]])\n",
    "        print('Fahrzeug {} ist am Knoten {}, der nächste Halt {}'.format(bm['name'],current_node, next_node))\n",
    "        if event.action == 'load':\n",
    "            free = bm['capacity'] - bm['n_passengers']\n",
    "            print('Fahrzeug {} load'.format(bm['name']))\n",
    "            print('Fahrzeug {} hat {} Plätze frei'.format(bm['name'],free))\n",
    "            while bm['n_passengers'] < bm['capacity']:\n",
    "                waiting = [idx for idx, passenger in enumerate(passengers[current_node]) if passenger['station'] in bm['itinerary']]\n",
    "                #print('Warten: {}'.format(waiting))\n",
    "                if not waiting:\n",
    "                    break\n",
    "                passenger = passengers[current_node].pop(waiting[0])\n",
    "                print('Passagier:', passenger)\n",
    "                bm['n_passengers'] += 1\n",
    "                hq.heappush(eventq, Event(event.time + passenger['exit_time'],'exit', event.bm))\n",
    "                print('time:', event.time+passenger['exit_time'])\n",
    "            hq.heappush(eventq, Event(event.time + bm['t_times'][current_node_time_idx], 'load', event.bm))\n",
    "            bm['stop'] += 1\n",
    "        # Generate events for exiting passengers\n",
    "        elif event.action == 'exit':\n",
    "            print('Fahrzeug {}, Passagiere steigenaus, time {}'.format(bm['name'], event.time))\n",
    "            bm['n_passengers'] -= 1\n",
    "            print('Es sind {} Passagiere in der Bahn'.format(bm['n_passengers']))\n",
    "        else:\n",
    "            raise Exception('Unknown event action')\n",
    "\n"
   ]
  },
  {
   "cell_type": "markdown",
   "metadata": {},
   "source": [
    "# G = nx.Graph()\n",
    "G.add_node('Hbf')\n",
    "G.add_node('INF')\n",
    "G.add_node('Phil')\n",
    "G.add_node('Bism')\n",
    "G.add_node('Uni')\n",
    "G.add_node('Hand')\n",
    "G.add_node('Rohr')\n",
    "G.add_node('Zieg')\n",
    "#Rundfahrt\n",
    "G.add_edge('INF', 'Hbf')\n",
    "G.add_edge('Phil', 'INF')\n",
    "G.add_edge('Uni', 'Phil')\n",
    "G.add_edge('Bism', 'Uni')\n",
    "G.add_edge('Hbf', 'Bism')\n",
    "#Zubringer\n",
    "G.add_edge('INF', 'Hand')\n",
    "G.add_edge('Hbf', 'Rohr')\n",
    "G.add_edge('Uni', 'Zieg')"
   ]
  },
  {
   "cell_type": "code",
   "execution_count": null,
   "metadata": {},
   "outputs": [],
   "source": [
    "passengers = [#\n",
    "    [{'station': 1, 'exit_time': 10}]*100 + [{'station': 2, 'exit_time': 20}]*100,  # 0 => Station 'A'\n",
    "    [{'station': 0, 'exit_time': 20}]*1000 + [{'station': 2, 'exit_time': 10}]*20, # 1 => Station 'B'\n",
    "    [{'station': 0, 'exit_time': 10}]*10 + [{'station': 1, 'exit_time': 20}]*1000  # 2 => Station 'C'\n",
    "              ]#\n",
    "bms = [{'n_passengers': 0, 'capacity': 31, 'stop': 0, 'itinerary': [2, 1, 0, 1], 'name': 0, 't_times': [12, 12, 12]},\n",
    "    {'n_passengers': 0, 'capacity': 20, 'stop': 0, 'itinerary': [0, 1, 2, 1], 'name': 1, 't_times': [12, 12, 12]}\n",
    "       ]#\n",
    "\n",
    " \n",
    "# shuffle passengers\n",
    "shuffle0(passengers)\n",
    "\n",
    "\n",
    "event0 = Event(0,'load',0)\n",
    "event1 = Event(0,'load',1)\n",
    "eventq = []\n",
    "hq.heappush(eventq, event0)\n",
    "hq.heappush(eventq, event1)"
   ]
  },
  {
   "cell_type": "code",
   "execution_count": null,
   "metadata": {
    "scrolled": true
   },
   "outputs": [],
   "source": [
    "solve(eventq, passengers, bms)"
   ]
  },
  {
   "cell_type": "markdown",
   "metadata": {},
   "source": [
    "passengers = [#\n",
    "    [{'station': 'Bism', 'exit_time': 10}]*100 + [{'station': 'Uni', 'exit_time': 20}]*100,#\n",
    "    [{'station': 'Phil', 'exit_time': 20}]*1000 + [{'station': 'Uni', 'exit_time': 10}]*20,#\n",
    "    [{'station': 'Phil', 'exit_time': 10}]*10 + [{'station': 'Bism', 'exit_time': 20}]*1000#\n",
    "              ]#\n",
    "bms = [{'n_passengers': 0, 'capacity': 31, 'stop': 0, 'itinerary': ['Uni', 'Bism', 'Phil', 'Bism'], 'name': 0, 't_times': [12, 12, 12]},\n",
    "       {'n_passengers': 0, 'capacity': 20, 'stop': 0, 'itinerary': ['Phil', 'Bism', 'Uni', 'Bism'], 'name': 1, 't_times': [12, 12, 12]}]\n",
    "\n",
    "# shuffle passengers\n",
    "shuffle0(passengers)\n",
    "\n",
    "\n",
    "\n",
    "event0 = Event(0,'load',0)\n",
    "event1 = Event(0,'load',1)\n",
    "eventq = []\n",
    "hq.heappush(eventq, event0)\n",
    "hq.heappush(eventq, event1)\n",
    "print(eventq)"
   ]
  },
  {
   "cell_type": "markdown",
   "metadata": {},
   "source": []
  }
 ],
 "metadata": {
  "kernelspec": {
   "display_name": "Python 3",
   "language": "python",
   "name": "python3"
  },
  "language_info": {
   "codemirror_mode": {
    "name": "ipython",
    "version": 3
   },
   "file_extension": ".py",
   "mimetype": "text/x-python",
   "name": "python",
   "nbconvert_exporter": "python",
   "pygments_lexer": "ipython3",
   "version": "3.6.8"
  }
 },
 "nbformat": 4,
 "nbformat_minor": 2
}
