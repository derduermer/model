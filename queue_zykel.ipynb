{
 "cells": [
  {
   "cell_type": "markdown",
   "metadata": {},
   "source": [
    "# Schwerer Fall mit 3 Knoten"
   ]
  },
  {
   "cell_type": "code",
   "execution_count": null,
   "metadata": {},
   "outputs": [],
   "source": [
    "import heapq as hq #Heapqueue\n",
    "import heapq_max as hqm\n",
    "#Da Heapqueue nur aufsteigend sortiert, brauchen wir heapq_max, \n",
    "#um absteigend zu sortieren\n",
    "\n",
    "class node: #Klasse der Bahnhofsknoten; \n",
    "    def __init__(self, Nachbar ): # später post and prä Knoten\n",
    "        self.nachbar = Nachbar\n",
    "\n",
    "class BF: #Beförderungsfälle; variabel; aktuell noch keine Verwendung (einfacher Fall)\n",
    "    def __init__(self, Richtung, Ankunftszeit):\n",
    "        self.richtung = Richtung #Pfad ist nicht programmiert, da es nur einen gibt\n",
    "        self.ankunftszeit = Ankunftszeit\n",
    "\n",
    "class Wartegaeste: #Wartegäste\n",
    "    def __init__(self, Wartezeit):\n",
    "        self.wartezeit = [Wartezeit]\n",
    "        #Wartezeit pro Person in einem Array sortiert;\n",
    "        #beim Wert 0 wird der Array nicht aufgelistet\n",
    "\n",
    "#Beförderungsmittel; Parameter werden später mit input fest eingegeben oder \n",
    "#in einem anderen Fall fest gewählt\n",
    "class BM:\n",
    "    def __init__(self, Reisezeit, Max, Kapazitaet, Intervall, Frequenz):\n",
    "        self.reisezeit = Reisezeit #Reisezeit der Bahn\n",
    "        self.max = Max #Kapazität der Bahn\n",
    "        self.kapazitaet = Kapazitaet\n",
    "        self.intervall = Intervall #Intervall zwischen 2 fahrenden Bahnen\n",
    "        self.frequenz = Frequenz #=60/self.intervall ( Anzahl Bahnen pro Stunde)\n",
    "\n",
    "class Queue: #Warteschlange pro Knoten\n",
    "    def __init__(self, NeuerAndrang):\n",
    "        self.stunde = [] #sollen bekanntlich 24 Stunden werden (diskretes Zeitgitter)\n",
    "        for i in range(24):\n",
    "            self.stunde += [i] #soll ausgeben [0, 1,..., 23]\n",
    "        #neuer Andrang pro Stunde => zunächst Arrays mit Werten 0\n",
    "        self.neuerandrang = [0]*24\n",
    "        #bislang noch niemand, der in der Schlange steht => Arraye mit Werten 0\n",
    "        self.anzahl = [0]*24 \n",
    "\n",
    "\n",
    "        \n",
    "#Sortieralgorithmus mit heapqueue_max => sortiere absteigend\n",
    "def heapsort(i): \n",
    "    array = [] #leeres Array\n",
    "    for n in i:\n",
    "        hqm.heappush_max(array, n) #Element auf den Heap verschieben\n",
    "    return [hqm.heappop_max(array) for i in range(len(array))]\n",
    "    #Ausgabe der absteigend sortierten Werte im Array"
   ]
  },
  {
   "cell_type": "code",
   "execution_count": null,
   "metadata": {},
   "outputs": [],
   "source": [
    "knoten0 = node([1,2])\n",
    "knoten1 = node([0,1])\n",
    "knoten2 = node([0,1])\n",
    "wg0 = Wartegaeste\n",
    "wg1 = Wartegaeste\n",
    "wg2 = Wartegaeste\n",
    "q0 = Queue([])\n",
    "q1 = Queue([])\n",
    "q2 = Queue([])"
   ]
  },
  {
   "cell_type": "code",
   "execution_count": null,
   "metadata": {},
   "outputs": [],
   "source": [
    "bahn0 = BM(5, 12, 0, 20.0, 3.0)\n",
    "# Bahn bahn_p für p in den Pfad  knoten A zu B\n",
    "# Fahtzeg (01, 12 ,21, 10)\n",
    "\n",
    "#Seilbahn, deren Eigenschaften mit Argumenten dargestellt werden;\n",
    "#feste Wahl der Parameter"
   ]
  },
  {
   "cell_type": "code",
   "execution_count": null,
   "metadata": {},
   "outputs": [],
   "source": [
    "queue_all = [q0, q1, q2]\n",
    "WG_all = [wg0, wg1, wg2]            \n",
    "def prozess2(queue_all, WG_all):\n",
    "    timestep = 1/bahn0.frequenz\n",
    "    #Zeitschritt, der dazu dient, anzugeben, \n",
    "    #wie lange eine Person am Bahnhof wartet (diskretes Zeitgitter)\n",
    "    frequenz_int = int(bahn0.frequenz)\n",
    "    #Forme in einen integer um, um die Schleife ohne Probleme in ganzen Zahlen \n",
    "    #laufen zu lassen (automatische Abrundung)\n",
    "    for inter in range(len(queue_all)):\n",
    "        print(inter)\n",
    "        wartegaeste = WG_all[inter]\n",
    "        wartegaeste.wartezeit = []\n",
    "        queue = queue_all[inter]\n",
    "        for i in range(len(queue.neuerandrang)):\n",
    "            print(\"queue.neuerandrang: \", queue.neuerandrang)\n",
    "            #Fall, dass die Queue kleiner oder gleich der Kapazität der Bahn ist\n",
    "            if (queue.anzahl[i] + queue.neuerandrang[i]) <= bahn0.kapazitaet:\n",
    "                queue.anzahl[i]=0 #dann ist die Queue leer\n",
    "                wartegaeste.wartezeit = [] #kein Gast wartet\n",
    "            else: #übrig bleibender Fall\n",
    "                #falls mehr abgeschöpft werden als es überhaupt geht\n",
    "                if (queue.neuerandrang[i] - frequenz_int*bahn0.kapazitaet + queue.anzahl[i-1]) <=0:\n",
    "                    queue.anzahl[i] = 0 #setze die Anzahl logischerweise 0\n",
    "                else: #übrig bleibender Fall\n",
    "                    #schöpfe diese Zahl an Personen in 1 Stunde ab\n",
    "                    queue.anzahl[i] += queue.neuerandrang[i] - frequenz_int*bahn0.kapazitaet + queue.anzahl[i-1]\n",
    "                #erhöhe die Anzahl der Arrays pro Wartegast um 1\n",
    "                for k in range(queue.neuerandrang[i]): \n",
    "                    wartegaeste.wartezeit += [0] #die neuen Fahrgäste warten noch nicht\n",
    "                queue.anzahl[i-1] = 0 #Hilfsfunktion, um keinen Rechenfehler zu generieren\n",
    "                #von 0 bis frequenz_int Wartegäste nach Wartezeit sortieren und dann in der Bahn befördern\n",
    "                for l in range(frequenz_int): \n",
    "                    for b in range(len(wartegaeste.wartezeit)):\n",
    "                        wartegaeste.wartezeit[b] += timestep\n",
    "                        #füge pro Aufnahme der Bahn einen Zeitschritt für die Leute,\n",
    "                        #die nicht einsteigen, hinzu\n",
    "                    wartegaeste.wartezeit = heapsort(wartegaeste.wartezeit)\n",
    "                    #sortiere die Wartegäste nach Wartezeit\n",
    "                    wartegaeste.wartezeit = wartegaeste.wartezeit[bahn0.kapazitaet:]\n",
    "                    #fahre die mit der längsten Wartezeit weg (Anzahl = Kapazität)\n",
    "            \n",
    "            print(\"queue.anzahl: \", queue.anzahl)\n",
    "            print(\"wartegaeste.wartezeit: \", wartegaeste.wartezeit)\n",
    "            print(\"len\", len(wartegaeste.wartezeit))"
   ]
  },
  {
   "cell_type": "code",
   "execution_count": null,
   "metadata": {},
   "outputs": [],
   "source": [
    "a=[0, 2, 4, 6, 8, 10, 12, 14, 16, 18, 20, 22, 24, 26, 28, 30, 32, 34, 36, 38, 40, 42, 44, 0]\n",
    "b=[0, 2, 4, 6, 8, 10, 12, 14, 16, 18, 20, 22, 24, 26, 28, 30, 32, 34, 36, 38, 40, 42, 44, 0]\n",
    "c=[0, 2, 4, 6, 8, 10, 12, 14, 16, 18, 20, 22, 24, 26, 28, 30, 32, 34, 36, 38, 40, 42, 44, 0]\n",
    "Q0 = Queue([])\n",
    "Q1 = Queue([])\n",
    "Q2 = Queue([])\n",
    "\n",
    "for i in range(len(a)):\n",
    "    Q0.neuerandrang[i] = a[i]\n",
    "for i in range(len(a)):\n",
    "    Q1.neuerandrang[i] = b[i]\n",
    "for i in range(len(a)):\n",
    "    Q2.neuerandrang[i] = c[i]\n",
    "queue_all = [Q0,Q1,Q2]\n",
    "\n",
    "G = Wartegaeste([])\n",
    "WG_all = [G, G, G]"
   ]
  },
  {
   "cell_type": "code",
   "execution_count": null,
   "metadata": {
    "scrolled": false
   },
   "outputs": [],
   "source": [
    "prozess2(queue_all, WG_all)"
   ]
  },
  {
   "cell_type": "markdown",
   "metadata": {},
   "source": [
    "Lesart der Lösung:\n",
    "Zunächst werden x beliebige Personen mitgenommen. Diejenigen Neuhinzugekommenen, die nicht befördert werden,\n",
    "warten 0 Minuten und werden in der Liste der Wartezeit nicht erwähnt. Diejenigen, die bereits seit 1 Fahrt auf die\n",
    "Beförderung warten, erhalten einen Zeitwert >0 und werden im Array der Wartezeit registriert."
   ]
  }
 ],
 "metadata": {
  "kernelspec": {
   "display_name": "Python 3",
   "language": "python",
   "name": "python3"
  },
  "language_info": {
   "codemirror_mode": {
    "name": "ipython",
    "version": 3
   },
   "file_extension": ".py",
   "mimetype": "text/x-python",
   "name": "python",
   "nbconvert_exporter": "python",
   "pygments_lexer": "ipython3",
   "version": "3.7.1"
  }
 },
 "nbformat": 4,
 "nbformat_minor": 2
}
