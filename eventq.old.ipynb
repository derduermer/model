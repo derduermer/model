{
 "cells": [
  {
   "cell_type": "code",
   "execution_count": 2,
   "metadata": {},
   "outputs": [],
   "source": [
    "import heapq as hq\n",
    "import networkx as nx\n",
    "from random import shuffle\n",
    "\n",
    "class Event:\n",
    "    def __init__(self, time, action, bm):\n",
    "        self.time = time\n",
    "        self.action = action\n",
    "        self.bm = bm\n",
    "    def __lt__(self, other):\n",
    "        return (self.time, self.bm) < (other.time, other.bm)\n",
    "    def __le__(self, other):\n",
    "        return (self.time, self.bm) <= (other.time, other.bm)\n",
    "\n",
    "def shuffle0(passengers):\n",
    "    for i in range(len(passengers)):\n",
    "        x = [j for j in range(len(passengers[i]))]\n",
    "        shuffle(x)\n",
    "        passengers[i] = [passengers[i][k] for k in x]\n",
    "\n",
    "#def save(passengers, bms): # vielleicht?\n",
    "    "
   ]
  },
  {
   "cell_type": "code",
   "execution_count": null,
   "metadata": {},
   "outputs": [],
   "source": [
    "G = nx.Graph()\n",
    "\n",
    "G.add_node(0)\n",
    "G.add_node(1)\n",
    "G.add_node(2)\n",
    "\n",
    "G.add_edge(0,1)\n",
    "G.add_edge(1,2)\n",
    "G.add_edge(0,2)\n",
    "\n",
    "nx.draw(G, with_labels = True, font_weight = 'bold')"
   ]
  },
  {
   "cell_type": "code",
   "execution_count": 3,
   "metadata": {},
   "outputs": [],
   "source": [
    "def solve(eventq, passengers, bms):\n",
    "    #save(passengers, bms)\n",
    "    while eventq:\n",
    "        if ([len(passengers[i]) == 0 for i in range(len(passengers))] == [True]*len(passengers)) and ([bms[i]['n_passengers'] == 0 for i in range(len(bms))] == [True]*len(bms)):\n",
    "            return print('Ende')\n",
    "        event = hq.heappop(eventq)\n",
    "        bm = bms[event.bm]\n",
    "        current_node = bm['itinerary'][bm['stop'] % len(bm['itinerary'])]\n",
    "        next_node = bm['itinerary'][(bm['stop']+1) % len(bm['itinerary'])]\n",
    "        current_node_time_idx = (bm['stop'] % len(bm['itinerary']))%len(bm['t_times'])\n",
    "        print('Fahrzeug {} ist am Knoten {}, der nächste Halt {}'.format(bm['name'],current_node, next_node))\n",
    "        if event.action == 'load':\n",
    "            free = bm['capacity'] - bm['n_passengers']\n",
    "            print('Fahrzeug {} load'.format(bm['name']))\n",
    "            print('Fahrzeug {} hat {} Plätze frei'.format(bm['name'],free))\n",
    "            while bm['n_passengers'] < bm['capacity']:\n",
    "                waiting = [idx for idx, passenger in enumerate(passengers[current_node]) if passenger['station'] in bm['itinerary']]\n",
    "                #print('Warten: {}'.format(waiting))\n",
    "                if not waiting:\n",
    "                    break\n",
    "                passenger = passengers[current_node].pop(waiting[0])\n",
    "                print('Passagier:', passenger)\n",
    "                bm['n_passengers'] += 1\n",
    "                hq.heappush(eventq, Event(event.time + passenger['exit_time'],'exit', event.bm))\n",
    "                print('time:', event.time+passenger['exit_time'])\n",
    "            hq.heappush(eventq, Event(event.time + bm['t_times'][current_node_time_idx], 'load', event.bm))\n",
    "            bm['stop'] += 1\n",
    "        # Generate events for exiting passengers\n",
    "        elif event.action == 'exit':\n",
    "            print('Fahrzeug {}, Passagiere steigenaus, time {}'.format(bm['name'], event.time))\n",
    "            bm['n_passengers'] -= 1\n",
    "            print('Es sind {} Passagiere in der Bahn'.format(bm['n_passengers']))\n",
    "        else:\n",
    "            raise Exception('Unknown event action')\n",
    "\n"
   ]
  },
  {
   "cell_type": "markdown",
   "metadata": {},
   "source": [
    "G = nx.Graph()\n",
    "G.add_node('Hbf')\n",
    "G.add_node('INF')\n",
    "G.add_node('Phil')\n",
    "G.add_node('Bism')\n",
    "G.add_node('Uni')\n",
    "G.add_node('Hand')\n",
    "G.add_node('Rohr')\n",
    "G.add_node('Zieg')\n",
    "#Rundfahrt\n",
    "G.add_edge('INF', 'Hbf')\n",
    "G.add_edge('Phil', 'INF')\n",
    "G.add_edge('Uni', 'Phil')\n",
    "G.add_edge('Bism', 'Uni')\n",
    "G.add_edge('Hbf', 'Bism')\n",
    "#Zubringer\n",
    "G.add_edge('INF', 'Hand')\n",
    "G.add_edge('Hbf', 'Rohr')\n",
    "G.add_edge('Uni', 'Zieg')"
   ]
  },
  {
   "cell_type": "code",
   "execution_count": 4,
   "metadata": {},
   "outputs": [
    {
     "ename": "NameError",
     "evalue": "name 'G' is not defined",
     "output_type": "error",
     "traceback": [
      "\u001b[0;31m---------------------------------------------------------------------------\u001b[0m",
      "\u001b[0;31mNameError\u001b[0m                                 Traceback (most recent call last)",
      "\u001b[0;32m<ipython-input-4-d0e22f5395a0>\u001b[0m in \u001b[0;36m<module>\u001b[0;34m\u001b[0m\n\u001b[1;32m      1\u001b[0m passengers = [#\n\u001b[0;32m----> 2\u001b[0;31m     \u001b[0;34m[\u001b[0m\u001b[0;34m{\u001b[0m\u001b[0;34m'station'\u001b[0m\u001b[0;34m:\u001b[0m \u001b[0mG\u001b[0m\u001b[0;34m[\u001b[0m\u001b[0;36m1\u001b[0m\u001b[0;34m]\u001b[0m\u001b[0;34m,\u001b[0m \u001b[0;34m'exit_time'\u001b[0m\u001b[0;34m:\u001b[0m \u001b[0;36m10\u001b[0m\u001b[0;34m}\u001b[0m\u001b[0;34m]\u001b[0m\u001b[0;34m*\u001b[0m\u001b[0;36m100\u001b[0m \u001b[0;34m+\u001b[0m \u001b[0;34m[\u001b[0m\u001b[0;34m{\u001b[0m\u001b[0;34m'station'\u001b[0m\u001b[0;34m:\u001b[0m \u001b[0mG\u001b[0m\u001b[0;34m[\u001b[0m\u001b[0;36m2\u001b[0m\u001b[0;34m]\u001b[0m\u001b[0;34m,\u001b[0m \u001b[0;34m'exit_time'\u001b[0m\u001b[0;34m:\u001b[0m \u001b[0;36m20\u001b[0m\u001b[0;34m}\u001b[0m\u001b[0;34m]\u001b[0m\u001b[0;34m*\u001b[0m\u001b[0;36m100\u001b[0m\u001b[0;34m,\u001b[0m  \u001b[0;31m# 0 => Station 'A'\u001b[0m\u001b[0;34m\u001b[0m\u001b[0;34m\u001b[0m\u001b[0m\n\u001b[0m\u001b[1;32m      3\u001b[0m     \u001b[0;34m[\u001b[0m\u001b[0;34m{\u001b[0m\u001b[0;34m'station'\u001b[0m\u001b[0;34m:\u001b[0m \u001b[0mG\u001b[0m\u001b[0;34m[\u001b[0m\u001b[0;36m0\u001b[0m\u001b[0;34m]\u001b[0m\u001b[0;34m,\u001b[0m \u001b[0;34m'exit_time'\u001b[0m\u001b[0;34m:\u001b[0m \u001b[0;36m20\u001b[0m\u001b[0;34m}\u001b[0m\u001b[0;34m]\u001b[0m\u001b[0;34m*\u001b[0m\u001b[0;36m1000\u001b[0m \u001b[0;34m+\u001b[0m \u001b[0;34m[\u001b[0m\u001b[0;34m{\u001b[0m\u001b[0;34m'station'\u001b[0m\u001b[0;34m:\u001b[0m \u001b[0mG\u001b[0m\u001b[0;34m[\u001b[0m\u001b[0;36m2\u001b[0m\u001b[0;34m]\u001b[0m\u001b[0;34m,\u001b[0m \u001b[0;34m'exit_time'\u001b[0m\u001b[0;34m:\u001b[0m \u001b[0;36m10\u001b[0m\u001b[0;34m}\u001b[0m\u001b[0;34m]\u001b[0m\u001b[0;34m*\u001b[0m\u001b[0;36m20\u001b[0m\u001b[0;34m,\u001b[0m \u001b[0;31m# 1 => Station 'B'\u001b[0m\u001b[0;34m\u001b[0m\u001b[0;34m\u001b[0m\u001b[0m\n\u001b[1;32m      4\u001b[0m     \u001b[0;34m[\u001b[0m\u001b[0;34m{\u001b[0m\u001b[0;34m'station'\u001b[0m\u001b[0;34m:\u001b[0m \u001b[0mG\u001b[0m\u001b[0;34m[\u001b[0m\u001b[0;36m0\u001b[0m\u001b[0;34m]\u001b[0m\u001b[0;34m,\u001b[0m \u001b[0;34m'exit_time'\u001b[0m\u001b[0;34m:\u001b[0m \u001b[0;36m10\u001b[0m\u001b[0;34m}\u001b[0m\u001b[0;34m]\u001b[0m\u001b[0;34m*\u001b[0m\u001b[0;36m10\u001b[0m \u001b[0;34m+\u001b[0m \u001b[0;34m[\u001b[0m\u001b[0;34m{\u001b[0m\u001b[0;34m'station'\u001b[0m\u001b[0;34m:\u001b[0m \u001b[0mG\u001b[0m\u001b[0;34m[\u001b[0m\u001b[0;36m1\u001b[0m\u001b[0;34m]\u001b[0m\u001b[0;34m,\u001b[0m \u001b[0;34m'exit_time'\u001b[0m\u001b[0;34m:\u001b[0m \u001b[0;36m20\u001b[0m\u001b[0;34m}\u001b[0m\u001b[0;34m]\u001b[0m\u001b[0;34m*\u001b[0m\u001b[0;36m1000\u001b[0m  \u001b[0;31m# 2 => Station 'C'\u001b[0m\u001b[0;34m\u001b[0m\u001b[0;34m\u001b[0m\u001b[0m\n\u001b[1;32m      5\u001b[0m               ]#\n",
      "\u001b[0;31mNameError\u001b[0m: name 'G' is not defined"
     ]
    }
   ],
   "source": [
    "passengers = [#\n",
    "    [{'station': G[1], 'exit_time': 10}]*100 + [{'station': G[2], 'exit_time': 20}]*100,  # 0 => Station 'A'\n",
    "    [{'station': G[0], 'exit_time': 20}]*1000 + [{'station': G[2], 'exit_time': 10}]*20, # 1 => Station 'B'\n",
    "    [{'station': G[0], 'exit_time': 10}]*10 + [{'station': G[1], 'exit_time': 20}]*1000  # 2 => Station 'C'\n",
    "              ]#\n",
    "bms = [{'n_passengers': 0, 'capacity': 31, 'stop': 0, 'itinerary': [G[2], G[1], G[0], G[1]], 'name': 0, 't_times': [12, 12, 12]},\n",
    "    {'n_passengers': 0, 'capacity': 20, 'stop': 0, 'itinerary': [G[0], G[1], G[2], G[1]], 'name': 1, 't_times': [12, 12, 12]}\n",
    "       ]#\n",
    "\n",
    " \n",
    "# shuffle passengers\n",
    "shuffle0(passengers)\n",
    "\n",
    "\n",
    "\n",
    "event0 = Event(0,'load',0)\n",
    "event1 = Event(0,'load',1)\n",
    "eventq = []\n",
    "hq.heappush(eventq, event0)\n",
    "hq.heappush(eventq, event1)"
   ]
  },
  {
   "cell_type": "code",
   "execution_count": null,
   "metadata": {
    "scrolled": true
   },
   "outputs": [],
   "source": [
    "solve(eventq, passengers, bms)"
   ]
  },
  {
   "cell_type": "markdown",
   "metadata": {},
   "source": [
    "passengers = [#\n",
    "    [{'station': 'Bism', 'exit_time': 10}]*100 + [{'station': 'Uni', 'exit_time': 20}]*100,#\n",
    "    [{'station': 'Phil', 'exit_time': 20}]*1000 + [{'station': 'Uni', 'exit_time': 10}]*20,#\n",
    "    [{'station': 'Phil', 'exit_time': 10}]*10 + [{'station': 'Bism', 'exit_time': 20}]*1000#\n",
    "              ]#\n",
    "bms = [{'n_passengers': 0, 'capacity': 31, 'stop': 0, 'itinerary': ['Uni', 'Bism', 'Phil', 'Bism'], 'name': 0, 't_times': [12, 12, 12]},\n",
    "       {'n_passengers': 0, 'capacity': 20, 'stop': 0, 'itinerary': ['Phil', 'Bism', 'Uni', 'Bism'], 'name': 1, 't_times': [12, 12, 12]}]\n",
    "\n",
    "# shuffle passengers\n",
    "shuffle0(passengers)\n",
    "\n",
    "\n",
    "\n",
    "event0 = Event(0,'load',0)\n",
    "event1 = Event(0,'load',1)\n",
    "eventq = []\n",
    "hq.heappush(eventq, event0)\n",
    "hq.heappush(eventq, event1)\n",
    "print(eventq)"
   ]
  },
  {
   "cell_type": "markdown",
   "metadata": {},
   "source": []
  }
 ],
 "metadata": {
  "kernelspec": {
   "display_name": "Python 3",
   "language": "python",
   "name": "python3"
  },
  "language_info": {
   "codemirror_mode": {
    "name": "ipython",
    "version": 3
   },
   "file_extension": ".py",
   "mimetype": "text/x-python",
   "name": "python",
   "nbconvert_exporter": "python",
   "pygments_lexer": "ipython3",
   "version": "3.6.8"
  }
 },
 "nbformat": 4,
 "nbformat_minor": 2
}
