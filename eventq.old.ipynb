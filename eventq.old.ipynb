{
 "cells": [
  {
   "cell_type": "code",
   "execution_count": 5,
   "metadata": {},
   "outputs": [],
   "source": [
    "import heapq as hq\n",
    "import networkx as nx\n",
    "from random import shuffle\n",
    "\n",
    "class Event:\n",
    "    def __init__(self, time, action, bm):\n",
    "        self.time = time\n",
    "        self.action = action\n",
    "        self.bm = bm\n",
    "    def __lt__(self, other):\n",
    "        return (self.time, self.bm) < (other.time, other.bm)\n",
    "    def __le__(self, other):\n",
    "        return (self.time, self.bm) <= (other.time, other.bm)\n",
    "\n",
    "def shuffle0(passengers):\n",
    "    for i in range(len(passengers)):\n",
    "        x = [j for j in range(len(passengers[i]))]\n",
    "        shuffle(x)\n",
    "        passengers[i] = [passengers[i][k] for k in x]\n",
    "\n",
<<<<<<< HEAD:eventq.old.ipynb
    "#def safe(passengers, bms): # vieleit?\n",
=======
    "#def save(passengers, bms):\n",
>>>>>>> networkx:eventq.ipynb
    "    "
   ]
  },
  {
   "cell_type": "code",
   "execution_count": 21,
   "metadata": {},
   "outputs": [
    {
     "data": {
      "image/png": "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\n",
      "text/plain": [
       "<Figure size 432x288 with 1 Axes>"
      ]
     },
     "metadata": {},
     "output_type": "display_data"
    }
   ],
   "source": [
    "G = nx.Graph()\n",
    "\n",
    "G.add_node(0)\n",
    "G.add_node(1)\n",
    "G.add_node(2)\n",
    "\n",
    "G.add_edge(0,1)\n",
    "G.add_edge(1,2)\n",
    "G.add_edge(0,2)\n",
    "\n",
    "nx.draw(G, with_labels = True, font_weight = 'bold')"
   ]
  },
  {
   "cell_type": "code",
   "execution_count": 6,
   "metadata": {},
   "outputs": [],
   "source": [
    "def solve(eventq, passengers, bms):\n",
    "    #save(passengers, bms)\n",
    "    while eventq:\n",
    "        if ([len(passengers[i]) == 0 for i in range(len(passengers))] == [True]*len(passengers)) and ([bms[i]['n_passengers'] == 0 for i in range(len(bms))] == [True]*len(bms)):\n",
    "            return print('Ende')\n",
    "        event = hq.heappop(eventq)\n",
    "        bm = bms[event.bm]\n",
    "        current_node = bm['itinerary'][bm['stop'] % len(bm['itinerary'])]\n",
    "        next_node = bm['itinerary'][(bm['stop']+1) % len(bm['itinerary'])]\n",
    "        current_node_time_idx = (bm['stop'] % len(bm['itinerary']))%len(bm['t_times'])\n",
    "        print('Fahrzeug {} ist am Knoten {}, der nächste Halt {}'.format(bm['name'],current_node, next_node))\n",
    "        if event.action == 'load':\n",
    "            free = bm['capacity'] - bm['n_passengers']\n",
    "            print('Fahrzeug {} load'.format(bm['name']))\n",
    "            print('Fahrzeug {} hat {} Plätze frei'.format(bm['name'],free))\n",
    "            while bm['n_passengers'] < bm['capacity']:\n",
    "                waiting = [idx for idx, passenger in enumerate(passengers[current_node]) if passenger['station'] in bm['itinerary']]\n",
    "                #print('Warten: {}'.format(waiting))\n",
    "                if not waiting:\n",
    "                    break\n",
    "                passenger = passengers[current_node].pop(waiting[0])\n",
    "                print('Passagier:', passenger)\n",
    "                bm['n_passengers'] += 1\n",
    "                hq.heappush(eventq, Event(event.time + passenger['exit_time'],'exit', event.bm))\n",
    "                print('time:', event.time+passenger['exit_time'])\n",
    "            hq.heappush(eventq, Event(event.time + bm['t_times'][current_node_time_idx], 'load', event.bm))\n",
    "            bm['stop'] += 1\n",
    "        # Generate events for exiting passengers\n",
    "        elif event.action == 'exit':\n",
    "            print('Fahrzeug {}, Passagiere steigenaus, time {}'.format(bm['name'], event.time))\n",
    "            bm['n_passengers'] -= 1\n",
    "            print('Es sind {} Passagiere in der Bahn'.format(bm['n_passengers']))\n",
    "        else:\n",
    "            raise Exception('Unknown event action')\n",
    "\n"
   ]
  },
  {
   "cell_type": "markdown",
   "metadata": {},
   "source": [
    "G = nx.Graph()\n",
    "G.add_node('Hbf')\n",
    "G.add_node('INF')\n",
    "G.add_node('Phil')\n",
    "G.add_node('Bism')\n",
    "G.add_node('Uni')\n",
    "G.add_node('Hand')\n",
    "G.add_node('Rohr')\n",
    "G.add_node('Zieg')\n",
    "#Rundfahrt\n",
    "G.add_edge('INF', 'Hbf')\n",
    "G.add_edge('Phil', 'INF')\n",
    "G.add_edge('Uni', 'Phil')\n",
    "G.add_edge('Bism', 'Uni')\n",
    "G.add_edge('Hbf', 'Bism')\n",
    "#Zubringer\n",
    "G.add_edge('INF', 'Hand')\n",
    "G.add_edge('Hbf', 'Rohr')\n",
    "G.add_edge('Uni', 'Zieg')"
   ]
  },
  {
   "cell_type": "code",
   "execution_count": 24,
   "metadata": {},
   "outputs": [
    {
     "name": "stdout",
     "output_type": "stream",
     "text": [
      "[<__main__.Event object at 0x7fa90141b5c0>, <__main__.Event object at 0x7fa90141b4e0>]\n"
     ]
    }
   ],
   "source": [
    "passengers = [#\n",
    "    [{'station': G[1], 'exit_time': 10}]*100 + [{'station': G[2], 'exit_time': 20}*100,  # 0 => Station 'A'\n",
    "    [{'station': G[0], 'exit_time': 20}]*1000 + [{'station': G[2], 'exit_time': 10}]*20, # 1 => Station 'B'\n",
    "    [{'station': G[0], 'exit_time': 10}]*10 + [{'station': G[1], 'exit_time': 20}]*1000  # 2 => Station 'C'\n",
    "              ]#\n",
    "bms = [#\n",
    "    {'n_passengers': 0, 'capacity': 31, 'stop': 0, 'itinerary': [G[2], G[1], G[0], G[1]], 'name': 0, 't_times': [12, 12, 12]},\n",
    "    {'n_passengers': 0, 'capacity': 20, 'stop': 0, 'itinerary': [G[0], G[1], G[2], G[1]], 'name': 1, 't_times': [12, 12, 12]}\n",
    "       ]#\n",
    "\n",
    " \n",
    "# shuffle passengers\n",
    "shuffle0(passengers)\n",
    "\n",
    "\n",
    "\n",
    "event0 = Event(0,'load',0)\n",
    "event1 = Event(0,'load',1)\n",
    "eventq = []\n",
    "hq.heappush(eventq, event0)\n",
    "hq.heappush(eventq, event1)"
   ]
  },
  {
   "cell_type": "code",
   "execution_count": 26,
   "metadata": {
    "scrolled": true
   },
   "outputs": [
    {
     "name": "stdout",
     "output_type": "stream",
     "text": [
      "Fahrzeug 1 ist am Knoten {1: {}, 2: {}}, der nächste Halt {0: {}, 2: {}}\n",
      "Fahrzeug 1 load\n",
      "Fahrzeug 1 hat 20 Plätze frei\n"
     ]
    },
    {
     "ename": "TypeError",
     "evalue": "list indices must be integers or slices, not AtlasView",
     "output_type": "error",
     "traceback": [
      "\u001b[0;31m---------------------------------------------------------------------------\u001b[0m",
      "\u001b[0;31mTypeError\u001b[0m                                 Traceback (most recent call last)",
      "\u001b[0;32m<ipython-input-26-3325e3c2d91c>\u001b[0m in \u001b[0;36m<module>\u001b[0;34m\u001b[0m\n\u001b[0;32m----> 1\u001b[0;31m \u001b[0msolve\u001b[0m\u001b[0;34m(\u001b[0m\u001b[0meventq\u001b[0m\u001b[0;34m,\u001b[0m \u001b[0mpassengers\u001b[0m\u001b[0;34m,\u001b[0m \u001b[0mbms\u001b[0m\u001b[0;34m)\u001b[0m\u001b[0;34m\u001b[0m\u001b[0m\n\u001b[0m",
      "\u001b[0;32m<ipython-input-6-5e5d222c2d22>\u001b[0m in \u001b[0;36msolve\u001b[0;34m(eventq, passengers, bms)\u001b[0m\n\u001b[1;32m     15\u001b[0m             \u001b[0mprint\u001b[0m\u001b[0;34m(\u001b[0m\u001b[0;34m'Fahrzeug {} hat {} Plätze frei'\u001b[0m\u001b[0;34m.\u001b[0m\u001b[0mformat\u001b[0m\u001b[0;34m(\u001b[0m\u001b[0mbm\u001b[0m\u001b[0;34m[\u001b[0m\u001b[0;34m'name'\u001b[0m\u001b[0;34m]\u001b[0m\u001b[0;34m,\u001b[0m\u001b[0mfree\u001b[0m\u001b[0;34m)\u001b[0m\u001b[0;34m)\u001b[0m\u001b[0;34m\u001b[0m\u001b[0m\n\u001b[1;32m     16\u001b[0m             \u001b[0;32mwhile\u001b[0m \u001b[0mbm\u001b[0m\u001b[0;34m[\u001b[0m\u001b[0;34m'n_passengers'\u001b[0m\u001b[0;34m]\u001b[0m \u001b[0;34m<\u001b[0m \u001b[0mbm\u001b[0m\u001b[0;34m[\u001b[0m\u001b[0;34m'capacity'\u001b[0m\u001b[0;34m]\u001b[0m\u001b[0;34m:\u001b[0m\u001b[0;34m\u001b[0m\u001b[0m\n\u001b[0;32m---> 17\u001b[0;31m                 \u001b[0mwaiting\u001b[0m \u001b[0;34m=\u001b[0m \u001b[0;34m[\u001b[0m\u001b[0midx\u001b[0m \u001b[0;32mfor\u001b[0m \u001b[0midx\u001b[0m\u001b[0;34m,\u001b[0m \u001b[0mpassenger\u001b[0m \u001b[0;32min\u001b[0m \u001b[0menumerate\u001b[0m\u001b[0;34m(\u001b[0m\u001b[0mpassengers\u001b[0m\u001b[0;34m[\u001b[0m\u001b[0mcurrent_node\u001b[0m\u001b[0;34m]\u001b[0m\u001b[0;34m)\u001b[0m \u001b[0;32mif\u001b[0m \u001b[0mpassenger\u001b[0m\u001b[0;34m[\u001b[0m\u001b[0;34m'station'\u001b[0m\u001b[0;34m]\u001b[0m \u001b[0;32min\u001b[0m \u001b[0mbm\u001b[0m\u001b[0;34m[\u001b[0m\u001b[0;34m'itinerary'\u001b[0m\u001b[0;34m]\u001b[0m\u001b[0;34m]\u001b[0m\u001b[0;34m\u001b[0m\u001b[0m\n\u001b[0m\u001b[1;32m     18\u001b[0m                 \u001b[0;31m#print('Warten: {}'.format(waiting))\u001b[0m\u001b[0;34m\u001b[0m\u001b[0;34m\u001b[0m\u001b[0m\n\u001b[1;32m     19\u001b[0m                 \u001b[0;32mif\u001b[0m \u001b[0;32mnot\u001b[0m \u001b[0mwaiting\u001b[0m\u001b[0;34m:\u001b[0m\u001b[0;34m\u001b[0m\u001b[0m\n",
      "\u001b[0;31mTypeError\u001b[0m: list indices must be integers or slices, not AtlasView"
     ]
    }
   ],
   "source": [
    "solve(eventq, passengers, bms)"
   ]
  },
  {
   "cell_type": "markdown",
   "metadata": {},
   "source": [
    "passengers = [#\n",
    "    [{'station': 'Bism', 'exit_time': 10}]*100 + [{'station': 'Uni', 'exit_time': 20}]*100,#\n",
    "    [{'station': 'Phil', 'exit_time': 20}]*1000 + [{'station': 'Uni', 'exit_time': 10}]*20,#\n",
    "    [{'station': 'Phil', 'exit_time': 10}]*10 + [{'station': 'Bism', 'exit_time': 20}]*1000#\n",
    "              ]#\n",
    "bms = [{'n_passengers': 0, 'capacity': 31, 'stop': 0, 'itinerary': ['Uni', 'Bism', 'Phil', 'Bism'], 'name': 0, 't_times': [12, 12, 12]},\n",
    "       {'n_passengers': 0, 'capacity': 20, 'stop': 0, 'itinerary': ['Phil', 'Bism', 'Uni', 'Bism'], 'name': 1, 't_times': [12, 12, 12]}]\n",
    "\n",
    "# shuffle passengers\n",
    "shuffle0(passengers)\n",
    "\n",
    "\n",
    "\n",
    "event0 = Event(0,'load',0)\n",
    "event1 = Event(0,'load',1)\n",
    "eventq = []\n",
    "hq.heappush(eventq, event0)\n",
    "hq.heappush(eventq, event1)\n",
    "print(eventq)"
   ]
  },
  {
   "cell_type": "markdown",
   "metadata": {},
   "source": []
  }
 ],
 "metadata": {
  "kernelspec": {
   "display_name": "Python 3",
   "language": "python",
   "name": "python3"
  },
  "language_info": {
   "codemirror_mode": {
    "name": "ipython",
    "version": 3
   },
   "file_extension": ".py",
   "mimetype": "text/x-python",
   "name": "python",
   "nbconvert_exporter": "python",
   "pygments_lexer": "ipython3",
   "version": "3.6.8"
  }
 },
 "nbformat": 4,
 "nbformat_minor": 2
}
