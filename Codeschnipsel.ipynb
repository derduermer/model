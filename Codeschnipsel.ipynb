{
 "cells": [
  {
   "cell_type": "code",
   "execution_count": null,
   "metadata": {},
   "outputs": [],
   "source": [
    "\"\"\"class BK: #Beförderungsknoten\n",
    "    def __init__(self, Q, array_BF):\n",
    "        self.q = Q #Warteschlange\n",
    "        self.array_BF = [data]\"\"\""
   ]
  },
  {
   "cell_type": "code",
   "execution_count": null,
   "metadata": {},
   "outputs": [],
   "source": [
    "\"\"\"queue.stunde = range(24)\n",
    "a=len(queue.stunde)\n",
    "print(a)\"\"\"\n",
    "\n",
    "\"\"\"for i in range(len(queue.stunde)):\n",
    "    while True:\n",
    "        try:\n",
    "            queue.andrang[i] = input(\"Gib bitte den Andrang in der x-ten Stunde ein: \")\n",
    "            queue.andrang[i] = int(queue.andrang[i])\n",
    "            break\n",
    "        except ValueError:\n",
    "            print(\"Dieser Wert ist falsch! Bitte erneut eingeben.\")\n",
    "\"\"\""
   ]
  },
  {
   "cell_type": "code",
   "execution_count": null,
   "metadata": {},
   "outputs": [],
   "source": [
    "\"\"\"def auffuellen_2(queue):\n",
    "    queue.stunde = []\n",
    "    queue.neuerandrang = []\n",
    "    for i in range(24):\n",
    "        while True:\n",
    "            try:\n",
    "                queue.stunde += [i]\n",
    "                n = 2+i\n",
    "                \n",
    "                #print(queue.stunde)\n",
    "                #n = input(\"Gib bitte die Zahl der Wartegäste an: \")\n",
    "                #n = int(n)\n",
    "                break\n",
    "            except ValueError:\n",
    "                print(\"Dieser Wert ist falsch! Bitte erneut eingeben.\")\n",
    "        queue.neuerandrang += [n]   \"\"\""
   ]
  },
  {
   "cell_type": "code",
   "execution_count": 17,
   "metadata": {},
   "outputs": [],
   "source": [
    "A = [2,2,3,5,6,8,5,8,9,5,8,5]"
   ]
  },
  {
   "cell_type": "code",
   "execution_count": 18,
   "metadata": {},
   "outputs": [
    {
     "name": "stdout",
     "output_type": "stream",
     "text": [
      "[2, 2]\n"
     ]
    }
   ],
   "source": [
    "\n",
    "print(A[0:2])"
   ]
  },
  {
   "cell_type": "code",
   "execution_count": 21,
   "metadata": {},
   "outputs": [],
   "source": [
    "A = A[2:]"
   ]
  },
  {
   "cell_type": "code",
   "execution_count": 22,
   "metadata": {},
   "outputs": [
    {
     "data": {
      "text/plain": [
       "[3, 5, 6, 8, 5, 8, 9, 5, 8, 5]"
      ]
     },
     "execution_count": 22,
     "metadata": {},
     "output_type": "execute_result"
    }
   ],
   "source": [
    "A"
   ]
  },
  {
   "cell_type": "code",
   "execution_count": null,
   "metadata": {},
   "outputs": [],
   "source": [
    "A = [100, 200, 300, 400, 500]\n",
    "a = []\n",
    "for i in A:\n",
    "    for j in range(5): i-=10\n",
    "    print(i)\n",
    "    a += [i]\n",
    "A = a\n",
    "print(A)"
   ]
  },
  {
   "cell_type": "code",
   "execution_count": null,
   "metadata": {},
   "outputs": [],
   "source": [
    "def todomagic(queue, wartegaeste):\n",
    "    wartegaeste.wartezeit = []\n",
    "    timestep = 1/bahn.frequenz\n",
    "    frequenz_int = int(bahn.frequenz)\n",
    "    A=[0];j=0\n",
    "    for i in range(60):\n",
    "        j+=bahn.frequenz\n",
    "        if j>=60: break\n",
    "        A+=[j]\n",
    "    for i in range(len(queue.neuerandrang)):\n",
    "        print(\"queue.neuerandrang: \", queue.neuerandrang)\n",
    "        if (queue.anzahl[i] + queue.neuerandrang[i]) <= bahn.kapazitaet: #Fall, dass die Queue kleiner oder gleich der Kapazität der Bahn ist\n",
    "            queue.anzahl[i]=0\n",
    "            wartegaeste.wartezeit = []\n",
    "        else: #übrig bleibender Fall\n",
    "            if (queue.neuerandrang[i] - frequenz_int*bahn.kapazitaet + queue.anzahl[i-1]) <=0:\n",
    "                queue.anzahl[i] = 0\n",
    "            else:\n",
    "                queue.anzahl[i] += queue.neuerandrang[i] - frequenz_int*bahn.kapazitaet + queue.anzahl[i-1]\n",
    "            for k in range(queue.neuerandrang[i]): #erhöhe die Anzahl der Arrays pro Wartegast um 1\n",
    "                wartegaeste.wartezeit += [0]\n",
    "            queue.anzahl[i-1] = 0\n",
    "            for l in range(frequenz_int):\n",
    "                for b in range(len(wartegaeste.wartezeit)):\n",
    "                    wartegaeste.wartezeit[b] += timestep #füge pro Aufnahme der Bahn einen Zeitschritt für die Leute, die nicht einsteigen, hinzu\n",
    "                wartegaeste.wartezeit = heapsort(wartegaeste.wartezeit)\n",
    "                wartegaeste.wartezeit = wartegaeste.wartezeit[bahn.kapazitaet:]\n",
    "        \n",
    "        print(\"queue.anzahl: \", queue.anzahl)\n",
    "        print(\"wartegaeste.wartezeit: \", wartegaeste.wartezeit)\n",
    "        print(\"len\", len(wartegaeste.wartezeit))"
   ]
  },
  {
   "cell_type": "code",
   "execution_count": null,
   "metadata": {},
   "outputs": [],
   "source": [
    "a=[0, 2, 4, 6, 8, 10, 12, 14, 16, 18, 20, 22, 24, 26, 28, 30, 32, 34, 36, 38, 40, 42, 44, 46]\n",
    "Q1 = Queue([])\n",
    "\n",
    "for i in range(len(a)):\n",
    "    Q1.neuerandrang[i] = a[i]\n",
    "G = Wartegaeste([])"
   ]
  },
  {
   "cell_type": "code",
   "execution_count": null,
   "metadata": {},
   "outputs": [],
   "source": [
    "todomagic(Q1,G)"
   ]
  },
  {
   "cell_type": "code",
   "execution_count": null,
   "metadata": {},
   "outputs": [],
   "source": [
    "def auffuellen(queue, wartegaeste):\n",
    "    # Neue leere Queue-Daten, die später überschrieben werden\n",
    "    queue.neuerandrang = []\n",
    "    wartegaeste.wartezeit = []\n",
    "    timestep = 1/bahn.frequenz #Zeitschritt, der dazu dient, anzugeben, wie lange eine Person am Bahnhof wartet (diskretes Zeitgitter)\n",
    "    frequenz_int = int(bahn.frequenz) #Forme in einen integer um, um die Schleife ohne Probleme in ganzen Zahlen laufen zu lassen (automatische Abrundung)\n",
    "    A=[0];j=0\n",
    "    \"\"\"Wir benötigen diese beiden Werte, um unser in Stunden unterteiltes diskretes Zeitgitter zu verfeinern.\n",
    "    Ziel ist es, einen möglichst genauen Fahrplan in Minuten anzugeben, d.h. 'alle x Minuten fährt eine Bahn'.\n",
    "    Nachdem y Bahnen in einer Stunde gefahren sind, ziehen wir eine Stundenbilanz, um das Ganze möglichst übersichtlich\n",
    "    zu halten.\"\"\"\n",
    "    for i in range(60):\n",
    "        j+=bahn.frequenz #es können nur bis zu 60 Minuten pro Stunde sein (=Intervall [0, 59])\n",
    "        if j>=60: break #brich nach 59 Minuten ab\n",
    "        A+=[j]\n",
    "    for i in range(24): #gib die Stunden an\n",
    "        print('in der Stunde: ', i)\n",
    "        n = 50-2*i #fest gewählte Hilfsfunktion des Andrangs\n",
    "        if n<0:\n",
    "            queue.neuerandrang +=[0] #schließe den Fall aus, dass der neue Andrang negativ wird => Wert 0\n",
    "        else:\n",
    "            queue.neuerandrang += [n] #sonst ist der neue Andrang >=0 und kann ins Array eingefügt werden\n",
    "        print(\"queue.neuerandrang: \", queue.neuerandrang)\n",
    "        if (queue.anzahl[i] + queue.neuerandrang[i]) <= bahn.kapazitaet: #Fall, dass die Queue kleiner oder gleich der Kapazität der Bahn ist\n",
    "            queue.anzahl[i]=0 #dann ist die Queue leer\n",
    "            wartegaeste.wartezeit = [] #kein Gast wartet\n",
    "        else: #übrig bleibender Fall\n",
    "            if (queue.neuerandrang[i] - frequenz_int*bahn.kapazitaet + queue.anzahl[i-1]) <=0: #falls mehr abgeschöpft werden als es überhaupt geht\n",
    "                queue.anzahl[i] = 0\n",
    "            else: #übrig bleibender Fall\n",
    "                queue.anzahl[i] += queue.neuerandrang[i] - frequenz_int*bahn.kapazitaet + queue.anzahl[i-1] #schöpfe diese Zahl an Personen in 1 Stunde ab\n",
    "            for k in range(queue.neuerandrang[i]): #erhöhe die Anzahl der Arrays pro Wartegast um 1\n",
    "                wartegaeste.wartezeit += [0] #die neuen Fahrgäste warten noch nicht\n",
    "            queue.anzahl[i-1] = 0 #Hilfsfunktion, um keinen Rechenfehler zu generieren\n",
    "            for l in range(frequenz_int): #von 0 bis frequenz_int Wartegäste nach Wartezeit sortieren und dann in der Bahn befördern\n",
    "                for b in range(len(wartegaeste.wartezeit)):\n",
    "                    wartegaeste.wartezeit[b] += timestep #füge pro Aufnahme der Bahn einen Zeitschritt für die Leute, die nicht einsteigen, hinzu\n",
    "                wartegaeste.wartezeit = heapsort(wartegaeste.wartezeit) #sortiere die Wartegäste nach Wartezeit\n",
    "                wartegaeste.wartezeit = wartegaeste.wartezeit[bahn.kapazitaet:] #fahre die mit der längsten Wartezeit weg (Anzahl = Kapazität)\n",
    "        \n",
    "        print(\"queue.anzahl: \", queue.anzahl)\n",
    "        print(\"wartegaeste.wartezeit: \", wartegaeste.wartezeit)\n",
    "        print(\"len\", len(wartegaeste.wartezeit))"
   ]
  },
  {
   "cell_type": "code",
   "execution_count": null,
   "metadata": {},
   "outputs": [],
   "source": [
    "queue1 = Queue([])\n",
    "wartegaeste1 = Wartegaeste([])\n",
    "auffuellen(queue1, wartegaeste1)"
   ]
  }
 ],
 "metadata": {
  "kernelspec": {
   "display_name": "Python 3",
   "language": "python",
   "name": "python3"
  },
  "language_info": {
   "codemirror_mode": {
    "name": "ipython",
    "version": 3
   },
   "file_extension": ".py",
   "mimetype": "text/x-python",
   "name": "python",
   "nbconvert_exporter": "python",
   "pygments_lexer": "ipython3",
   "version": "3.6.6"
  }
 },
 "nbformat": 4,
 "nbformat_minor": 2
}
