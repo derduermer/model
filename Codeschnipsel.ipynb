{
 "cells": [
  {
   "cell_type": "code",
   "execution_count": null,
   "metadata": {},
   "outputs": [],
   "source": [
    "\"\"\"class BK: #Beförderungsknoten\n",
    "    def __init__(self, Q, array_BF):\n",
    "        self.q = Q #Warteschlange\n",
    "        self.array_BF = [data]\"\"\""
   ]
  },
  {
   "cell_type": "code",
   "execution_count": null,
   "metadata": {},
   "outputs": [],
   "source": [
    "\"\"\"queue.stunde = range(24)\n",
    "a=len(queue.stunde)\n",
    "print(a)\"\"\"\n",
    "\n",
    "\"\"\"for i in range(len(queue.stunde)):\n",
    "    while True:\n",
    "        try:\n",
    "            queue.andrang[i] = input(\"Gib bitte den Andrang in der x-ten Stunde ein: \")\n",
    "            queue.andrang[i] = int(queue.andrang[i])\n",
    "            break\n",
    "        except ValueError:\n",
    "            print(\"Dieser Wert ist falsch! Bitte erneut eingeben.\")\n",
    "\"\"\""
   ]
  },
  {
   "cell_type": "code",
   "execution_count": null,
   "metadata": {},
   "outputs": [],
   "source": [
    "\"\"\"def auffuellen_2(queue):\n",
    "    queue.stunde = []\n",
    "    queue.neuerandrang = []\n",
    "    for i in range(24):\n",
    "        while True:\n",
    "            try:\n",
    "                queue.stunde += [i]\n",
    "                n = 2+i\n",
    "                \n",
    "                #print(queue.stunde)\n",
    "                #n = input(\"Gib bitte die Zahl der Wartegäste an: \")\n",
    "                #n = int(n)\n",
    "                break\n",
    "            except ValueError:\n",
    "                print(\"Dieser Wert ist falsch! Bitte erneut eingeben.\")\n",
    "        queue.neuerandrang += [n]   \"\"\""
   ]
  },
  {
   "cell_type": "code",
   "execution_count": 17,
   "metadata": {},
   "outputs": [],
   "source": [
    "A = [2,2,3,5,6,8,5,8,9,5,8,5]"
   ]
  },
  {
   "cell_type": "code",
   "execution_count": 18,
   "metadata": {},
   "outputs": [
    {
     "name": "stdout",
     "output_type": "stream",
     "text": [
      "[2, 2]\n"
     ]
    }
   ],
   "source": [
    "\n",
    "print(A[0:2])"
   ]
  },
  {
   "cell_type": "code",
   "execution_count": 21,
   "metadata": {},
   "outputs": [],
   "source": [
    "A = A[2:]"
   ]
  },
  {
   "cell_type": "code",
   "execution_count": 22,
   "metadata": {},
   "outputs": [
    {
     "data": {
      "text/plain": [
       "[3, 5, 6, 8, 5, 8, 9, 5, 8, 5]"
      ]
     },
     "execution_count": 22,
     "metadata": {},
     "output_type": "execute_result"
    }
   ],
   "source": [
    "A"
   ]
  },
  {
   "cell_type": "code",
   "execution_count": null,
   "metadata": {},
   "outputs": [],
   "source": [
    "A = [100, 200, 300, 400, 500]\n",
    "a = []\n",
    "for i in A:\n",
    "    for j in range(5): i-=10\n",
    "    print(i)\n",
    "    a += [i]\n",
    "A = a\n",
    "print(A)"
   ]
  },
  {
   "cell_type": "code",
   "execution_count": null,
   "metadata": {},
   "outputs": [],
   "source": [
    "def todomagic(queue, wartegaeste):\n",
    "    wartegaeste.wartezeit = []\n",
    "    timestep = 1/bahn.frequenz\n",
    "    frequenz_int = int(bahn.frequenz)\n",
    "    A=[0];j=0\n",
    "    for i in range(60):\n",
    "        j+=bahn.frequenz\n",
    "        if j>=60: break\n",
    "        A+=[j]\n",
    "    for i in range(len(queue.neuerandrang)):\n",
    "        print(\"queue.neuerandrang: \", queue.neuerandrang)\n",
    "        if (queue.anzahl[i] + queue.neuerandrang[i]) <= bahn.kapazitaet: #Fall, dass die Queue kleiner oder gleich der Kapazität der Bahn ist\n",
    "            queue.anzahl[i]=0\n",
    "            wartegaeste.wartezeit = []\n",
    "        else: #übrig bleibender Fall\n",
    "            if (queue.neuerandrang[i] - frequenz_int*bahn.kapazitaet + queue.anzahl[i-1]) <=0:\n",
    "                queue.anzahl[i] = 0\n",
    "            else:\n",
    "                queue.anzahl[i] += queue.neuerandrang[i] - frequenz_int*bahn.kapazitaet + queue.anzahl[i-1]\n",
    "            for k in range(queue.neuerandrang[i]): #erhöhe die Anzahl der Arrays pro Wartegast um 1\n",
    "                wartegaeste.wartezeit += [0]\n",
    "            queue.anzahl[i-1] = 0\n",
    "            for l in range(frequenz_int):\n",
    "                for b in range(len(wartegaeste.wartezeit)):\n",
    "                    wartegaeste.wartezeit[b] += timestep #füge pro Aufnahme der Bahn einen Zeitschritt für die Leute, die nicht einsteigen, hinzu\n",
    "                wartegaeste.wartezeit = heapsort(wartegaeste.wartezeit)\n",
    "                wartegaeste.wartezeit = wartegaeste.wartezeit[bahn.kapazitaet:]\n",
    "        \n",
    "        print(\"queue.anzahl: \", queue.anzahl)\n",
    "        print(\"wartegaeste.wartezeit: \", wartegaeste.wartezeit)\n",
    "        print(\"len\", len(wartegaeste.wartezeit))"
   ]
  },
  {
   "cell_type": "code",
   "execution_count": null,
   "metadata": {},
   "outputs": [],
   "source": [
    "a=[0, 2, 4, 6, 8, 10, 12, 14, 16, 18, 20, 22, 24, 26, 28, 30, 32, 34, 36, 38, 40, 42, 44, 46]\n",
    "Q1 = Queue([])\n",
    "\n",
    "for i in range(len(a)):\n",
    "    Q1.neuerandrang[i] = a[i]\n",
    "G = Wartegaeste([])"
   ]
  },
  {
   "cell_type": "code",
   "execution_count": null,
   "metadata": {},
   "outputs": [],
   "source": [
    "todomagic(Q1,G)"
   ]
  }
 ],
 "metadata": {
  "kernelspec": {
   "display_name": "Python 3",
   "language": "python",
   "name": "python3"
  },
  "language_info": {
   "codemirror_mode": {
    "name": "ipython",
    "version": 3
   },
   "file_extension": ".py",
   "mimetype": "text/x-python",
   "name": "python",
   "nbconvert_exporter": "python",
   "pygments_lexer": "ipython3",
   "version": "3.6.6"
  }
 },
 "nbformat": 4,
 "nbformat_minor": 2
}
