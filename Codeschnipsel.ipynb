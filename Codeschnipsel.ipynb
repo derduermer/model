{
 "cells": [
  {
   "cell_type": "code",
   "execution_count": null,
   "metadata": {},
   "outputs": [],
   "source": [
    "\"\"\"class BK: #Beförderungsknoten\n",
    "    def __init__(self, Q, array_BF):\n",
    "        self.q = Q #Warteschlange\n",
    "        self.array_BF = [data]\"\"\""
   ]
  },
  {
   "cell_type": "code",
   "execution_count": null,
   "metadata": {},
   "outputs": [],
   "source": [
    "\"\"\"queue.stunde = range(24)\n",
    "a=len(queue.stunde)\n",
    "print(a)\"\"\"\n",
    "\n",
    "\"\"\"for i in range(len(queue.stunde)):\n",
    "    while True:\n",
    "        try:\n",
    "            queue.andrang[i] = input(\"Gib bitte den Andrang in der x-ten Stunde ein: \")\n",
    "            queue.andrang[i] = int(queue.andrang[i])\n",
    "            break\n",
    "        except ValueError:\n",
    "            print(\"Dieser Wert ist falsch! Bitte erneut eingeben.\")\n",
    "\"\"\""
   ]
  },
  {
   "cell_type": "code",
   "execution_count": null,
   "metadata": {},
   "outputs": [],
   "source": [
    "\"\"\"def auffuellen_2(queue):\n",
    "    queue.stunde = []\n",
    "    queue.neuerandrang = []\n",
    "    for i in range(24):\n",
    "        while True:\n",
    "            try:\n",
    "                queue.stunde += [i]\n",
    "                n = 2+i\n",
    "                \n",
    "                #print(queue.stunde)\n",
    "                #n = input(\"Gib bitte die Zahl der Wartegäste an: \")\n",
    "                #n = int(n)\n",
    "                break\n",
    "            except ValueError:\n",
    "                print(\"Dieser Wert ist falsch! Bitte erneut eingeben.\")\n",
    "        queue.neuerandrang += [n]   \"\"\""
   ]
  },
  {
   "cell_type": "code",
   "execution_count": 17,
   "metadata": {},
   "outputs": [],
   "source": [
    "A = [2,2,3,5,6,8,5,8,9,5,8,5]"
   ]
  },
  {
   "cell_type": "code",
   "execution_count": 18,
   "metadata": {},
   "outputs": [
    {
     "name": "stdout",
     "output_type": "stream",
     "text": [
      "[2, 2]\n"
     ]
    }
   ],
   "source": [
    "\n",
    "print(A[0:2])"
   ]
  },
  {
   "cell_type": "code",
   "execution_count": 21,
   "metadata": {},
   "outputs": [],
   "source": [
    "A = A[2:]"
   ]
  },
  {
   "cell_type": "code",
   "execution_count": 22,
   "metadata": {},
   "outputs": [
    {
     "data": {
      "text/plain": [
       "[3, 5, 6, 8, 5, 8, 9, 5, 8, 5]"
      ]
     },
     "execution_count": 22,
     "metadata": {},
     "output_type": "execute_result"
    }
   ],
   "source": [
    "A"
   ]
  },
  {
   "cell_type": "code",
   "execution_count": null,
   "metadata": {},
   "outputs": [],
   "source": []
  }
 ],
 "metadata": {
  "kernelspec": {
   "display_name": "Python 3",
   "language": "python",
   "name": "python3"
  },
  "language_info": {
   "codemirror_mode": {
    "name": "ipython",
    "version": 3
   },
   "file_extension": ".py",
   "mimetype": "text/x-python",
   "name": "python",
   "nbconvert_exporter": "python",
   "pygments_lexer": "ipython3",
   "version": "3.6.6"
  }
 },
 "nbformat": 4,
 "nbformat_minor": 2
}
