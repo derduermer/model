{
 "cells": [
  {
   "cell_type": "code",
   "execution_count": null,
   "metadata": {},
   "outputs": [],
   "source": [
    "import heapq as hq\n",
    "import heapq_max as hqm\n",
    "import numpy as np\n",
    "\n",
    "class node: #Klasse der Bahnhofsknoten\n",
    "    pass\n",
    "\n",
    "class BF: #Beförderungsfälle; variabel\n",
    "    def __init__(self, Richtung, Ankunftszeit):\n",
    "        self.richtung = Richtung #Pfad ist nicht programmiert, da es nur einen gibt\n",
    "        self.ankunftszeit = Ankunftszeit\n",
    "        \n",
    "class BM: #Beförderungsmittel; Parameter werden später mit input fest eingegeben\n",
    "    def __init__(self, Reisezeit, Kapazitaet, Intervall, Frequenz):\n",
    "        self.reisezeit = Reisezeit\n",
    "        self.kapazitaet = Kapazitaet\n",
    "        self.intervall = Intervall\n",
    "        self.frequenz = Frequenz\n",
    "\n",
    "class Queue: #Warteschlange\n",
    "    def __init__(self, NeuerAndrang):\n",
    "        self.stunde = []\n",
    "        for i in range(24):\n",
    "            self.stunde += [i]\n",
    "        self.neuerandrang = [NeuerAndrang]\n",
    "        self.anzahl = [0]*24\n",
    "\n",
    "class Wartegaeste: #Wartegäste\n",
    "    def __init__(self, Wartezeit):\n",
    "        self.Wartezeit = [Wartezeit]\n",
    "        \n",
    "def heapsort(i): #Sortieralgorithmus mit heapqueue_max => sortiere absteigend\n",
    "    array = []\n",
    "    for n in i:\n",
    "        hqm.heappush_max(array, n)\n",
    "    return [hqm.heappop_max(array) for i in range(len(array))]"
   ]
  },
  {
   "cell_type": "code",
   "execution_count": null,
   "metadata": {},
   "outputs": [],
   "source": [
    "bahn = BM(5, 10, 20.0, 3.0) #Seilbahn, deren Eigenschaften mit Argumenten dargestellt werden\n",
    "#Setze alle Parameter auf 0\n",
    "#while True: #diskretes Zeitgitter => natürliche Zahlen\n",
    "#    try: #Fehlererkennung bei Eingabe => Programm stürzt nicht ab\n",
    "#        bahn.reisezeit = input(\"Gib bitte eine gültige Reisezeit in Minuten an: \") #manuelle Eingabe (z.B. ermittelte Werte von Lukas S. und Jackie)\n",
    "#        bahn.reisezeit = int(bahn.reisezeit)\n",
    "#        break\n",
    "#    except ValueError:\n",
    "#        print(\"Dieser Wert ist falsch! Bitte erneut eingeben.\")\n",
    "#while True: #Kapazität ist eine natürliche Zahl\n",
    "#    try: #Fehlererkennung bei Eingabe => Programm stürzt nicht ab\n",
    "#        bahn.kapazitaet = input(\"Gib bitte eine Kapazität der Bahnen an: \")\n",
    "#        bahn.kapazitaet = int(bahn.kapazitaet)\n",
    "#        break\n",
    "#    except ValueError:\n",
    "#        print(\"Dieser Wert ist falsch! Bitte erneut eingeben.\")\n",
    "#while True: #diskretes Zeitgitter => natürliche Zahlen\n",
    "#    try: #Fehlererkennung bei Eingabe => Programm stürzt nicht ab\n",
    "#        bahn.intervall = input(\"Gib bitte ein Intervall des Abstandes der Bahnen in Minuten an: \")\n",
    "#        bahn.intervall = float(bahn.intervall)\n",
    "#        bahn.frequenz = 60/bahn.intervall\n",
    "#        print(\"Entspricht einer Frequenz von\", bahn.frequenz, \"Bahnen pro Stunde\")\n",
    "#        break\n",
    "#    except ValueError:\n",
    "#        print(\"Dieser Wert ist falsch! Bitte erneut eingeben.\")"
   ]
  },
  {
   "cell_type": "code",
   "execution_count": null,
   "metadata": {},
   "outputs": [],
   "source": [
    "def heapsort(i): #Sortieralgorithmus mit heapqueue_max => sortiere absteigend\n",
    "    array = []\n",
    "    for n in i:\n",
    "        hqm.heappush_max(array, n)\n",
    "    return [hqm.heappop_max(array) for i in range(len(array))]"
   ]
  },
  {
   "cell_type": "code",
   "execution_count": null,
   "metadata": {},
   "outputs": [],
   "source": [
    "def auffuellen(queue, wartegaeste):\n",
    "    # Löschen der Queue-Daten\n",
    "    queue.neuerandrang = []\n",
    "    wartegaeste.wartezeit = []\n",
    "    timestep = 1/bahn.frequenz\n",
    "    A=[0];j=0\n",
    "    for i in range(60):\n",
    "        j+=bahn.frequenz\n",
    "        if j>=60: break\n",
    "        A+=[j]\n",
    "    print(\"die länge von A: \", len(A))\n",
    "    for i in range(24):\n",
    "        n = 2*i\n",
    "        queue.neuerandrang += [n]\n",
    "        print(\"queue.neuerandrang: \", queue.neuerandrang)\n",
    "        if (queue.anzahl[i] + queue.neuerandrang[i]) <= bahn.kapazitaet: #Fall, dass die Queue kleiner oder gleich der Kapazität der Bahn ist\n",
    "            queue.anzahl[i]=0\n",
    "            wartegaeste.wartezeit = []\n",
    "        else: #übrig bleibender Fall\n",
    "            \n",
    "            #for j in A:\n",
    "            queue.anzahl[i] += queue.neuerandrang[i] - bahn.kapazitaet + queue.anzahl[i-1]\n",
    "            queue.anzahl[i-1] = 0\n",
    "            for k in range(queue.anzahl[i]-queue.anzahl[i-1]): #erhöhe die Anzahl der Arrays pro Wartegast um 1\n",
    "                wartegaeste.wartezeit += [0]\n",
    "            for b in range(len(wartegaeste.wartezeit)):\n",
    "                wartegaeste.wartezeit[b] += timestep #füge pro Aufnahme der Bahn einen Zeitschritt für die Leute, die nicht einsteigen, hinzu\n",
    "            wartegaeste.wartezeit = heapsort(wartegaeste.wartezeit)\n",
    "            wartegaeste.wartezeit = wartegaeste.wartezeit[bahn.kapazitaet :]\n",
    "        \n",
    "        print(\"queue.anzahl: \", queue.anzahl)\n",
    "        print(\"wartegaeste.wartezeit: \", wartegaeste.wartezeit)\n",
    "        print(\"len\", len(wartegaeste.wartezeit))"
   ]
  },
  {
   "cell_type": "code",
   "execution_count": null,
   "metadata": {},
   "outputs": [],
   "source": [
    "queue1 = Queue([])\n",
    "wartegaeste1 = Wartegaeste([])\n",
    "auffuellen(queue1, wartegaeste1)"
   ]
  },
  {
   "cell_type": "markdown",
   "metadata": {},
   "source": [
    "Lesart der Lösung:\n",
    "Zunächst werden x beliebige Personen mitgenommen. Diejenigen Neuhinzugekommenen, die nicht befördert werden,\n",
    "warten 0 Minuten und werden in der Liste der Wartezeit nicht erwähnt. Diejenigen, die bereits seit 1 Fahrt auf die\n",
    "Beförderung warten, erhalten einen Zeitwert >0 und werden im Array der Wartezeit registriert."
   ]
  },
  {
   "cell_type": "code",
   "execution_count": null,
   "metadata": {},
   "outputs": [],
   "source": [
    "A = [100, 200, 300, 400, 500]\n",
    "a = []\n",
    "for i in A:\n",
    "    for j in range(5): i-=10\n",
    "    print(i)\n",
    "    a += [i]\n",
    "A = a\n",
    "print(A)"
   ]
  },
  {
   "cell_type": "code",
   "execution_count": null,
   "metadata": {},
   "outputs": [],
   "source": []
  }
 ],
 "metadata": {
  "kernelspec": {
   "display_name": "Python 3",
   "language": "python",
   "name": "python3"
  },
  "language_info": {
   "codemirror_mode": {
    "name": "ipython",
    "version": 3
   },
   "file_extension": ".py",
   "mimetype": "text/x-python",
   "name": "python",
   "nbconvert_exporter": "python",
   "pygments_lexer": "ipython3",
   "version": "3.6.6"
  }
 },
 "nbformat": 4,
 "nbformat_minor": 2
}
