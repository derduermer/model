{
 "cells": [
  {
   "cell_type": "code",
   "execution_count": 4,
   "metadata": {},
   "outputs": [],
   "source": [
    "import networkx as nx\n",
    "import matplotlib.pyplot as plt"
   ]
  },
  {
   "cell_type": "markdown",
   "metadata": {},
   "source": [
    "'''G = nx.Graph()\n",
    "G.add_node(1)\n",
    "G.add_nodes_from([2,3])\n",
    "#H = nx.path_graph(10)\n",
    "G.add_edge(1,2)\n",
    "e = (2,3)\n",
    "G.add_edge(*e)\n",
    "#plt.subplot(121)\n",
    "nx.draw(G, with_labels = True, font_weight = 'bold')'''"
   ]
  },
  {
   "cell_type": "markdown",
   "metadata": {},
   "source": [
    "'''G = nx.petersen_graph()\n",
    "plt.subplot(121)\n",
    "nx.draw(G, with_labels = True, font_weight = 'bold')'''"
   ]
  },
  {
   "cell_type": "code",
   "execution_count": 5,
   "metadata": {},
   "outputs": [
    {
     "data": {
      "image/png": "[encoded data removed]",
      "text/plain": [
       "<Figure size 432x288 with 1 Axes>"
      ]
     },
     "metadata": {},
     "output_type": "display_data"
    }
   ],
   "source": [
    "G = nx.Graph()\n",
    "G.add_node('Hbf')\n",
    "G.add_node('INF')\n",
    "G.add_node('Phil')\n",
    "G.add_node('Bism')\n",
    "G.add_node('Uni')\n",
    "G.add_node('Hand')\n",
    "G.add_node('Rohr')\n",
    "G.add_node('Zieg')\n",
    "#Rundfahrt\n",
    "G.add_edge('INF', 'Hbf')\n",
    "G.add_edge('Phil', 'INF')\n",
    "G.add_edge('Uni', 'Phil')\n",
    "G.add_edge('Bism', 'Uni')\n",
    "G.add_edge('Hbf', 'Bism')\n",
    "#Zubringer\n",
    "G.add_edge('INF', 'Hand')\n",
    "G.add_edge('Hbf', 'Rohr')\n",
    "G.add_edge('Uni', 'Zieg')\n",
    "nx.draw(G, with_labels = True, font_weight = 'bold')"
   ]
  },
  {
   "cell_type": "code",
   "execution_count": 3,
   "metadata": {},
   "outputs": [
    {
     "data": {
      "text/plain": [
       "['Hbf', 'INF', 'Phil', 'Bism', 'Uni', 'Hand', 'Rohr', 'Zieg']"
      ]
     },
     "execution_count": 3,
     "metadata": {},
     "output_type": "execute_result"
    }
   ],
   "source": [
    "list(G.nodes)\n"
   ]
  },
  {
   "cell_type": "code",
   "execution_count": 7,
   "metadata": {},
   "outputs": [
    {
     "data": {
      "text/plain": [
       "AtlasView({'INF': {}, 'Bism': {}, 'Rohr': {}})"
      ]
     },
     "execution_count": 7,
     "metadata": {},
     "output_type": "execute_result"
    }
   ],
   "source": [
    "G['Hbf']"
   ]
  },
  {
   "cell_type": "code",
   "execution_count": null,
   "metadata": {},
   "outputs": [],
   "source": []
  }
 ],
 "metadata": {
  "kernelspec": {
   "display_name": "Python 3",
   "language": "python",
   "name": "python3"
  },
  "language_info": {
   "codemirror_mode": {
    "name": "ipython",
    "version": 3
   },
   "file_extension": ".py",
   "mimetype": "text/x-python",
   "name": "python",
   "nbconvert_exporter": "python",
   "pygments_lexer": "ipython3",
   "version": "3.6.8"
  }
 },
 "nbformat": 4,
 "nbformat_minor": 2
}
