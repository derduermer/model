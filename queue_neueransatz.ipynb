{
 "cells": [
  {
   "cell_type": "markdown",
   "metadata": {},
   "source": [
    "#  Fall mit 2 Knoten, neuer Ansatz"
   ]
  },
  {
   "cell_type": "code",
   "execution_count": 20,
   "metadata": {},
   "outputs": [],
   "source": [
    "import heapq as hq\n",
    "# Pseudo-Python-Code\n",
    "class Pqe: # Elemente der Queue\n",
    "    def __init__(self, Time, Task, Infos):\n",
    "        pass\n",
    "\n",
    "class ProgramQueue:\n",
    "    pass\n",
    "\n",
    "class BM:\n",
    "    def __init__(self, Maxi, Aktuell): #, Wo, Fahrtzeit): # das Fahrzeug muss sich den Standort merken\n",
    "        self.max = Maxi\n",
    "        self.aktuell = Aktuell\n",
    "        #self.wo = Wo\n",
    "        #self.fahrtzeit = Fahrtzeit #muss woanders gespeichert werden!\n",
    "        \n",
    "class node:\n",
    "    def __init__(self, PassagierAnzahl):\n",
    "        self.pa = PassagierAnzahl\n",
    "        \n",
    "class Passagier:\n",
    "    def __init__(self, Bahn):#, Ziel, Ort):\n",
    "        #self.zeil = Ziel\n",
    "        #self.ort = Ort\n",
    "        self.bahn = Bahn\n",
    "\n",
    "    \n",
    "# heapsort verbessern\n",
    "def heapsort(queue): \n",
    "    array = [] #leeres Array\n",
    "    for n in queue:\n",
    "        print(n) # zum debuggen \n",
    "        hq.heappush(array, n) #Element auf den Heap verschieben\n",
    "    return [hq.heappop(array) for i in range(len(array))]"
   ]
  },
  {
   "cell_type": "code",
   "execution_count": null,
   "metadata": {},
   "outputs": [],
   "source": [
    "# Klasse von Task mit der Aufgabe ???\n",
    "# Wir überlegen uns, dass das Programm zwei Zustände hat. Ein Beförderungsmittel fährt \n",
    "# los und Passagiere steigen aus\n",
    " \n",
    "def losfahren(data): # hängt gegebenenfalls am Ende der Programmqueue weitere 'Tasks' hinzu\n",
    "    pass\n",
    "\n",
    "def aussteigen(passagier): # hängt gegebenenfalls am Ende der Programmqueue weitere 'Tasks' hinzu\n",
    "    pass\n",
    "    \n",
    "    '''print(passagier[0].aktuell)\n",
    "    passagier[0].aktuell = passagier[0].aktuell -1\n",
    "    print(passagier[0].aktuell)'''\n"
   ]
  },
  {
   "cell_type": "code",
   "execution_count": 26,
   "metadata": {},
   "outputs": [
    {
     "ename": "TypeError",
     "evalue": "'<' not supported between instances of 'Passagier' and 'Passagier'",
     "output_type": "error",
     "traceback": [
      "\u001b[0;31m---------------------------------------------------------------------------\u001b[0m",
      "\u001b[0;31mTypeError\u001b[0m                                 Traceback (most recent call last)",
      "\u001b[0;32m<ipython-input-26-5afc92254316>\u001b[0m in \u001b[0;36m<module>\u001b[0;34m\u001b[0m\n\u001b[1;32m      6\u001b[0m \u001b[0mliste\u001b[0m \u001b[0;34m=\u001b[0m \u001b[0;34m[\u001b[0m\u001b[0;34m]\u001b[0m\u001b[0;34m\u001b[0m\u001b[0m\n\u001b[1;32m      7\u001b[0m \u001b[0mhq\u001b[0m\u001b[0;34m.\u001b[0m\u001b[0mheappush\u001b[0m\u001b[0;34m(\u001b[0m\u001b[0mliste\u001b[0m\u001b[0;34m,\u001b[0m \u001b[0;34m[\u001b[0m\u001b[0;36m1\u001b[0m\u001b[0;34m,\u001b[0m\u001b[0;34m'A'\u001b[0m\u001b[0;34m,\u001b[0m \u001b[0mpassagier0\u001b[0m\u001b[0;34m]\u001b[0m\u001b[0;34m)\u001b[0m\u001b[0;34m\u001b[0m\u001b[0m\n\u001b[0;32m----> 8\u001b[0;31m \u001b[0mhq\u001b[0m\u001b[0;34m.\u001b[0m\u001b[0mheappush\u001b[0m\u001b[0;34m(\u001b[0m\u001b[0mliste\u001b[0m\u001b[0;34m,\u001b[0m \u001b[0;34m[\u001b[0m\u001b[0;36m1\u001b[0m\u001b[0;34m,\u001b[0m\u001b[0;34m'A'\u001b[0m\u001b[0;34m,\u001b[0m \u001b[0mpassagier1\u001b[0m\u001b[0;34m]\u001b[0m\u001b[0;34m)\u001b[0m\u001b[0;34m\u001b[0m\u001b[0m\n\u001b[0m\u001b[1;32m      9\u001b[0m \u001b[0;34m\u001b[0m\u001b[0m\n\u001b[1;32m     10\u001b[0m \u001b[0;34m\u001b[0m\u001b[0m\n",
      "\u001b[0;31mTypeError\u001b[0m: '<' not supported between instances of 'Passagier' and 'Passagier'"
     ]
    }
   ],
   "source": [
    "# Pseudo-Python-Code\n",
    "bahn0 = BM(10,2)\n",
    "passagier0 = Passagier(bahn0)\n",
    "passagier1 = Passagier(bahn0)\n",
    "\n",
    "liste = []\n",
    "hq.heappush(liste, [1,'A', passagier0])\n",
    "hq.heappush(liste, [1,'A', passagier1])\n",
    "\n",
    "\n",
    "def main(Programmqueue):\n",
    "    if len(Programmqueue) == 0:\n",
    "        print('Ende')\n",
    "        return 0\n",
    "    else:\n",
    "    # Problem: Die Liste richtig formatieren, sodass man den Sort-Alg anwenden kann\n",
    "        heapsort(Programmqueue)\n",
    "        QElement = hq.heappop(Programmqueue)\n",
    "        print(QElement)\n",
    "        if QElement[1] == 'A':\n",
    "            print('A wurde aus geführt') # zum debuggen\n",
    "            print(QElement[2])\n",
    "            #aussteigen(QElement[2])\n",
    "        elif QElement[1] == 'B':\n",
    "            print('B wurde aus geführt') # zum debuggen\n",
    "            losfahren(QElement[2])\n",
    "        else:\n",
    "            print('Error')\n",
    "        main(Programmqueue)\n",
    "    "
   ]
  },
  {
   "cell_type": "code",
   "execution_count": 27,
   "metadata": {},
   "outputs": [
    {
     "name": "stdout",
     "output_type": "stream",
     "text": [
      "[1, 'A', <__main__.Passagier object at 0x7fc78ccd7748>]\n",
      "[1, 'A', <__main__.Passagier object at 0x7fc78ccd7940>]\n"
     ]
    },
    {
     "ename": "TypeError",
     "evalue": "'<' not supported between instances of 'Passagier' and 'Passagier'",
     "output_type": "error",
     "traceback": [
      "\u001b[0;31m---------------------------------------------------------------------------\u001b[0m",
      "\u001b[0;31mTypeError\u001b[0m                                 Traceback (most recent call last)",
      "\u001b[0;32m<ipython-input-27-3804b00ddbec>\u001b[0m in \u001b[0;36m<module>\u001b[0;34m\u001b[0m\n\u001b[0;32m----> 1\u001b[0;31m \u001b[0mmain\u001b[0m\u001b[0;34m(\u001b[0m\u001b[0mliste\u001b[0m\u001b[0;34m)\u001b[0m\u001b[0;34m\u001b[0m\u001b[0m\n\u001b[0m",
      "\u001b[0;32m<ipython-input-23-52b94f20df09>\u001b[0m in \u001b[0;36mmain\u001b[0;34m(Programmqueue)\u001b[0m\n\u001b[1;32m     15\u001b[0m     \u001b[0;32melse\u001b[0m\u001b[0;34m:\u001b[0m\u001b[0;34m\u001b[0m\u001b[0m\n\u001b[1;32m     16\u001b[0m     \u001b[0;31m# Problem: Die Liste richtig formatieren, sodass man den Sort-Alg anwenden kann\u001b[0m\u001b[0;34m\u001b[0m\u001b[0;34m\u001b[0m\u001b[0m\n\u001b[0;32m---> 17\u001b[0;31m         \u001b[0mheapsort\u001b[0m\u001b[0;34m(\u001b[0m\u001b[0mProgrammqueue\u001b[0m\u001b[0;34m)\u001b[0m\u001b[0;34m\u001b[0m\u001b[0m\n\u001b[0m\u001b[1;32m     18\u001b[0m         \u001b[0mQElement\u001b[0m \u001b[0;34m=\u001b[0m \u001b[0mhq\u001b[0m\u001b[0;34m.\u001b[0m\u001b[0mheappop\u001b[0m\u001b[0;34m(\u001b[0m\u001b[0mProgrammqueue\u001b[0m\u001b[0;34m)\u001b[0m\u001b[0;34m\u001b[0m\u001b[0m\n\u001b[1;32m     19\u001b[0m         \u001b[0mprint\u001b[0m\u001b[0;34m(\u001b[0m\u001b[0mQElement\u001b[0m\u001b[0;34m)\u001b[0m\u001b[0;34m\u001b[0m\u001b[0m\n",
      "\u001b[0;32m<ipython-input-20-2ec8ce8b1355>\u001b[0m in \u001b[0;36mheapsort\u001b[0;34m(queue)\u001b[0m\n\u001b[1;32m     44\u001b[0m     \u001b[0;32mfor\u001b[0m \u001b[0mn\u001b[0m \u001b[0;32min\u001b[0m \u001b[0mqueue\u001b[0m\u001b[0;34m:\u001b[0m\u001b[0;34m\u001b[0m\u001b[0m\n\u001b[1;32m     45\u001b[0m         \u001b[0mprint\u001b[0m\u001b[0;34m(\u001b[0m\u001b[0mn\u001b[0m\u001b[0;34m)\u001b[0m \u001b[0;31m# zum debuggen\u001b[0m\u001b[0;34m\u001b[0m\u001b[0m\n\u001b[0;32m---> 46\u001b[0;31m         \u001b[0mhq\u001b[0m\u001b[0;34m.\u001b[0m\u001b[0mheappush\u001b[0m\u001b[0;34m(\u001b[0m\u001b[0marray\u001b[0m\u001b[0;34m,\u001b[0m \u001b[0mn\u001b[0m\u001b[0;34m)\u001b[0m \u001b[0;31m#Element auf den Heap verschieben\u001b[0m\u001b[0;34m\u001b[0m\u001b[0m\n\u001b[0m\u001b[1;32m     47\u001b[0m     \u001b[0;32mreturn\u001b[0m \u001b[0;34m[\u001b[0m\u001b[0mhq\u001b[0m\u001b[0;34m.\u001b[0m\u001b[0mheappop\u001b[0m\u001b[0;34m(\u001b[0m\u001b[0marray\u001b[0m\u001b[0;34m)\u001b[0m \u001b[0;32mfor\u001b[0m \u001b[0mi\u001b[0m \u001b[0;32min\u001b[0m \u001b[0mrange\u001b[0m\u001b[0;34m(\u001b[0m\u001b[0mlen\u001b[0m\u001b[0;34m(\u001b[0m\u001b[0marray\u001b[0m\u001b[0;34m)\u001b[0m\u001b[0;34m)\u001b[0m\u001b[0;34m]\u001b[0m\u001b[0;34m\u001b[0m\u001b[0m\n",
      "\u001b[0;31mTypeError\u001b[0m: '<' not supported between instances of 'Passagier' and 'Passagier'"
     ]
    }
   ],
   "source": [
    "main(liste)"
   ]
  },
  {
   "cell_type": "code",
   "execution_count": null,
   "metadata": {},
   "outputs": [],
   "source": []
  }
 ],
 "metadata": {
  "kernelspec": {
   "display_name": "Python 3",
   "language": "python",
   "name": "python3"
  },
  "language_info": {
   "codemirror_mode": {
    "name": "ipython",
    "version": 3
   },
   "file_extension": ".py",
   "mimetype": "text/x-python",
   "name": "python",
   "nbconvert_exporter": "python",
   "pygments_lexer": "ipython3",
   "version": "3.6.6"
  }
 },
 "nbformat": 4,
 "nbformat_minor": 2
}
