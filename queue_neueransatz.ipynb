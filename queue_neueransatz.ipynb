{
 "cells": [
  {
   "cell_type": "markdown",
   "metadata": {},
   "source": [
    "#  Fall mit 2 Knoten neueransatz"
   ]
  },
  {
   "cell_type": "code",
   "execution_count": null,
   "metadata": {},
   "outputs": [],
   "source": [
    "import heapq as hq\n",
    "# Pseudo Python Code\n",
    "class Pqe: # Elemente von der Queue\n",
    "    def __init__(self, Time, Task, Infos):\n",
    "        pass\n",
    "class ProgramQueue:\n",
    "    pass\n",
    "\n",
    "class BM:\n",
    "    def __init__(self, Maxi):\n",
    "        self.max = Maxi\n",
    "        self.aktuell = Aktuell\n",
    "        \n",
    "class node:\n",
    "    def __init__(self, PassagierAnzahl):\n",
    "        self.pa = PassagierAnzahl\n",
    "\n",
    "\n",
    "# classer von task mit der aufgebe um \n",
    "# wir übelegen das Programm zwei zustände hat. Ein Befördeungsmitel fährt \n",
    "# los und Passagiere stiegen aus\n",
    " \n",
    "#def losfahren(): # hängt gegebenfalls am Ende der Programmqueue weitere 'Tasks' hinzu\n",
    "#    pass\n",
    "\n",
    "#def aussteigen(bahn, passagier): # hängt gegebenfalls am Ende der Programmqueue weitere 'Tasks' hinzu\n",
    "#    bahn.aktuell= bahn.aktuell - 1 # bahn.aktuell(-1)\n",
    "    \n",
    "def heapsort(i): \n",
    "    array = [] #leeres Array\n",
    "    for n in i:\n",
    "        hq.heappush(array, n) #Element auf den Heap verschieben\n",
    "    return [hq.heappop(array) for i in range(len(array))]"
   ]
  },
  {
   "cell_type": "code",
   "execution_count": null,
   "metadata": {},
   "outputs": [],
   "source": [
    "# Peudo Python-Code\n",
    "Programmqueue = []\n",
    "hq.heappush(Programmqueue, ('A',[a,d],0))\n",
    "hq.heappush(Programmqueue, ('B',[a,b],1))\n",
    "\n",
    "def losfahren(A):\n",
    "    print(A)\n",
    "def aussteigen(A):\n",
    "    print(B)\n",
    "\n",
    "def main():\n",
    "    if len(Programmqueue) == 0:\n",
    "        return 0\n",
    "    else:\n",
    "    heapsort(Programmqueue)\n",
    "    QElement = hq.heappop(Programmqueue)\n",
    "    if QElement[0] == 'A':\n",
    "        aussteigen(QElement[1])\n",
    "    elif QElement[0] == 'B':\n",
    "        losfahren(QElement[1])\n",
    "    else:\n",
    "        break\n",
    "    main()"
   ]
  },
  {
   "cell_type": "code",
   "execution_count": null,
   "metadata": {},
   "outputs": [],
   "source": []
  }
 ],
 "metadata": {
  "kernelspec": {
   "display_name": "Python 3",
   "language": "python",
   "name": "python3"
  },
  "language_info": {
   "codemirror_mode": {
    "name": "ipython",
    "version": 3
   },
   "file_extension": ".py",
   "mimetype": "text/x-python",
   "name": "python",
   "nbconvert_exporter": "python",
   "pygments_lexer": "ipython3",
   "version": "3.6.6"
  }
 },
 "nbformat": 4,
 "nbformat_minor": 2
}
