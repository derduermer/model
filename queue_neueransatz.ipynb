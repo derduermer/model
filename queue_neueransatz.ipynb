{
 "cells": [
  {
   "cell_type": "markdown",
   "metadata": {},
   "source": [
    "#  Fall mit 2 Knoten, neuer Ansatz"
   ]
  },
  {
   "cell_type": "code",
   "execution_count": null,
   "metadata": {},
   "outputs": [],
   "source": [
    "import heapq as hq\n",
    "# Pseudo-Python-Code\n",
    "class Pqe: # Elemente der Queue\n",
    "    def __init__(self, Time, Task, Infos):\n",
    "        pass\n",
    "\n",
    "class ProgramQueue:\n",
    "    pass\n",
    "\n",
    "class BM:\n",
    "    def __init__(self, Maxi, Aktuell): #, Wo, Fahrtzeit): # das Fahrzeug muss sich den Standort merken\n",
    "        self.max = Maxi\n",
    "        self.aktuell = Aktuell # aktueller stand \n",
    "        #self.wo = Wo\n",
    "        #self.fahrtzeit = Fahrtzeit #muss woanders gespeichert werden!\n",
    "    def __lt__(self, other):\n",
    "        return (self.max, self.aktuell) < \\\n",
    "               (other.max, other.aktuell)\n",
    "        \n",
    "class node:\n",
    "    def __init__(self, PassagierAnzahl):\n",
    "        self.pa = PassagierAnzahl\n",
    "        \n",
    "class Passagier:\n",
    "    def __init__(self, Bahn):#, Ziel, Ort):\n",
    "        #self.zeil = Ziel\n",
    "        #self.ort = Ort\n",
    "        self.bahn = Bahn\n",
    "    def __lt__(self, other):\n",
    "        return (self.bahn) < \\\n",
    "               (other.bahn)\n",
    "\n",
    "    \n",
    "# heapsort verbessern\n",
    "def heapsort(queue): \n",
    "    array = [] #leeres Array\n",
    "    for n in queue:\n",
    "        print(n) # zum debuggen \n",
    "        hq.heappush(array, n) #Element auf den Heap verschieben\n",
    "    return [hq.heappop(array) for i in range(len(array))]"
   ]
  },
  {
   "cell_type": "code",
   "execution_count": null,
   "metadata": {},
   "outputs": [],
   "source": [
    "# Klasse von Task mit der Aufgabe ???\n",
    "# Wir überlegen uns, dass das Programm zwei Zustände hat. Ein Beförderungsmittel fährt \n",
    "# los und Passagiere steigen aus\n",
    " \n",
    "def losfahren(data): # hängt gegebenenfalls am Ende der Programmqueue weitere 'Tasks' hinzu\n",
    "    pass\n",
    "\n",
    "def aussteigen(passagier): # hängt gegebenenfalls am Ende der Programmqueue weitere 'Tasks' hinzu\n",
    "    pass\n",
    "    \n",
    "    '''print(passagier[0].aktuell)\n",
    "    passagier[0].aktuell = passagier[0].aktuell -1\n",
    "    print(passagier[0].aktuell)'''\n"
   ]
  },
  {
   "cell_type": "code",
   "execution_count": null,
   "metadata": {},
   "outputs": [],
   "source": [
    "# Pseudo-Python-Code\n",
    "def main(Programmqueue):\n",
    "    if len(Programmqueue) == 0:\n",
    "        print('Ende')\n",
    "        return 0\n",
    "    else:\n",
    "    # Problem: Die Liste richtig formatieren, sodass man den Sort-Alg anwenden kann\n",
    "        heapsort(Programmqueue)\n",
    "        QElement = hq.heappop(Programmqueue)\n",
    "        print(QElement)\n",
    "        if QElement[1] == 'A':\n",
    "            print('A wurde aus geführt') # zum debuggen\n",
    "            print(QElement[2])\n",
    "            #aussteigen(QElement[2])\n",
    "        elif QElement[1] == 'B':\n",
    "            print('B wurde aus geführt') # zum debuggen\n",
    "            losfahren(QElement[2])\n",
    "        else:\n",
    "            print('Error')\n",
    "        main(Programmqueue)   "
   ]
  },
  {
   "cell_type": "code",
   "execution_count": null,
   "metadata": {},
   "outputs": [],
   "source": [
    "bahn0 = BM(10,2)\n",
    "passagier0 = Passagier(bahn0)\n",
    "passagier1 = Passagier(bahn0)\n",
    "\n",
    "liste = []\n",
    "hq.heappush(liste, [1,'A', passagier0])\n",
    "hq.heappush(liste, [1,'A', passagier1])\n",
    "\n",
    "# Auführungen\n",
    "main(liste)"
   ]
  },
  {
   "cell_type": "markdown",
   "metadata": {},
   "source": []
  }
 ],
 "metadata": {
  "kernelspec": {
   "display_name": "Python 3",
   "language": "python",
   "name": "python3"
  },
  "language_info": {
   "codemirror_mode": {
    "name": "ipython",
    "version": 3
   },
   "file_extension": ".py",
   "mimetype": "text/x-python",
   "name": "python",
   "nbconvert_exporter": "python",
   "pygments_lexer": "ipython3",
   "version": "3.6.6"
  }
 },
 "nbformat": 4,
 "nbformat_minor": 2
}
