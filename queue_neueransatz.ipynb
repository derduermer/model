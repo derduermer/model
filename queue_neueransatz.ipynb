{
 "cells": [
  {
   "cell_type": "markdown",
   "metadata": {},
   "source": [
    "#  Fall mit 2 Knoten, neuer Ansatz"
   ]
  },
  {
   "cell_type": "code",
   "execution_count": 14,
   "metadata": {},
   "outputs": [],
   "source": [
    "import heapq as hq\n",
    "# Pseudo-Python-Code\n",
    "class Pqe: # Elemente der Queue\n",
    "    def __init__(self, Time, Task, Infos):\n",
    "        pass\n",
    "\n",
    "class ProgramQueue:\n",
    "    pass\n",
    "\n",
    "class BM:\n",
    "    def __init__(self, Maxi, Aktuell): #, Wo, Fahrtzeit): # das Fahrzeug muss sich den Standort merken\n",
    "        self.max = Maxi\n",
    "        self.aktuell = Aktuell\n",
    "        #self.wo = Wo\n",
    "        #self.fahrtzeit = Fahrtzeit #muss woanders gespeichert werden!\n",
    "        \n",
    "class node:\n",
    "    def __init__(self, PassagierAnzahl):\n",
    "        self.pa = PassagierAnzahl\n",
    "        \n",
    "class Passagier:\n",
    "    def __init__(self, Bahn):#, Ziel, Ort):\n",
    "        #self.zeil = Ziel\n",
    "        #self.ort = Ort\n",
    "        self.bahn = Bahn\n",
    "\n",
    "# Klasse von Task mit der Aufgabe ???\n",
    "# Wir überlegen uns, dass das Programm zwei Zustände hat. Ein Beförderungsmittel fährt \n",
    "# los und Passagiere steigen aus\n",
    " \n",
    "def losfahren(data): # hängt gegebenenfalls am Ende der Programmqueue weitere 'Tasks' hinzu\n",
    "    pass\n",
    "\n",
    "def aussteigen(passagier): # hängt gegebenenfalls am Ende der Programmqueue weitere 'Tasks' hinzu\n",
    "    print(passagier[2].aktuell)\n",
    "    passagier[2].aktuell = passagier[2].aktuell -1\n",
    "    print(passagier[2].aktuell)\n",
    "\n",
    "    \n",
    "# heapsort verbessern\n",
    "def heapsort(queue): \n",
    "    array = [] #leeres Array\n",
    "    for n in queue:\n",
    "        print(n) # zum debuggen \n",
    "        hq.heappush(array, n) #Element auf den Heap verschieben\n",
    "    return [hq.heappop(array) for i in range(len(array))]"
   ]
  },
  {
   "cell_type": "code",
   "execution_count": 15,
   "metadata": {},
   "outputs": [],
   "source": [
    "# Pseudo-Python-Code\n",
    "bahn = BM(10,1)\n",
    "passagier = Passagier(bahn)\n",
    "\n",
    "liste = []\n",
    "hq.heappush(liste, (1,'A',passagier))\n",
    "\n",
    "\n",
    "def main(Programmqueue):\n",
    "    if len(Programmqueue) == 0:\n",
    "        print('Ende')\n",
    "        return 0\n",
    "    else:\n",
    "    # Problem: Die Liste richtig formatieren, sodass man den Sort-Alg anwenden kann\n",
    "        heapsort(Programmqueue)\n",
    "        QElement = hq.heappop(Programmqueue)\n",
    "        print(QElement)\n",
    "        if QElement[1] == 'A':\n",
    "            print('A wurde aus geführt') # zum debuggen\n",
    "            aussteigen(QElement[2])\n",
    "        elif QElement[1] == 'B':\n",
    "            print('B wurde aus geführt') # zum debuggen\n",
    "            losfahren(QElement[1])\n",
    "        else:\n",
    "            print('Error')\n",
    "        main(Programmqueue)\n",
    "    "
   ]
  },
  {
   "cell_type": "code",
   "execution_count": 16,
   "metadata": {},
   "outputs": [
    {
     "name": "stdout",
     "output_type": "stream",
     "text": [
      "(1, 'A', <__main__.Passagier object at 0x7f0668381898>)\n",
      "(1, 'A', <__main__.Passagier object at 0x7f0668381898>)\n",
      "A wurde aus geführt\n"
     ]
    },
    {
     "ename": "TypeError",
     "evalue": "'Passagier' object does not support indexing",
     "output_type": "error",
     "traceback": [
      "\u001b[0;31m-------------------------------------------------------------------------\u001b[0m",
      "\u001b[0;31mTypeError\u001b[0m                               Traceback (most recent call last)",
      "\u001b[0;32m<ipython-input-16-3804b00ddbec>\u001b[0m in \u001b[0;36m<module>\u001b[0;34m\u001b[0m\n\u001b[0;32m----> 1\u001b[0;31m \u001b[0mmain\u001b[0m\u001b[0;34m(\u001b[0m\u001b[0mliste\u001b[0m\u001b[0;34m)\u001b[0m\u001b[0;34m\u001b[0m\u001b[0m\n\u001b[0m",
      "\u001b[0;32m<ipython-input-15-2b0beb3d089a>\u001b[0m in \u001b[0;36mmain\u001b[0;34m(Programmqueue)\u001b[0m\n\u001b[1;32m     18\u001b[0m         \u001b[0;32mif\u001b[0m \u001b[0mQElement\u001b[0m\u001b[0;34m[\u001b[0m\u001b[0;36m1\u001b[0m\u001b[0;34m]\u001b[0m \u001b[0;34m==\u001b[0m \u001b[0;34m'A'\u001b[0m\u001b[0;34m:\u001b[0m\u001b[0;34m\u001b[0m\u001b[0m\n\u001b[1;32m     19\u001b[0m             \u001b[0mprint\u001b[0m\u001b[0;34m(\u001b[0m\u001b[0;34m'A wurde aus geführt'\u001b[0m\u001b[0;34m)\u001b[0m \u001b[0;31m# zum debuggen\u001b[0m\u001b[0;34m\u001b[0m\u001b[0m\n\u001b[0;32m---> 20\u001b[0;31m             \u001b[0maussteigen\u001b[0m\u001b[0;34m(\u001b[0m\u001b[0mQElement\u001b[0m\u001b[0;34m[\u001b[0m\u001b[0;36m2\u001b[0m\u001b[0;34m]\u001b[0m\u001b[0;34m)\u001b[0m\u001b[0;34m\u001b[0m\u001b[0m\n\u001b[0m\u001b[1;32m     21\u001b[0m         \u001b[0;32melif\u001b[0m \u001b[0mQElement\u001b[0m\u001b[0;34m[\u001b[0m\u001b[0;36m1\u001b[0m\u001b[0;34m]\u001b[0m \u001b[0;34m==\u001b[0m \u001b[0;34m'B'\u001b[0m\u001b[0;34m:\u001b[0m\u001b[0;34m\u001b[0m\u001b[0m\n\u001b[1;32m     22\u001b[0m             \u001b[0mprint\u001b[0m\u001b[0;34m(\u001b[0m\u001b[0;34m'B wurde aus geführt'\u001b[0m\u001b[0;34m)\u001b[0m \u001b[0;31m# zum debuggen\u001b[0m\u001b[0;34m\u001b[0m\u001b[0m\n",
      "\u001b[0;32m<ipython-input-14-e0919541961c>\u001b[0m in \u001b[0;36maussteigen\u001b[0;34m(passagier)\u001b[0m\n\u001b[1;32m     33\u001b[0m \u001b[0;34m\u001b[0m\u001b[0m\n\u001b[1;32m     34\u001b[0m \u001b[0;32mdef\u001b[0m \u001b[0maussteigen\u001b[0m\u001b[0;34m(\u001b[0m\u001b[0mpassagier\u001b[0m\u001b[0;34m)\u001b[0m\u001b[0;34m:\u001b[0m \u001b[0;31m# hängt gegebenenfalls am Ende der Programmqueue weitere 'Tasks' hinzu\u001b[0m\u001b[0;34m\u001b[0m\u001b[0m\n\u001b[0;32m---> 35\u001b[0;31m     \u001b[0mprint\u001b[0m\u001b[0;34m(\u001b[0m\u001b[0mpassagier\u001b[0m\u001b[0;34m[\u001b[0m\u001b[0;36m2\u001b[0m\u001b[0;34m]\u001b[0m\u001b[0;34m.\u001b[0m\u001b[0maktuell\u001b[0m\u001b[0;34m)\u001b[0m\u001b[0;34m\u001b[0m\u001b[0m\n\u001b[0m\u001b[1;32m     36\u001b[0m     \u001b[0mpassagier\u001b[0m\u001b[0;34m[\u001b[0m\u001b[0;36m2\u001b[0m\u001b[0;34m]\u001b[0m\u001b[0;34m.\u001b[0m\u001b[0maktuell\u001b[0m \u001b[0;34m=\u001b[0m \u001b[0mpassagier\u001b[0m\u001b[0;34m[\u001b[0m\u001b[0;36m2\u001b[0m\u001b[0;34m]\u001b[0m\u001b[0;34m.\u001b[0m\u001b[0maktuell\u001b[0m \u001b[0;34m-\u001b[0m\u001b[0;36m1\u001b[0m\u001b[0;34m\u001b[0m\u001b[0m\n\u001b[1;32m     37\u001b[0m     \u001b[0mprint\u001b[0m\u001b[0;34m(\u001b[0m\u001b[0mpassagier\u001b[0m\u001b[0;34m[\u001b[0m\u001b[0;36m2\u001b[0m\u001b[0;34m]\u001b[0m\u001b[0;34m.\u001b[0m\u001b[0maktuell\u001b[0m\u001b[0;34m)\u001b[0m\u001b[0;34m\u001b[0m\u001b[0m\n",
      "\u001b[0;31mTypeError\u001b[0m: 'Passagier' object does not support indexing"
     ]
    }
   ],
   "source": [
    "main(liste)"
   ]
  },
  {
   "cell_type": "code",
   "execution_count": null,
   "metadata": {},
   "outputs": [],
   "source": [
    "hq.heappop(liste)"
   ]
  },
  {
   "cell_type": "code",
   "execution_count": null,
   "metadata": {},
   "outputs": [],
   "source": []
  }
 ],
 "metadata": {
  "kernelspec": {
   "display_name": "Python 3",
   "language": "python",
   "name": "python3"
  },
  "language_info": {
   "codemirror_mode": {
    "name": "ipython",
    "version": 3
   },
   "file_extension": ".py",
   "mimetype": "text/x-python",
   "name": "python",
   "nbconvert_exporter": "python",
   "pygments_lexer": "ipython3",
   "version": "3.6.6"
  }
 },
 "nbformat": 4,
 "nbformat_minor": 2
}
