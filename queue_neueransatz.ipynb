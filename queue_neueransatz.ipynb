{
 "cells": [
  {
   "cell_type": "markdown",
   "metadata": {},
   "source": [
    "#  Fall mit 2 Knoten, neuer Ansatz"
   ]
  },
  {
   "cell_type": "code",
   "execution_count": null,
   "metadata": {},
   "outputs": [],
   "source": [
    "import heapq as hq\n",
    "# Pseudo-Python-Code\n",
    "class Pqe: # Elemente der Queue\n",
    "    def __init__(self, Time, Task, Infos):\n",
    "        pass\n",
    "class ProgramQueue:\n",
    "    pass\n",
    "\n",
    "class BM:\n",
    "    def __init__(self, Maxi, Wo, Fahrtzeit): # das Fahrzeug muss sich den Standort merken\n",
    "        self.max = Maxi\n",
    "        self.aktuell = Aktuell\n",
    "        self.wo = Wo\n",
    "        self.fahrtzeit = Fahrtzeit #muss woanders gespeichert werden!\n",
    "        \n",
    "class node:\n",
    "    def __init__(self, PassagierAnzahl):\n",
    "        self.pa = PassagierAnzahl\n",
    "        \n",
    "class Passagier:\n",
    "    def __init__(self, Ziel, Ort, Bahn):\n",
    "        self.zeil = Ziel\n",
    "        self.ort = Ort\n",
    "        self.bahn = Bahn\n",
    "\n",
    "# Klasse von Task mit der Aufgabe ???\n",
    "# Wir überlegen uns, dass das Programm zwei Zustände hat. Ein Beförderungsmittel fährt \n",
    "# los und Passagiere steigen aus\n",
    " \n",
    "def losfahren(): # hängt gegebenenfalls am Ende der Programmqueue weitere 'Tasks' hinzu\n",
    "    pass\n",
    "\n",
    "def aussteigen(bahn, passagier): # hängt gegebenenfalls am Ende der Programmqueue weitere 'Tasks' hinzu\n",
    "    bahn.aktuell= bahn.aktuell - 1 # bahn.aktuell(-1)\n",
    "\n",
    "    \n",
    "    \n",
    "# heapsort verbessern\n",
    "def heapsort(i): \n",
    "    array = [] #leeres Array\n",
    "    for n in i:\n",
    "        hq.heappush(array, n) #Element auf den Heap verschieben\n",
    "    return [hq.heappop(array) for i in range(len(array))]"
   ]
  },
  {
   "cell_type": "code",
   "execution_count": null,
   "metadata": {},
   "outputs": [],
   "source": [
    "# Pseudo-Python-Code\n",
    "Programmqueue = []\n",
    "hq.heappush(Programmqueue, ('A',[a,d],0))\n",
    "hq.heappush(Programmqueue, ('B',[a,b],1))\n",
    "\n",
    "def losfahren(A):\n",
    "    print(A)\n",
    "def aussteigen(A):\n",
    "    print(B)\n",
    "\n",
    "def main():\n",
    "    if len(Programmqueue) == 0:\n",
    "        return 0\n",
    "    else\n",
    "    # Problem: Die Liste richtig formatieren, sodass man den Sort-Alg anwenden kann\n",
    "    heapsort(Programmqueue)\n",
    "    QElement = hq.heappop(Programmqueue)\n",
    "    if QElement[0] == 'A':\n",
    "        aussteigen(QElement[1])\n",
    "    elif QElement[0] == 'B':\n",
    "        losfahren(QElement[1])\n",
    "    else:\n",
    "        break\n",
    "    main()"
   ]
  },
  {
   "cell_type": "code",
   "execution_count": null,
   "metadata": {},
   "outputs": [],
   "source": []
  }
 ],
 "metadata": {
  "kernelspec": {
   "display_name": "Python 3",
   "language": "python",
   "name": "python3"
  },
  "language_info": {
   "codemirror_mode": {
    "name": "ipython",
    "version": 3
   },
   "file_extension": ".py",
   "mimetype": "text/x-python",
   "name": "python",
   "nbconvert_exporter": "python",
   "pygments_lexer": "ipython3",
   "version": "3.6.6"
  }
 },
 "nbformat": 4,
 "nbformat_minor": 2
}
