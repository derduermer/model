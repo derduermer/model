{
 "cells": [
  {
   "cell_type": "markdown",
   "metadata": {},
   "source": [
    "#  Fall mit 2 Knoten, neuer Ansatz"
   ]
  },
  {
   "cell_type": "code",
   "execution_count": 1,
   "metadata": {},
   "outputs": [],
   "source": [
    "import heapq as hq\n",
    "#import numpy as np\n",
    "# Pseudo-Python-Code\n",
    "class Pqe: # Elemente der Queue\n",
    "    def __init__(self, Time, Task, Infos):\n",
    "        pass\n",
    "\n",
    "class ProgramQueue:\n",
    "    pass\n",
    "\n",
    "\n",
    "class BM:\n",
    "    def __init__(self, Maxi, Aktuell): #, Wo, Fahrtzeit): # das Fahrzeug muss sich den Standort merken\n",
    "        self.max = Maxi\n",
    "        assert 0 <= Aktuell <= Maxi, 'Außerhalb der zul. Werte'\n",
    "        self.aktuell = Aktuell # aktueller Stand\n",
    "        #self.wo = Wo\n",
    "        #self.fahrtzeit = Fahrtzeit #muss woanders gespeichert werden!\n",
    "    def __lt__(self, other):\n",
    "        return (self.max, self.aktuell) < \\\n",
    "               (other.max, other.aktuell)\n",
    "        \n",
    "class Node:\n",
    "    def __init__(self, PassagierAnzahl, who):\n",
    "        if PassagierAnzahl >= 0:\n",
    "            self.pa = PassagierAnzahl\n",
    "        else:\n",
    "            self.pa = 0\n",
    "        self.who = who\n",
    "    # Schutzfunktion, die garantiert, dass es nur Werte >= 0 gibt\n",
    "        \n",
    "class Passagier:\n",
    "    def __init__(self, Bahn):#, Ziel, Ort):\n",
    "        #self.ziel = Ziel\n",
    "        #self.ort = Ort\n",
    "        self.bahn = Bahn\n",
    "    def __lt__(self, other):\n",
    "        return (self.bahn) < \\\n",
    "               (other.bahn)\n",
    "\n",
    "    \n",
    "# heapsort verbessern\n",
    "def heapsort(queue): \n",
    "    array = [] #leeres Array\n",
    "    for n in queue:\n",
    "        print(n) # zum Debuggen \n",
    "        hq.heappush(array, n) #Element auf den Heap verschieben\n",
    "    return [hq.heappop(array) for i in range(len(array))]"
   ]
  },
  {
   "cell_type": "code",
   "execution_count": 2,
   "metadata": {},
   "outputs": [],
   "source": [
    "# Wir überlegen uns, dass das Programm zwei Zustände hat. Ein Beförderungsmittel fährt \n",
    "# los und Passagiere steigen aus\n",
    " \n",
    "def losfahren(queue, time, bahn, node): # hängt gegebenenfalls am Ende der Programmqueue weitere 'Tasks' hinzu\n",
    "    time = time + 5\n",
    "    print('time')\n",
    "    print(time)\n",
    "    print('Anzahl der Insassen:')\n",
    "    print(bahn.aktuell)\n",
    "    index = bahn.max - bahn.aktuell\n",
    "    print('node.pa:')\n",
    "    print(node.pa)\n",
    "    if node.pa == 0:\n",
    "        return 0\n",
    "    bahn.aktuell = bahn.aktuell + 1\n",
    "    passagier1 = Passagier(bahn)\n",
    "    hq.heappush(queue, [time, 'A', passagier1]) #hq.heappush(queue, [time, 'A', passagier<i>])\n",
    "    node.pa = node.pa - 1\n",
    "    #Schleife bauen!!!\n",
    "    bahn.aktuell = bahn.aktuell + 1\n",
    "    passagier0 = Passagier(bahn)\n",
    "    hq.heappush(queue, [time, 'A', passagier0])\n",
    "    node.pa = node.pa - 1\n",
    "    ###########################\n",
    "    if node.who == 0:\n",
    "        hq.heappush(queue, [time, 'B', bahn0 ,knoten1])\n",
    "    elif node.who == 1:\n",
    "        hq.heappush(queue, [time, 'B', bahn0 ,knoten0])\n",
    "    else:\n",
    "        return 1\n",
    "    print('Anzahl der Insassen:')\n",
    "    print(bahn.aktuell)\n",
    "    print('node.pa:')\n",
    "    print(node.pa)\n",
    "    "
   ]
  },
  {
   "cell_type": "code",
   "execution_count": 3,
   "metadata": {},
   "outputs": [],
   "source": [
    "def aussteigen(passagier):\n",
    "    var = passagier.bahn\n",
    "    print(var.aktuell) # debug\n",
    "    passagier.bahn.aktuell = passagier.bahn.aktuell - 1\n",
    "    print(var.aktuell) # debug"
   ]
  },
  {
   "cell_type": "code",
   "execution_count": null,
   "metadata": {},
   "outputs": [],
   "source": [
    "# Pseudo-Python-Code\n",
    "def main(Programmqueue):\n",
    "    while True:\n",
    "        heapsort(Programmqueue)\n",
    "        QElement = hq.heappop(Programmqueue)\n",
    "        print('time:')\n",
    "        print(QElement[0])\n",
    "        if QElement[1] == 'A':\n",
    "            print('A wurde ausgeführt') # zum Debuggen\n",
    "            print(QElement[2])\n",
    "            aussteigen(QElement[2])\n",
    "        elif QElement[1] == 'B':\n",
    "            print('B wurde ausgeführt') # zum Debuggen\n",
    "            print(QElement[2])\n",
    "            #print(QElement[3])\n",
    "            losfahren(Programmqueue,QElement[0],QElement[2],QElement[3])\n",
    "        else:\n",
    "            raise Exception('Contact developers')"
   ]
  },
  {
   "cell_type": "code",
   "execution_count": null,
   "metadata": {},
   "outputs": [],
   "source": [
    "knoten0 = Node(PassagierAnzahl=20,who=0)\n",
    "knoten1 = Node(2,1)\n",
    "bahn0 = BM(10,0)\n",
    "\n",
    "\n",
    "init = []\n",
    "hq.heappush(init, [0, 'B', bahn0, knoten0])\n",
    "\n",
    "# Auführungen\n",
    "main(init)"
   ]
  },
  {
   "cell_type": "code",
   "execution_count": 4,
   "metadata": {},
   "outputs": [
    {
     "name": "stdout",
     "output_type": "stream",
     "text": [
      "[0, 1, 2, 3, 4, 5, 6, 7, 8, 9]\n",
      "{'bm': 0, 'exit_time': 120}\n",
      "[{'time': 120, 'action': 'exit', 'bm': 0}]\n",
      "[0, 1, 2, 3, 4, 5, 6, 7, 8]\n",
      "{'bm': 0, 'exit_time': 120}\n"
     ]
    },
    {
     "ename": "TypeError",
     "evalue": "'<' not supported between instances of 'dict' and 'dict'",
     "output_type": "error",
     "traceback": [
      "\u001b[0;31m-------------------------------------------------------------------------\u001b[0m",
      "\u001b[0;31mTypeError\u001b[0m                               Traceback (most recent call last)",
      "\u001b[0;32m<ipython-input-4-6e308603ece0>\u001b[0m in \u001b[0;36m<module>\u001b[0;34m\u001b[0m\n\u001b[1;32m     19\u001b[0m             \u001b[0mprint\u001b[0m\u001b[0;34m(\u001b[0m\u001b[0mpassenger\u001b[0m\u001b[0;34m)\u001b[0m\u001b[0;34m\u001b[0m\u001b[0m\n\u001b[1;32m     20\u001b[0m             \u001b[0mbm\u001b[0m\u001b[0;34m[\u001b[0m\u001b[0;34m'n_passengers'\u001b[0m\u001b[0;34m]\u001b[0m \u001b[0;34m+=\u001b[0m \u001b[0;36m1\u001b[0m\u001b[0;34m\u001b[0m\u001b[0m\n\u001b[0;32m---> 21\u001b[0;31m             \u001b[0mhq\u001b[0m\u001b[0;34m.\u001b[0m\u001b[0mheappush\u001b[0m\u001b[0;34m(\u001b[0m\u001b[0meventq\u001b[0m\u001b[0;34m,\u001b[0m \u001b[0;34m{\u001b[0m\u001b[0;34m'time'\u001b[0m\u001b[0;34m:\u001b[0m \u001b[0mevent\u001b[0m\u001b[0;34m[\u001b[0m\u001b[0;34m'time'\u001b[0m\u001b[0;34m]\u001b[0m \u001b[0;34m+\u001b[0m \u001b[0mpassenger\u001b[0m\u001b[0;34m[\u001b[0m\u001b[0;34m'exit_time'\u001b[0m\u001b[0;34m]\u001b[0m\u001b[0;34m,\u001b[0m \u001b[0;34m'action'\u001b[0m\u001b[0;34m:\u001b[0m \u001b[0;34m'exit'\u001b[0m\u001b[0;34m,\u001b[0m \u001b[0;34m'bm'\u001b[0m\u001b[0;34m:\u001b[0m \u001b[0mevent\u001b[0m\u001b[0;34m[\u001b[0m\u001b[0;34m'bm'\u001b[0m\u001b[0;34m]\u001b[0m\u001b[0;34m}\u001b[0m\u001b[0;34m)\u001b[0m\u001b[0;34m\u001b[0m\u001b[0m\n\u001b[0m\u001b[1;32m     22\u001b[0m             \u001b[0mprint\u001b[0m\u001b[0;34m(\u001b[0m\u001b[0meventq\u001b[0m\u001b[0;34m)\u001b[0m\u001b[0;34m\u001b[0m\u001b[0m\n\u001b[1;32m     23\u001b[0m         \u001b[0mhq\u001b[0m\u001b[0;34m.\u001b[0m\u001b[0mheappush\u001b[0m\u001b[0;34m(\u001b[0m\u001b[0meventq\u001b[0m\u001b[0;34m,\u001b[0m \u001b[0;34m{\u001b[0m\u001b[0;34m'time'\u001b[0m\u001b[0;34m:\u001b[0m \u001b[0mevent\u001b[0m\u001b[0;34m[\u001b[0m\u001b[0;34m'time'\u001b[0m\u001b[0;34m]\u001b[0m\u001b[0;34m+\u001b[0m\u001b[0;36m150\u001b[0m\u001b[0;34m,\u001b[0m \u001b[0;34m'action'\u001b[0m\u001b[0;34m:\u001b[0m \u001b[0;34m'load'\u001b[0m\u001b[0;34m,\u001b[0m \u001b[0;34m'bm'\u001b[0m\u001b[0;34m:\u001b[0m \u001b[0mevent\u001b[0m\u001b[0;34m[\u001b[0m\u001b[0;34m'bm'\u001b[0m\u001b[0;34m]\u001b[0m\u001b[0;34m}\u001b[0m\u001b[0;34m)\u001b[0m\u001b[0;34m\u001b[0m\u001b[0m\n",
      "\u001b[0;31mTypeError\u001b[0m: '<' not supported between instances of 'dict' and 'dict'"
     ]
    }
   ],
   "source": [
    "passengers = [[{'bm': 0, 'exit_time': 120}]*10, [{'bm': 0, 'exit_time': 120}]*8]\n",
    "bms = [{'n_passengers': 0, 'capacity': 3, 'stop': 0, 'itinerary': [0, 1]}]\n",
    "\n",
    "eventq = [{'time': 0, 'action': 'load', 'bm': 0}]\n",
    "\n",
    "while eventq:\n",
    "    event = hq.heappop(eventq)\n",
    "    bm = bms[event['bm']]\n",
    "    current_node = bm['itinerary'][bm['stop'] % len(bm['itinerary'])]\n",
    "    next_node = bm['itinerary'][(bm['stop']+1) % len(bm['itinerary'])]\n",
    "    if event['action'] == 'load':\n",
    "        free = bm['capacity'] - bm['n_passengers']\n",
    "        while bm['n_passengers'] < bm['capacity']:\n",
    "            waiting = [idx for idx, passenger in enumerate(passengers[current_node]) if passenger['bm'] == event['bm']]\n",
    "            print(waiting)\n",
    "            if not waiting:\n",
    "                break\n",
    "            passenger = passengers[current_node].pop(waiting[0])\n",
    "            print(passenger)\n",
    "            bm['n_passengers'] += 1\n",
    "            hq.heappush(eventq, {'time': event['time'] + passenger['exit_time'], 'action': 'exit', 'bm': event['bm']})\n",
    "            print(eventq)\n",
    "        hq.heappush(eventq, {'time': event['time']+150, 'action': 'load', 'bm': event['bm']})\n",
    "        bm['stop'] += 1\n",
    "        # Generate events for exiting passengers\n",
    "    elif event['action'] == 'exit':\n",
    "        bm['n_passengers'] -= 1\n",
    "    else:\n",
    "        raise Exception('Unknown event action')"
   ]
  },
  {
   "cell_type": "code",
   "execution_count": null,
   "metadata": {},
   "outputs": [],
   "source": [
    "help(list.pop)"
   ]
  },
  {
   "cell_type": "code",
   "execution_count": null,
   "metadata": {},
   "outputs": [],
   "source": [
    "class "
   ]
  }
 ],
 "metadata": {
  "kernelspec": {
   "display_name": "Python 3",
   "language": "python",
   "name": "python3"
  },
  "language_info": {
   "codemirror_mode": {
    "name": "ipython",
    "version": 3
   },
   "file_extension": ".py",
   "mimetype": "text/x-python",
   "name": "python",
   "nbconvert_exporter": "python",
   "pygments_lexer": "ipython3",
   "version": "3.6.6"
  }
 },
 "nbformat": 4,
 "nbformat_minor": 2
}
