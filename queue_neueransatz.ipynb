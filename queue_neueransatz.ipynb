{
 "cells": [
  {
   "cell_type": "markdown",
   "metadata": {},
   "source": [
    "#  Fall mit 2 Knoten, neuer Ansatz"
   ]
  },
  {
   "cell_type": "code",
   "execution_count": 1,
   "metadata": {},
   "outputs": [],
   "source": [
    "import heapq as hq\n",
    "# Pseudo-Python-Code\n",
    "class Pqe: # Elemente der Queue\n",
    "    def __init__(self, Time, Task, Infos):\n",
    "        pass\n",
    "\n",
    "class ProgramQueue:\n",
    "    pass\n",
    "\n",
    "\n",
    "class BM:\n",
    "    def __init__(self, Maxi, Aktuell): #, Wo, Fahrtzeit): # das Fahrzeug muss sich den Standort merken\n",
    "        self.max = Maxi\n",
    "        if Aktuell >= 0:\n",
    "            if Aktuell <= Maxi:\n",
    "                self.aktuell = Aktuell # aktueller stand\n",
    "            else:\n",
    "                self.aktuell = Maxi\n",
    "        else:\n",
    "            self.aktuell = 0\n",
    "        #self.wo = Wo\n",
    "        #self.fahrtzeit = Fahrtzeit #muss woanders gespeichert werden!\n",
    "    def __lt__(self, other):\n",
    "        return (self.max, self.aktuell) < \\\n",
    "               (other.max, other.aktuell)\n",
    "        \n",
    "class node:\n",
    "    def __init__(self, PassagierAnzahl):\n",
    "        if PassagierAnzahl >= 0:\n",
    "            self.pa = PassagierAnzahl\n",
    "        else:\n",
    "            self.pa = 0\n",
    "    # Schutz fucktion dass es nicht negatie\n",
    "        \n",
    "class Passagier:\n",
    "    def __init__(self, Bahn):#, Ziel, Ort):\n",
    "        #self.zeil = Ziel\n",
    "        #self.ort = Ort\n",
    "        self.bahn = Bahn\n",
    "    def __lt__(self, other):\n",
    "        return (self.bahn) < \\\n",
    "               (other.bahn)\n",
    "\n",
    "    \n",
    "# heapsort verbessern\n",
    "def heapsort(queue): \n",
    "    array = [] #leeres Array\n",
    "    for n in queue:\n",
    "        print(n) # zum debuggen \n",
    "        hq.heappush(array, n) #Element auf den Heap verschieben\n",
    "    return [hq.heappop(array) for i in range(len(array))]"
   ]
  },
  {
   "cell_type": "code",
   "execution_count": 2,
   "metadata": {},
   "outputs": [],
   "source": [
    "# Klasse von Task mit der Aufgabe ???\n",
    "# Wir überlegen uns, dass das Programm zwei Zustände hat. Ein Beförderungsmittel fährt \n",
    "# los und Passagiere steigen aus\n",
    " \n",
    "def losfahren(queue, time, bahn): # hängt gegebenenfalls am Ende der Programmqueue weitere 'Tasks' hinzu\n",
    "    time = time + 5\n",
    "    print(time)\n",
    "    print(bahn.aktuell)\n",
    "    index = bahn.max - bahn.aktuell\n",
    "    print(index)\n",
    "    bahn.aktuell = bahn.aktuell + 1\n",
    "    hq.heappush(queue, [time, 'A', passagier])"
   ]
  },
  {
   "cell_type": "code",
   "execution_count": 3,
   "metadata": {},
   "outputs": [],
   "source": [
    "def aussteigen(passagier):\n",
    "    var = passagier.bahn\n",
    "    print(var.aktuell) # debug\n",
    "    passagier.bahn.aktuell = passagier.bahn.aktuell - 1\n",
    "    print(var.aktuell) # debug"
   ]
  },
  {
   "cell_type": "code",
   "execution_count": 4,
   "metadata": {},
   "outputs": [],
   "source": [
    "# Pseudo-Python-Code\n",
    "def main(Programmqueue):\n",
    "    if len(Programmqueue) == 0:\n",
    "        print('Ende')\n",
    "        return 0\n",
    "    else:\n",
    "    # Problem: Die Liste richtig formatieren, sodass man den Sort-Alg anwenden kann\n",
    "        heapsort(Programmqueue)\n",
    "        QElement = hq.heappop(Programmqueue)\n",
    "        print(QElement)\n",
    "        print(QElement[0])\n",
    "        if QElement[1] == 'A':\n",
    "            print('A wurde aus geführt') # zum debuggen\n",
    "            print(QElement[2])\n",
    "            aussteigen(QElement[2])\n",
    "        elif QElement[1] == 'B':\n",
    "            print('B wurde aus geführt') # zum debuggen\n",
    "            print(QElement[2])\n",
    "            losfahren(Programmqueue,QElement[0],QElement[2])\n",
    "        else:\n",
    "            print('Error')\n",
    "        main(Programmqueue)   "
   ]
  },
  {
   "cell_type": "code",
   "execution_count": 5,
   "metadata": {},
   "outputs": [
    {
     "name": "stdout",
     "output_type": "stream",
     "text": [
      "[1, 'A', <__main__.Passagier object at 0x7f7cc8b4fcf8>]\n",
      "[1, 'A', <__main__.Passagier object at 0x7f7cc8b4fe80>]\n",
      "[2, 'B', <__main__.BM object at 0x7f7cc8b4f7f0>]\n",
      "[1, 'A', <__main__.Passagier object at 0x7f7cc8b4fcf8>]\n",
      "1\n",
      "A wurde aus geführt\n",
      "<__main__.Passagier object at 0x7f7cc8b4fcf8>\n",
      "4\n",
      "3\n",
      "[1, 'A', <__main__.Passagier object at 0x7f7cc8b4fe80>]\n",
      "[2, 'B', <__main__.BM object at 0x7f7cc8b4f7f0>]\n",
      "[1, 'A', <__main__.Passagier object at 0x7f7cc8b4fe80>]\n",
      "1\n",
      "A wurde aus geführt\n",
      "<__main__.Passagier object at 0x7f7cc8b4fe80>\n",
      "3\n",
      "2\n",
      "[2, 'B', <__main__.BM object at 0x7f7cc8b4f7f0>]\n",
      "[2, 'B', <__main__.BM object at 0x7f7cc8b4f7f0>]\n",
      "2\n",
      "B wurde aus geführt\n",
      "<__main__.BM object at 0x7f7cc8b4f7f0>\n",
      "7\n",
      "2\n",
      "8\n",
      "[7, 'A', <__main__.Passagier object at 0x7f7cc8b4fc50>]\n",
      "[7, 'A', <__main__.Passagier object at 0x7f7cc8b4fc50>]\n",
      "7\n",
      "A wurde aus geführt\n",
      "<__main__.Passagier object at 0x7f7cc8b4fc50>\n",
      "3\n",
      "2\n",
      "Ende\n"
     ]
    }
   ],
   "source": [
    "knoten0 = node(2)\n",
    "knoten1 = node(2)\n",
    "bahn0 = BM(10,4)\n",
    "\n",
    "passagier0 = Passagier(bahn0)\n",
    "passagier1 = Passagier(bahn0)\n",
    "passagier2 = Passagier(bahn0)\n",
    "\n",
    "\n",
    "\n",
    "liste = []\n",
    "hq.heappush(liste, [1,'A', passagier0])\n",
    "hq.heappush(liste, [1,'A', passagier1])\n",
    "hq.heappush(liste, [2,'B', bahn0])\n",
    "\n",
    "# Auführungen\n",
    "main(liste)"
   ]
  },
  {
   "cell_type": "code",
   "execution_count": null,
   "metadata": {},
   "outputs": [],
   "source": []
  },
  {
   "cell_type": "markdown",
   "metadata": {},
   "source": []
  }
 ],
 "metadata": {
  "kernelspec": {
   "display_name": "Python 3",
   "language": "python",
   "name": "python3"
  },
  "language_info": {
   "codemirror_mode": {
    "name": "ipython",
    "version": 3
   },
   "file_extension": ".py",
   "mimetype": "text/x-python",
   "name": "python",
   "nbconvert_exporter": "python",
   "pygments_lexer": "ipython3",
   "version": "3.6.6"
  }
 },
 "nbformat": 4,
 "nbformat_minor": 2
}
