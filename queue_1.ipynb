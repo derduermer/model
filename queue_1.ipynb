{
 "cells": [
  {
   "cell_type": "markdown",
   "metadata": {},
   "source": [
    "# Einfacher Fall mit 2 Knoten"
   ]
  },
  {
   "cell_type": "code",
   "execution_count": 92,
   "metadata": {},
   "outputs": [],
   "source": [
    "import heapq as hq\n",
    "import numpy as np\n",
    "\n",
    "class node: #Klasse der Bahnhofsknoten\n",
    "    pass\n",
    "\n",
    "class BF: #Beförderungsfälle; variabel\n",
    "    def __init__(self, Richtung, Ankunftszeit):\n",
    "        self.richtung = Richtung #Pfad ist nicht programmiert, da es nur einen gibt\n",
    "        self.ankunftszeit = Ankunftszeit\n",
    "        \n",
    "class BM: #Beförderungsmittel; Parameter werden später mit input fest eingegeben\n",
    "    def __init__(self, Reisezeit, Kapazitaet, Frequenz):\n",
    "        self.reisezeit = Reisezeit\n",
    "        self.kapazitaet = Kapazitaet\n",
    "        self.frequenz = Frequenz\n",
    "\n",
    "class Queue: #Warteschlange\n",
    "    def __init__(self, Stunde, NeuerAndrang, Anzahl, Wartezeit):\n",
    "        self.stunde = [Stunde]\n",
    "        self.neuerandrang = [NeuerAndrang]\n",
    "        self.anzahl = [Anzahl]\n",
    "        self.wartezeit = [Wartezeit]"
   ]
  },
  {
   "cell_type": "code",
   "execution_count": 93,
   "metadata": {
    "scrolled": true
   },
   "outputs": [
    {
     "name": "stdout",
     "output_type": "stream",
     "text": [
      "Gib bitte eine gültige Reisezeit in Minuten an: 1\n",
      "Gib bitte eine Kapazität der Bahnen an: 2\n",
      "Gib bitte eine Frequenz der Bahnen (Bahnen pro Minute) an: 3\n"
     ]
    }
   ],
   "source": [
    "bahn = BM(0, 0, 0) #Seilbahn, deren Eigenschaften mit Argumenten dargestellt werden\n",
    "#Setze alle Parameter auf 0\n",
    "while True: #diskretes Zeitgitter => natürliche Zahlen\n",
    "    try: #Fehlererkennung bei Eingabe =>Programm stürzt nicht ab\n",
    "        bahn.reisezeit = input(\"Gib bitte eine gültige Reisezeit in Minuten an: \") #manuelle Eingabe (z.B. ermittelte Werte von Lukas S. und Jackie)\n",
    "        bahn.reisezeit = int(bahn.reisezeit)\n",
    "        break\n",
    "    except ValueError:\n",
    "        print(\"Dieser Wert ist falsch! Bitte erneut eingeben.\")\n",
    "while True: #Kapazität ist eine natürliche Zahl\n",
    "    try: #Fehlererkennung bei Eingabe =>Programm stürzt nicht ab\n",
    "        bahn.kapazitaet = input(\"Gib bitte eine Kapazität der Bahnen an: \")\n",
    "        bahn.kapazitaet = int(bahn.kapazitaet)\n",
    "        break\n",
    "    except ValueError:\n",
    "        print(\"Dieser Wert ist falsch! Bitte erneut eingeben.\")\n",
    "while True: #diskretes Zeitgitter => natürliche Zahlen\n",
    "    try: #Fehlererkennung bei Eingabe => Programm stürzt nicht ab\n",
    "        bahn.frequenz = input(\"Gib bitte eine Frequenz der Bahnen (Bahnen pro Minute) an: \")\n",
    "        bahn.frequenz = float(bahn.frequenz)\n",
    "        break\n",
    "    except ValueError:\n",
    "        print(\"Dieser Wert ist falsch! Bitte erneut eingeben.\")"
   ]
  },
  {
   "cell_type": "code",
   "execution_count": 94,
   "metadata": {},
   "outputs": [],
   "source": [
    "def auffuellen(queue):\n",
    "    queue.stunde = []\n",
    "    queue.neuerandrang = []\n",
    "    for i in range(24):\n",
    "        while True:\n",
    "            try:\n",
    "                queue.stunde += [i]\n",
    "                n = 2+i\n",
    "                \n",
    "                #print(queue.stunde)\n",
    "                #n = input(\"Gib bitte die Zahl der Wartegäste an: \")\n",
    "                #n = int(n)\n",
    "                break\n",
    "            except ValueError:\n",
    "                print(\"Dieser Wert ist falsch! Bitte erneut eingeben.\")\n",
    "        queue.neuerandrang += [n]   "
   ]
  },
  {
   "cell_type": "code",
   "execution_count": 115,
   "metadata": {},
   "outputs": [],
   "source": [
    "def auffuellen_2(queue):\n",
    "    queue.stunde = []\n",
    "    queue.neuerandrang = []\n",
    "    queue.anzahl = [0]*24\n",
    "    for i in range(24):\n",
    "        #while True:\n",
    "        #    try:\n",
    "        queue.stunde += [i]\n",
    "        n = 2+i\n",
    "        #    break\n",
    "        #except ValueError:\n",
    "        #    print(\"Dieser Wert ist falsch! Bitte erneut eingeben.\")\n",
    "        print(queue.anzahl)\n",
    "        queue.neuerandrang += [n]\n",
    "        for j in range(0, i):\n",
    "            queue.anzahl[i] += queue.neuerandrang[i]\n",
    "        print(queue.neuerandrang)\n",
    "        print(queue.anzahl)"
   ]
  },
  {
   "cell_type": "code",
   "execution_count": 116,
   "metadata": {
    "scrolled": true
   },
   "outputs": [
    {
     "name": "stdout",
     "output_type": "stream",
     "text": [
      "[0, 0, 0, 0, 0, 0, 0, 0, 0, 0, 0, 0, 0, 0, 0, 0, 0, 0, 0, 0, 0, 0, 0, 0]\n",
      "[2]\n",
      "[0, 0, 0, 0, 0, 0, 0, 0, 0, 0, 0, 0, 0, 0, 0, 0, 0, 0, 0, 0, 0, 0, 0, 0]\n",
      "[0, 0, 0, 0, 0, 0, 0, 0, 0, 0, 0, 0, 0, 0, 0, 0, 0, 0, 0, 0, 0, 0, 0, 0]\n",
      "[2, 3]\n",
      "[0, 3, 0, 0, 0, 0, 0, 0, 0, 0, 0, 0, 0, 0, 0, 0, 0, 0, 0, 0, 0, 0, 0, 0]\n",
      "[0, 3, 0, 0, 0, 0, 0, 0, 0, 0, 0, 0, 0, 0, 0, 0, 0, 0, 0, 0, 0, 0, 0, 0]\n",
      "[2, 3, 4]\n",
      "[0, 3, 8, 0, 0, 0, 0, 0, 0, 0, 0, 0, 0, 0, 0, 0, 0, 0, 0, 0, 0, 0, 0, 0]\n",
      "[0, 3, 8, 0, 0, 0, 0, 0, 0, 0, 0, 0, 0, 0, 0, 0, 0, 0, 0, 0, 0, 0, 0, 0]\n",
      "[2, 3, 4, 5]\n",
      "[0, 3, 8, 15, 0, 0, 0, 0, 0, 0, 0, 0, 0, 0, 0, 0, 0, 0, 0, 0, 0, 0, 0, 0]\n",
      "[0, 3, 8, 15, 0, 0, 0, 0, 0, 0, 0, 0, 0, 0, 0, 0, 0, 0, 0, 0, 0, 0, 0, 0]\n",
      "[2, 3, 4, 5, 6]\n",
      "[0, 3, 8, 15, 24, 0, 0, 0, 0, 0, 0, 0, 0, 0, 0, 0, 0, 0, 0, 0, 0, 0, 0, 0]\n",
      "[0, 3, 8, 15, 24, 0, 0, 0, 0, 0, 0, 0, 0, 0, 0, 0, 0, 0, 0, 0, 0, 0, 0, 0]\n",
      "[2, 3, 4, 5, 6, 7]\n",
      "[0, 3, 8, 15, 24, 35, 0, 0, 0, 0, 0, 0, 0, 0, 0, 0, 0, 0, 0, 0, 0, 0, 0, 0]\n",
      "[0, 3, 8, 15, 24, 35, 0, 0, 0, 0, 0, 0, 0, 0, 0, 0, 0, 0, 0, 0, 0, 0, 0, 0]\n",
      "[2, 3, 4, 5, 6, 7, 8]\n",
      "[0, 3, 8, 15, 24, 35, 48, 0, 0, 0, 0, 0, 0, 0, 0, 0, 0, 0, 0, 0, 0, 0, 0, 0]\n",
      "[0, 3, 8, 15, 24, 35, 48, 0, 0, 0, 0, 0, 0, 0, 0, 0, 0, 0, 0, 0, 0, 0, 0, 0]\n",
      "[2, 3, 4, 5, 6, 7, 8, 9]\n",
      "[0, 3, 8, 15, 24, 35, 48, 63, 0, 0, 0, 0, 0, 0, 0, 0, 0, 0, 0, 0, 0, 0, 0, 0]\n",
      "[0, 3, 8, 15, 24, 35, 48, 63, 0, 0, 0, 0, 0, 0, 0, 0, 0, 0, 0, 0, 0, 0, 0, 0]\n",
      "[2, 3, 4, 5, 6, 7, 8, 9, 10]\n",
      "[0, 3, 8, 15, 24, 35, 48, 63, 80, 0, 0, 0, 0, 0, 0, 0, 0, 0, 0, 0, 0, 0, 0, 0]\n",
      "[0, 3, 8, 15, 24, 35, 48, 63, 80, 0, 0, 0, 0, 0, 0, 0, 0, 0, 0, 0, 0, 0, 0, 0]\n",
      "[2, 3, 4, 5, 6, 7, 8, 9, 10, 11]\n",
      "[0, 3, 8, 15, 24, 35, 48, 63, 80, 99, 0, 0, 0, 0, 0, 0, 0, 0, 0, 0, 0, 0, 0, 0]\n",
      "[0, 3, 8, 15, 24, 35, 48, 63, 80, 99, 0, 0, 0, 0, 0, 0, 0, 0, 0, 0, 0, 0, 0, 0]\n",
      "[2, 3, 4, 5, 6, 7, 8, 9, 10, 11, 12]\n",
      "[0, 3, 8, 15, 24, 35, 48, 63, 80, 99, 120, 0, 0, 0, 0, 0, 0, 0, 0, 0, 0, 0, 0, 0]\n",
      "[0, 3, 8, 15, 24, 35, 48, 63, 80, 99, 120, 0, 0, 0, 0, 0, 0, 0, 0, 0, 0, 0, 0, 0]\n",
      "[2, 3, 4, 5, 6, 7, 8, 9, 10, 11, 12, 13]\n",
      "[0, 3, 8, 15, 24, 35, 48, 63, 80, 99, 120, 143, 0, 0, 0, 0, 0, 0, 0, 0, 0, 0, 0, 0]\n",
      "[0, 3, 8, 15, 24, 35, 48, 63, 80, 99, 120, 143, 0, 0, 0, 0, 0, 0, 0, 0, 0, 0, 0, 0]\n",
      "[2, 3, 4, 5, 6, 7, 8, 9, 10, 11, 12, 13, 14]\n",
      "[0, 3, 8, 15, 24, 35, 48, 63, 80, 99, 120, 143, 168, 0, 0, 0, 0, 0, 0, 0, 0, 0, 0, 0]\n",
      "[0, 3, 8, 15, 24, 35, 48, 63, 80, 99, 120, 143, 168, 0, 0, 0, 0, 0, 0, 0, 0, 0, 0, 0]\n",
      "[2, 3, 4, 5, 6, 7, 8, 9, 10, 11, 12, 13, 14, 15]\n",
      "[0, 3, 8, 15, 24, 35, 48, 63, 80, 99, 120, 143, 168, 195, 0, 0, 0, 0, 0, 0, 0, 0, 0, 0]\n",
      "[0, 3, 8, 15, 24, 35, 48, 63, 80, 99, 120, 143, 168, 195, 0, 0, 0, 0, 0, 0, 0, 0, 0, 0]\n",
      "[2, 3, 4, 5, 6, 7, 8, 9, 10, 11, 12, 13, 14, 15, 16]\n",
      "[0, 3, 8, 15, 24, 35, 48, 63, 80, 99, 120, 143, 168, 195, 224, 0, 0, 0, 0, 0, 0, 0, 0, 0]\n",
      "[0, 3, 8, 15, 24, 35, 48, 63, 80, 99, 120, 143, 168, 195, 224, 0, 0, 0, 0, 0, 0, 0, 0, 0]\n",
      "[2, 3, 4, 5, 6, 7, 8, 9, 10, 11, 12, 13, 14, 15, 16, 17]\n",
      "[0, 3, 8, 15, 24, 35, 48, 63, 80, 99, 120, 143, 168, 195, 224, 255, 0, 0, 0, 0, 0, 0, 0, 0]\n",
      "[0, 3, 8, 15, 24, 35, 48, 63, 80, 99, 120, 143, 168, 195, 224, 255, 0, 0, 0, 0, 0, 0, 0, 0]\n",
      "[2, 3, 4, 5, 6, 7, 8, 9, 10, 11, 12, 13, 14, 15, 16, 17, 18]\n",
      "[0, 3, 8, 15, 24, 35, 48, 63, 80, 99, 120, 143, 168, 195, 224, 255, 288, 0, 0, 0, 0, 0, 0, 0]\n",
      "[0, 3, 8, 15, 24, 35, 48, 63, 80, 99, 120, 143, 168, 195, 224, 255, 288, 0, 0, 0, 0, 0, 0, 0]\n",
      "[2, 3, 4, 5, 6, 7, 8, 9, 10, 11, 12, 13, 14, 15, 16, 17, 18, 19]\n",
      "[0, 3, 8, 15, 24, 35, 48, 63, 80, 99, 120, 143, 168, 195, 224, 255, 288, 323, 0, 0, 0, 0, 0, 0]\n",
      "[0, 3, 8, 15, 24, 35, 48, 63, 80, 99, 120, 143, 168, 195, 224, 255, 288, 323, 0, 0, 0, 0, 0, 0]\n",
      "[2, 3, 4, 5, 6, 7, 8, 9, 10, 11, 12, 13, 14, 15, 16, 17, 18, 19, 20]\n",
      "[0, 3, 8, 15, 24, 35, 48, 63, 80, 99, 120, 143, 168, 195, 224, 255, 288, 323, 360, 0, 0, 0, 0, 0]\n",
      "[0, 3, 8, 15, 24, 35, 48, 63, 80, 99, 120, 143, 168, 195, 224, 255, 288, 323, 360, 0, 0, 0, 0, 0]\n",
      "[2, 3, 4, 5, 6, 7, 8, 9, 10, 11, 12, 13, 14, 15, 16, 17, 18, 19, 20, 21]\n",
      "[0, 3, 8, 15, 24, 35, 48, 63, 80, 99, 120, 143, 168, 195, 224, 255, 288, 323, 360, 399, 0, 0, 0, 0]\n",
      "[0, 3, 8, 15, 24, 35, 48, 63, 80, 99, 120, 143, 168, 195, 224, 255, 288, 323, 360, 399, 0, 0, 0, 0]\n",
      "[2, 3, 4, 5, 6, 7, 8, 9, 10, 11, 12, 13, 14, 15, 16, 17, 18, 19, 20, 21, 22]\n",
      "[0, 3, 8, 15, 24, 35, 48, 63, 80, 99, 120, 143, 168, 195, 224, 255, 288, 323, 360, 399, 440, 0, 0, 0]\n",
      "[0, 3, 8, 15, 24, 35, 48, 63, 80, 99, 120, 143, 168, 195, 224, 255, 288, 323, 360, 399, 440, 0, 0, 0]\n",
      "[2, 3, 4, 5, 6, 7, 8, 9, 10, 11, 12, 13, 14, 15, 16, 17, 18, 19, 20, 21, 22, 23]\n",
      "[0, 3, 8, 15, 24, 35, 48, 63, 80, 99, 120, 143, 168, 195, 224, 255, 288, 323, 360, 399, 440, 483, 0, 0]\n",
      "[0, 3, 8, 15, 24, 35, 48, 63, 80, 99, 120, 143, 168, 195, 224, 255, 288, 323, 360, 399, 440, 483, 0, 0]\n",
      "[2, 3, 4, 5, 6, 7, 8, 9, 10, 11, 12, 13, 14, 15, 16, 17, 18, 19, 20, 21, 22, 23, 24]\n",
      "[0, 3, 8, 15, 24, 35, 48, 63, 80, 99, 120, 143, 168, 195, 224, 255, 288, 323, 360, 399, 440, 483, 528, 0]\n",
      "[0, 3, 8, 15, 24, 35, 48, 63, 80, 99, 120, 143, 168, 195, 224, 255, 288, 323, 360, 399, 440, 483, 528, 0]\n",
      "[2, 3, 4, 5, 6, 7, 8, 9, 10, 11, 12, 13, 14, 15, 16, 17, 18, 19, 20, 21, 22, 23, 24, 25]\n",
      "[0, 3, 8, 15, 24, 35, 48, 63, 80, 99, 120, 143, 168, 195, 224, 255, 288, 323, 360, 399, 440, 483, 528, 575]\n"
     ]
    }
   ],
   "source": [
    "queue1 = Queue([], [], [], [])\n",
    "auffuellen_2(queue1)"
   ]
  },
  {
   "cell_type": "code",
   "execution_count": 112,
   "metadata": {},
   "outputs": [
    {
     "name": "stdout",
     "output_type": "stream",
     "text": [
      "[0]\n",
      "[2]\n",
      "[2]\n",
      "[4]\n"
     ]
    },
    {
     "ename": "IndexError",
     "evalue": "index 1 is out of bounds for axis 0 with size 1",
     "output_type": "error",
     "traceback": [
      "\u001b[0;31m---------------------------------------------------------------------------\u001b[0m",
      "\u001b[0;31mIndexError\u001b[0m                                Traceback (most recent call last)",
      "\u001b[0;32m<ipython-input-112-34055a282411>\u001b[0m in \u001b[0;36m<module>\u001b[0;34m()\u001b[0m\n\u001b[1;32m      1\u001b[0m \u001b[0mqueue1\u001b[0m \u001b[0;34m=\u001b[0m \u001b[0mQueue\u001b[0m\u001b[0;34m(\u001b[0m\u001b[0;34m[\u001b[0m\u001b[0;34m]\u001b[0m\u001b[0;34m,\u001b[0m \u001b[0;34m[\u001b[0m\u001b[0;34m]\u001b[0m\u001b[0;34m,\u001b[0m\u001b[0;34m[\u001b[0m\u001b[0;34m]\u001b[0m\u001b[0;34m,\u001b[0m\u001b[0;34m[\u001b[0m\u001b[0;34m]\u001b[0m\u001b[0;34m)\u001b[0m\u001b[0;34m\u001b[0m\u001b[0m\n\u001b[1;32m      2\u001b[0m \u001b[0mqueue2\u001b[0m \u001b[0;34m=\u001b[0m \u001b[0mQueue\u001b[0m\u001b[0;34m(\u001b[0m\u001b[0;34m[\u001b[0m\u001b[0;34m]\u001b[0m\u001b[0;34m,\u001b[0m \u001b[0;34m[\u001b[0m\u001b[0;34m]\u001b[0m\u001b[0;34m,\u001b[0m\u001b[0;34m[\u001b[0m\u001b[0;34m]\u001b[0m\u001b[0;34m,\u001b[0m\u001b[0;34m[\u001b[0m\u001b[0;34m]\u001b[0m\u001b[0;34m)\u001b[0m\u001b[0;34m\u001b[0m\u001b[0m\n\u001b[0;32m----> 3\u001b[0;31m \u001b[0mauffuellen_2\u001b[0m\u001b[0;34m(\u001b[0m\u001b[0mqueue1\u001b[0m\u001b[0;34m)\u001b[0m\u001b[0;34m\u001b[0m\u001b[0m\n\u001b[0m\u001b[1;32m      4\u001b[0m \u001b[0mauffuellen_2\u001b[0m\u001b[0;34m(\u001b[0m\u001b[0mqueue2\u001b[0m\u001b[0;34m)\u001b[0m\u001b[0;34m\u001b[0m\u001b[0m\n",
      "\u001b[0;32m<ipython-input-109-95462ec77049>\u001b[0m in \u001b[0;36mauffuellen_2\u001b[0;34m(queue)\u001b[0m\n\u001b[1;32m     17\u001b[0m         \u001b[0mprint\u001b[0m\u001b[0;34m(\u001b[0m\u001b[0mqueue\u001b[0m\u001b[0;34m.\u001b[0m\u001b[0manzahl\u001b[0m\u001b[0;34m)\u001b[0m \u001b[0;31m#zum fixen\u001b[0m\u001b[0;34m\u001b[0m\u001b[0m\n\u001b[1;32m     18\u001b[0m         \u001b[0mqueue\u001b[0m\u001b[0;34m.\u001b[0m\u001b[0mneuerandrang\u001b[0m \u001b[0;34m+=\u001b[0m \u001b[0;34m[\u001b[0m\u001b[0mn\u001b[0m\u001b[0;34m]\u001b[0m\u001b[0;34m\u001b[0m\u001b[0m\n\u001b[0;32m---> 19\u001b[0;31m         \u001b[0mqueue\u001b[0m\u001b[0;34m.\u001b[0m\u001b[0manzahl\u001b[0m\u001b[0;34m[\u001b[0m\u001b[0mi\u001b[0m\u001b[0;34m]\u001b[0m \u001b[0;34m=\u001b[0m \u001b[0mnp\u001b[0m\u001b[0;34m.\u001b[0m\u001b[0msum\u001b[0m\u001b[0;34m(\u001b[0m\u001b[0mqueue\u001b[0m\u001b[0;34m.\u001b[0m\u001b[0manzahl\u001b[0m\u001b[0;34m[\u001b[0m\u001b[0mi\u001b[0m\u001b[0;34m]\u001b[0m\u001b[0;34m+\u001b[0m\u001b[0mqueue\u001b[0m\u001b[0;34m.\u001b[0m\u001b[0mneuerandrang\u001b[0m\u001b[0;34m[\u001b[0m\u001b[0mi\u001b[0m\u001b[0;34m]\u001b[0m\u001b[0;34m)\u001b[0m\u001b[0;34m\u001b[0m\u001b[0m\n\u001b[0m\u001b[1;32m     20\u001b[0m         \u001b[0mprint\u001b[0m\u001b[0;34m(\u001b[0m\u001b[0mqueue\u001b[0m\u001b[0;34m.\u001b[0m\u001b[0mneuerandrang\u001b[0m\u001b[0;34m)\u001b[0m\u001b[0;34m\u001b[0m\u001b[0m\n\u001b[1;32m     21\u001b[0m         \u001b[0mprint\u001b[0m\u001b[0;34m(\u001b[0m\u001b[0mqueue\u001b[0m\u001b[0;34m.\u001b[0m\u001b[0manzahl\u001b[0m\u001b[0;34m)\u001b[0m\u001b[0;34m\u001b[0m\u001b[0m\n",
      "\u001b[0;31mIndexError\u001b[0m: index 1 is out of bounds for axis 0 with size 1"
     ]
    }
   ],
   "source": [
    "queue1 = Queue([], [],[],[])\n",
    "queue2 = Queue([], [],[],[])\n",
    "auffuellen_2(queue1)\n",
    "auffuellen_2(queue2)"
   ]
  },
  {
   "cell_type": "code",
   "execution_count": 84,
   "metadata": {},
   "outputs": [
    {
     "name": "stdout",
     "output_type": "stream",
     "text": [
      "[2, 3, 4, 5, 6, 7, 8, 9, 10, 11, 12, 13, 14, 15, 16, 17, 18, 19, 20, 21, 22, 23, 24, 25]\n",
      "[0, 1, 2, 3, 4, 5, 6, 7, 8, 9, 10, 11, 12, 13, 14, 15, 16, 17, 18, 19, 20, 21, 22, 23]\n",
      "[2, 3, 4, 5, 6, 7, 8, 9, 10, 11, 12, 13, 14, 15, 16, 17, 18, 19, 20, 21, 22, 23, 24, 25]\n",
      "[0, 1, 2, 3, 4, 5, 6, 7, 8, 9, 10, 11, 12, 13, 14, 15, 16, 17, 18, 19, 20, 21, 22, 23]\n",
      "[2, 3, 4, 5, 6, 7, 8, 9, 10, 11, 12, 13, 14, 15, 16, 17, 18, 19, 20, 21, 22, 23, 24, 25]\n",
      "[0, 1, 2, 3, 4, 5, 6, 7, 8, 9, 10, 11, 12, 13, 14, 15, 16, 17, 18, 19, 20, 21, 22, 23]\n",
      "[2, 3, 4, 5, 6, 7, 8, 9, 10, 11, 12, 13, 14, 15, 16, 17, 18, 19, 20, 21, 22, 23, 24, 25]\n",
      "[0, 1, 2, 3, 4, 5, 6, 7, 8, 9, 10, 11, 12, 13, 14, 15, 16, 17, 18, 19, 20, 21, 22, 23]\n"
     ]
    }
   ],
   "source": [
    "print(queue1.neuerandrang) \n",
    "print(queue1.stunde)\n",
    "print(queue2.neuerandrang)\n",
    "print(queue2.stunde)\n",
    "\n",
    "auffuellen(queue1)\n",
    "auffuellen(queue2)\n",
    "\n",
    "print(queue1.neuerandrang) \n",
    "print(queue1.stunde)\n",
    "print(queue2.neuerandrang)\n",
    "print(queue2.stunde)"
   ]
  },
  {
   "cell_type": "code",
   "execution_count": null,
   "metadata": {},
   "outputs": [],
   "source": []
  }
 ],
 "metadata": {
  "kernelspec": {
   "display_name": "Python 3",
   "language": "python",
   "name": "python3"
  },
  "language_info": {
   "codemirror_mode": {
    "name": "ipython",
    "version": 3
   },
   "file_extension": ".py",
   "mimetype": "text/x-python",
   "name": "python",
   "nbconvert_exporter": "python",
   "pygments_lexer": "ipython3",
   "version": "3.6.6"
  }
 },
 "nbformat": 4,
 "nbformat_minor": 2
}
