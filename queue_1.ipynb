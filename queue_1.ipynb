{
 "cells": [
  {
   "cell_type": "markdown",
   "metadata": {},
   "source": [
    "# Einfacher Fall mit 2 Knoten"
   ]
  },
  {
   "cell_type": "code",
   "execution_count": 36,
   "metadata": {},
   "outputs": [],
   "source": [
    "import heapq as hq\n",
    "\n",
    "class node: #Klasse der Bahnhofsknoten\n",
    "    pass\n",
    "\n",
    "class BF: #Beförderungsfälle; variabel\n",
    "    def __init__(self, Richtung, Ankunftszeit):\n",
    "        self.richtung = Richtung #Pfad ist nicht programmiert, da es nur einen gibt\n",
    "        self.ankunftszeit = Ankunftszeit\n",
    "        \n",
    "class BM: #Beförderungsmittel; Parameter werden später mit input fest eingegeben\n",
    "    def __init__(self, Reisezeit, Kapazitaet, Frequenz):\n",
    "        self.reisezeit = Reisezeit\n",
    "        self.kapazitaet = Kapazitaet\n",
    "        self.frequenz = Frequenz\n",
    "\n",
    "class Queue: #Warteschlange\n",
    "    \n",
    "    \"\"\"def __init__(self, Stunde, Andrang):\n",
    "        self.stunde = [Stunde]\n",
    "        self.andrang = [Andrang]\"\"\""
   ]
  },
  {
   "cell_type": "code",
   "execution_count": 37,
   "metadata": {
    "scrolled": true
   },
   "outputs": [
    {
     "name": "stdout",
     "output_type": "stream",
     "text": [
      "Gib bitte eine gültige Reisezeit in Minuten an: 1\n",
      "Gib bitte eine Kapazität der Bahnen an: 2\n",
      "Gib bitte eine Frequenz der Bahnen (Bahnen pro Stunde) an: 3\n"
     ]
    }
   ],
   "source": [
    "bahn = BM(0, 0, 0) #Seilbahn, deren Eigenschaften mit Argumenten dargestellt werden\n",
    "#Setze alle Parameter auf 0\n",
    "while True: #diskretes Zeitgitter => natürliche Zahlen\n",
    "    try: #Fehlererkennung bei Eingabe =>Programm stürzt nicht ab\n",
    "        bahn.reisezeit = input(\"Gib bitte eine gültige Reisezeit in Minuten an: \") #manuelle Eingabe (z.B. ermittelte Werte von Lukas S. und Jackie)\n",
    "        bahn.reisezeit = int(bahn.reisezeit)\n",
    "        break\n",
    "    except ValueError:\n",
    "        print(\"Dieser Wert ist falsch! Bitte erneut eingeben.\")\n",
    "while True: #Kapazität ist eine natürliche Zahl\n",
    "    try: #Fehlererkennung bei Eingabe =>Programm stürzt nicht ab\n",
    "        bahn.kapazitaet = input(\"Gib bitte eine Kapazität der Bahnen an: \")\n",
    "        bahn.kapazitaet = int(bahn.kapazitaet)\n",
    "        break\n",
    "    except ValueError:\n",
    "        print(\"Dieser Wert ist falsch! Bitte erneut eingeben.\")\n",
    "while True: #diskretes Zeitgitter => natürliche Zahlen\n",
    "    try: #Fehlererkennung bei Eingabe => Programm stürzt nicht ab\n",
    "        bahn.frequenz = input(\"Gib bitte eine Frequenz der Bahnen (Bahnen pro Stunde) an: \")\n",
    "        bahn.frequenz = int(bahn.frequenz)\n",
    "        break\n",
    "    except ValueError:\n",
    "        print(\"Dieser Wert ist falsch! Bitte erneut eingeben.\")\n",
    "        \n"
   ]
  },
  {
   "cell_type": "code",
   "execution_count": 38,
   "metadata": {},
   "outputs": [],
   "source": [
    "def auffuellen(queue):\n",
    "    for i in range(24):\n",
    "        while True:\n",
    "            try:\n",
    "                queue.stunde += [i]\n",
    "                n = 1 #2+i\n",
    "                #print(queue.stunde)\n",
    "                #n = input(\"Gib bitte die Zahl der Wartegäste an: \")\n",
    "                #n = int(n)\n",
    "                break\n",
    "            except ValueError:\n",
    "                print(\"Dieser Wert ist falsch! Bitte erneut eingeben.\")\n",
    "        queue.andrang += [n]\n",
    "            "
   ]
  },
  {
   "cell_type": "code",
   "execution_count": null,
   "metadata": {},
   "outputs": [],
   "source": []
  },
  {
   "cell_type": "code",
   "execution_count": 41,
   "metadata": {},
   "outputs": [],
   "source": [
    "queue1 = Queue([], [])\n",
    "queue2 = Queue([], [])\n",
    "auffuellen(queue1)\n",
    "auffuellen(queue2)"
   ]
  },
  {
   "cell_type": "code",
   "execution_count": 44,
   "metadata": {},
   "outputs": [
    {
     "name": "stdout",
     "output_type": "stream",
     "text": [
      "[1, 1, 1, 1, 1, 1, 1, 1, 1, 1, 1, 1, 1, 1, 1, 1, 1, 1, 1, 1, 1, 1, 1, 1]\n",
      "[0, 1, 2, 3, 4, 5, 6, 7, 8, 9, 10, 11, 12, 13, 14, 15, 16, 17, 18, 19, 20, 21, 22, 23]\n",
      "[1, 1, 1, 1, 1, 1, 1, 1, 1, 1, 1, 1, 1, 1, 1, 1, 1, 1, 1, 1, 1, 1, 1, 1]\n",
      "[0, 1, 2, 3, 4, 5, 6, 7, 8, 9, 10, 11, 12, 13, 14, 15, 16, 17, 18, 19, 20, 21, 22, 23]\n"
     ]
    }
   ],
   "source": [
    "print(queue1.andrang) \n",
    "print(queue1.stunde)\n",
    "print(queue2.andrang)\n",
    "print(queue2.stunde)"
   ]
  },
  {
   "cell_type": "code",
   "execution_count": 57,
   "metadata": {},
   "outputs": [],
   "source": [
    "a=[]\n",
    "b=[]\n",
    "for i in range(24):\n",
    "    a += [i]\n",
    "    b += [20+3*i]\n",
    "foo = Queue(a,b)"
   ]
  },
  {
   "cell_type": "code",
   "execution_count": 65,
   "metadata": {},
   "outputs": [],
   "source": [
    "A = []\n",
    "for i in range(24):\n",
    "    A += [(foo.stunde[i],foo.andrang[i])]"
   ]
  },
  {
   "cell_type": "code",
   "execution_count": 66,
   "metadata": {},
   "outputs": [
    {
     "name": "stdout",
     "output_type": "stream",
     "text": [
      "[(0, 20), (1, 23), (2, 26), (3, 29), (4, 32), (5, 35), (6, 38), (7, 41), (8, 44), (9, 47), (10, 50), (11, 53), (12, 56), (13, 59), (14, 62), (15, 65), (16, 68), (17, 71), (18, 74), (19, 77), (20, 80), (21, 83), (22, 86), (23, 89)]\n"
     ]
    }
   ],
   "source": [
    "print(A)"
   ]
  },
  {
   "cell_type": "code",
   "execution_count": null,
   "metadata": {},
   "outputs": [],
   "source": []
  }
 ],
 "metadata": {
  "kernelspec": {
   "display_name": "Python 3",
   "language": "python",
   "name": "python3"
  },
  "language_info": {
   "codemirror_mode": {
    "name": "ipython",
    "version": 3
   },
   "file_extension": ".py",
   "mimetype": "text/x-python",
   "name": "python",
   "nbconvert_exporter": "python",
   "pygments_lexer": "ipython3",
   "version": "3.6.6"
  }
 },
 "nbformat": 4,
 "nbformat_minor": 2
}
