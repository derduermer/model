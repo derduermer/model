{
 "cells": [
  {
   "cell_type": "markdown",
   "metadata": {},
   "source": [
    "# Einfacher Fall mit 2 Knoten"
   ]
  },
  {
   "cell_type": "code",
   "execution_count": 17,
   "metadata": {},
   "outputs": [],
   "source": [
    "import heapq as hq\n",
    "import heapq_max as hqm\n",
    "\n",
    "class node: #Klasse der Bahnhofsknoten\n",
    "    pass\n",
    "\n",
    "class BF: #Beförderungsfälle; variabel\n",
    "    def __init__(self, Richtung, Ankunftszeit):\n",
    "        self.richtung = Richtung #Pfad ist nicht programmiert, da es nur einen gibt\n",
    "        self.ankunftszeit = Ankunftszeit\n",
    "        \n",
    "class BM: #Beförderungsmittel; Parameter werden später mit input fest eingegeben\n",
    "    def __init__(self, Reisezeit, Kapazitaet, Intervall, Frequenz):\n",
    "        self.reisezeit = Reisezeit\n",
    "        self.kapazitaet = Kapazitaet\n",
    "        self.intervall = Intervall\n",
    "        self.frequenz = Frequenz\n",
    "\n",
    "class Queue: #Warteschlange\n",
    "    def __init__(self, Stunde, NeuerAndrang, Anzahl):\n",
    "        self.stunde = [Stunde]\n",
    "        self.neuerandrang = [NeuerAndrang]\n",
    "        self.anzahl = [Anzahl]\n",
    "\n",
    "class Wartegaeste: #Wartegäste\n",
    "    def __init__(self, Wartezeit):\n",
    "        self.Wartezeit = [Wartezeit]"
   ]
  },
  {
   "cell_type": "code",
   "execution_count": 18,
   "metadata": {
    "scrolled": true
   },
   "outputs": [
    {
     "name": "stdout",
     "output_type": "stream",
     "text": [
      "Gib bitte eine gültige Reisezeit in Minuten an: 1\n",
      "Gib bitte eine Kapazität der Bahnen an: 2\n",
      "Gib bitte ein Intervall des Abstandes der Bahnen in Minuten an: 3\n",
      "Entspricht einer Frequenz von 20.0 Bahnen pro Stunde\n"
     ]
    }
   ],
   "source": [
    "bahn = BM(0, 0, 0, 0) #Seilbahn, deren Eigenschaften mit Argumenten dargestellt werden\n",
    "#Setze alle Parameter auf 0\n",
    "while True: #diskretes Zeitgitter => natürliche Zahlen\n",
    "    try: #Fehlererkennung bei Eingabe => Programm stürzt nicht ab\n",
    "        bahn.reisezeit = input(\"Gib bitte eine gültige Reisezeit in Minuten an: \") #manuelle Eingabe (z.B. ermittelte Werte von Lukas S. und Jackie)\n",
    "        bahn.reisezeit = int(bahn.reisezeit)\n",
    "        break\n",
    "    except ValueError:\n",
    "        print(\"Dieser Wert ist falsch! Bitte erneut eingeben.\")\n",
    "while True: #Kapazität ist eine natürliche Zahl\n",
    "    try: #Fehlererkennung bei Eingabe => Programm stürzt nicht ab\n",
    "        bahn.kapazitaet = input(\"Gib bitte eine Kapazität der Bahnen an: \")\n",
    "        bahn.kapazitaet = int(bahn.kapazitaet)\n",
    "        break\n",
    "    except ValueError:\n",
    "        print(\"Dieser Wert ist falsch! Bitte erneut eingeben.\")\n",
    "while True: #diskretes Zeitgitter => natürliche Zahlen\n",
    "    try: #Fehlererkennung bei Eingabe => Programm stürzt nicht ab\n",
    "        bahn.intervall = input(\"Gib bitte ein Intervall des Abstandes der Bahnen in Minuten an: \")\n",
    "        bahn.intervall = float(bahn.intervall)\n",
    "        bahn.frequenz = 60/bahn.intervall\n",
    "        print(\"Entspricht einer Frequenz von\", bahn.frequenz, \"Bahnen pro Stunde\")\n",
    "        break\n",
    "    except ValueError:\n",
    "        print(\"Dieser Wert ist falsch! Bitte erneut eingeben.\")"
   ]
  },
  {
   "cell_type": "code",
   "execution_count": 19,
   "metadata": {},
   "outputs": [],
   "source": [
    "def auffuellen(queue, wartegaeste):\n",
    "    queue.stunde = []\n",
    "    queue.neuerandrang = []\n",
    "    queue.anzahl = [0]*24\n",
    "    wartegaeste.wartezeit = []\n",
    "    for i in range(24):\n",
    "        #while True:\n",
    "        #    try:\n",
    "        queue.stunde += [i]\n",
    "        n = 2+i\n",
    "        #    break\n",
    "        #except ValueError:\n",
    "        #    print(\"Dieser Wert ist falsch! Bitte erneut eingeben.\")\n",
    "        \n",
    "        print(\"vor der Schleife\", queue.anzahl)\n",
    "        queue.neuerandrang += [n]\n",
    "        for j in range(i+1):\n",
    "            queue.anzahl[i] += queue.neuerandrang[j]\n",
    "        print(queue.neuerandrang)\n",
    "        print(\"nach der Schleife\", queue.anzahl, \"\\n\")"
   ]
  },
  {
   "cell_type": "code",
   "execution_count": 20,
   "metadata": {
    "collapsed": true
   },
   "outputs": [
    {
     "name": "stdout",
     "output_type": "stream",
     "text": [
      "vor der Schleife [0, 0, 0, 0, 0, 0, 0, 0, 0, 0, 0, 0, 0, 0, 0, 0, 0, 0, 0, 0, 0, 0, 0, 0]\n",
      "[2]\n",
      "nach der Schleife [2, 0, 0, 0, 0, 0, 0, 0, 0, 0, 0, 0, 0, 0, 0, 0, 0, 0, 0, 0, 0, 0, 0, 0] \n",
      "\n",
      "vor der Schleife [2, 0, 0, 0, 0, 0, 0, 0, 0, 0, 0, 0, 0, 0, 0, 0, 0, 0, 0, 0, 0, 0, 0, 0]\n",
      "[2, 3]\n",
      "nach der Schleife [2, 5, 0, 0, 0, 0, 0, 0, 0, 0, 0, 0, 0, 0, 0, 0, 0, 0, 0, 0, 0, 0, 0, 0] \n",
      "\n",
      "vor der Schleife [2, 5, 0, 0, 0, 0, 0, 0, 0, 0, 0, 0, 0, 0, 0, 0, 0, 0, 0, 0, 0, 0, 0, 0]\n",
      "[2, 3, 4]\n",
      "nach der Schleife [2, 5, 9, 0, 0, 0, 0, 0, 0, 0, 0, 0, 0, 0, 0, 0, 0, 0, 0, 0, 0, 0, 0, 0] \n",
      "\n",
      "vor der Schleife [2, 5, 9, 0, 0, 0, 0, 0, 0, 0, 0, 0, 0, 0, 0, 0, 0, 0, 0, 0, 0, 0, 0, 0]\n",
      "[2, 3, 4, 5]\n",
      "nach der Schleife [2, 5, 9, 14, 0, 0, 0, 0, 0, 0, 0, 0, 0, 0, 0, 0, 0, 0, 0, 0, 0, 0, 0, 0] \n",
      "\n",
      "vor der Schleife [2, 5, 9, 14, 0, 0, 0, 0, 0, 0, 0, 0, 0, 0, 0, 0, 0, 0, 0, 0, 0, 0, 0, 0]\n",
      "[2, 3, 4, 5, 6]\n",
      "nach der Schleife [2, 5, 9, 14, 20, 0, 0, 0, 0, 0, 0, 0, 0, 0, 0, 0, 0, 0, 0, 0, 0, 0, 0, 0] \n",
      "\n",
      "vor der Schleife [2, 5, 9, 14, 20, 0, 0, 0, 0, 0, 0, 0, 0, 0, 0, 0, 0, 0, 0, 0, 0, 0, 0, 0]\n",
      "[2, 3, 4, 5, 6, 7]\n",
      "nach der Schleife [2, 5, 9, 14, 20, 27, 0, 0, 0, 0, 0, 0, 0, 0, 0, 0, 0, 0, 0, 0, 0, 0, 0, 0] \n",
      "\n",
      "vor der Schleife [2, 5, 9, 14, 20, 27, 0, 0, 0, 0, 0, 0, 0, 0, 0, 0, 0, 0, 0, 0, 0, 0, 0, 0]\n",
      "[2, 3, 4, 5, 6, 7, 8]\n",
      "nach der Schleife [2, 5, 9, 14, 20, 27, 35, 0, 0, 0, 0, 0, 0, 0, 0, 0, 0, 0, 0, 0, 0, 0, 0, 0] \n",
      "\n",
      "vor der Schleife [2, 5, 9, 14, 20, 27, 35, 0, 0, 0, 0, 0, 0, 0, 0, 0, 0, 0, 0, 0, 0, 0, 0, 0]\n",
      "[2, 3, 4, 5, 6, 7, 8, 9]\n",
      "nach der Schleife [2, 5, 9, 14, 20, 27, 35, 44, 0, 0, 0, 0, 0, 0, 0, 0, 0, 0, 0, 0, 0, 0, 0, 0] \n",
      "\n",
      "vor der Schleife [2, 5, 9, 14, 20, 27, 35, 44, 0, 0, 0, 0, 0, 0, 0, 0, 0, 0, 0, 0, 0, 0, 0, 0]\n",
      "[2, 3, 4, 5, 6, 7, 8, 9, 10]\n",
      "nach der Schleife [2, 5, 9, 14, 20, 27, 35, 44, 54, 0, 0, 0, 0, 0, 0, 0, 0, 0, 0, 0, 0, 0, 0, 0] \n",
      "\n",
      "vor der Schleife [2, 5, 9, 14, 20, 27, 35, 44, 54, 0, 0, 0, 0, 0, 0, 0, 0, 0, 0, 0, 0, 0, 0, 0]\n",
      "[2, 3, 4, 5, 6, 7, 8, 9, 10, 11]\n",
      "nach der Schleife [2, 5, 9, 14, 20, 27, 35, 44, 54, 65, 0, 0, 0, 0, 0, 0, 0, 0, 0, 0, 0, 0, 0, 0] \n",
      "\n",
      "vor der Schleife [2, 5, 9, 14, 20, 27, 35, 44, 54, 65, 0, 0, 0, 0, 0, 0, 0, 0, 0, 0, 0, 0, 0, 0]\n",
      "[2, 3, 4, 5, 6, 7, 8, 9, 10, 11, 12]\n",
      "nach der Schleife [2, 5, 9, 14, 20, 27, 35, 44, 54, 65, 77, 0, 0, 0, 0, 0, 0, 0, 0, 0, 0, 0, 0, 0] \n",
      "\n",
      "vor der Schleife [2, 5, 9, 14, 20, 27, 35, 44, 54, 65, 77, 0, 0, 0, 0, 0, 0, 0, 0, 0, 0, 0, 0, 0]\n",
      "[2, 3, 4, 5, 6, 7, 8, 9, 10, 11, 12, 13]\n",
      "nach der Schleife [2, 5, 9, 14, 20, 27, 35, 44, 54, 65, 77, 90, 0, 0, 0, 0, 0, 0, 0, 0, 0, 0, 0, 0] \n",
      "\n",
      "vor der Schleife [2, 5, 9, 14, 20, 27, 35, 44, 54, 65, 77, 90, 0, 0, 0, 0, 0, 0, 0, 0, 0, 0, 0, 0]\n",
      "[2, 3, 4, 5, 6, 7, 8, 9, 10, 11, 12, 13, 14]\n",
      "nach der Schleife [2, 5, 9, 14, 20, 27, 35, 44, 54, 65, 77, 90, 104, 0, 0, 0, 0, 0, 0, 0, 0, 0, 0, 0] \n",
      "\n",
      "vor der Schleife [2, 5, 9, 14, 20, 27, 35, 44, 54, 65, 77, 90, 104, 0, 0, 0, 0, 0, 0, 0, 0, 0, 0, 0]\n",
      "[2, 3, 4, 5, 6, 7, 8, 9, 10, 11, 12, 13, 14, 15]\n",
      "nach der Schleife [2, 5, 9, 14, 20, 27, 35, 44, 54, 65, 77, 90, 104, 119, 0, 0, 0, 0, 0, 0, 0, 0, 0, 0] \n",
      "\n",
      "vor der Schleife [2, 5, 9, 14, 20, 27, 35, 44, 54, 65, 77, 90, 104, 119, 0, 0, 0, 0, 0, 0, 0, 0, 0, 0]\n",
      "[2, 3, 4, 5, 6, 7, 8, 9, 10, 11, 12, 13, 14, 15, 16]\n",
      "nach der Schleife [2, 5, 9, 14, 20, 27, 35, 44, 54, 65, 77, 90, 104, 119, 135, 0, 0, 0, 0, 0, 0, 0, 0, 0] \n",
      "\n",
      "vor der Schleife [2, 5, 9, 14, 20, 27, 35, 44, 54, 65, 77, 90, 104, 119, 135, 0, 0, 0, 0, 0, 0, 0, 0, 0]\n",
      "[2, 3, 4, 5, 6, 7, 8, 9, 10, 11, 12, 13, 14, 15, 16, 17]\n",
      "nach der Schleife [2, 5, 9, 14, 20, 27, 35, 44, 54, 65, 77, 90, 104, 119, 135, 152, 0, 0, 0, 0, 0, 0, 0, 0] \n",
      "\n",
      "vor der Schleife [2, 5, 9, 14, 20, 27, 35, 44, 54, 65, 77, 90, 104, 119, 135, 152, 0, 0, 0, 0, 0, 0, 0, 0]\n",
      "[2, 3, 4, 5, 6, 7, 8, 9, 10, 11, 12, 13, 14, 15, 16, 17, 18]\n",
      "nach der Schleife [2, 5, 9, 14, 20, 27, 35, 44, 54, 65, 77, 90, 104, 119, 135, 152, 170, 0, 0, 0, 0, 0, 0, 0] \n",
      "\n",
      "vor der Schleife [2, 5, 9, 14, 20, 27, 35, 44, 54, 65, 77, 90, 104, 119, 135, 152, 170, 0, 0, 0, 0, 0, 0, 0]\n",
      "[2, 3, 4, 5, 6, 7, 8, 9, 10, 11, 12, 13, 14, 15, 16, 17, 18, 19]\n",
      "nach der Schleife [2, 5, 9, 14, 20, 27, 35, 44, 54, 65, 77, 90, 104, 119, 135, 152, 170, 189, 0, 0, 0, 0, 0, 0] \n",
      "\n",
      "vor der Schleife [2, 5, 9, 14, 20, 27, 35, 44, 54, 65, 77, 90, 104, 119, 135, 152, 170, 189, 0, 0, 0, 0, 0, 0]\n",
      "[2, 3, 4, 5, 6, 7, 8, 9, 10, 11, 12, 13, 14, 15, 16, 17, 18, 19, 20]\n",
      "nach der Schleife [2, 5, 9, 14, 20, 27, 35, 44, 54, 65, 77, 90, 104, 119, 135, 152, 170, 189, 209, 0, 0, 0, 0, 0] \n",
      "\n",
      "vor der Schleife [2, 5, 9, 14, 20, 27, 35, 44, 54, 65, 77, 90, 104, 119, 135, 152, 170, 189, 209, 0, 0, 0, 0, 0]\n",
      "[2, 3, 4, 5, 6, 7, 8, 9, 10, 11, 12, 13, 14, 15, 16, 17, 18, 19, 20, 21]\n",
      "nach der Schleife [2, 5, 9, 14, 20, 27, 35, 44, 54, 65, 77, 90, 104, 119, 135, 152, 170, 189, 209, 230, 0, 0, 0, 0] \n",
      "\n",
      "vor der Schleife [2, 5, 9, 14, 20, 27, 35, 44, 54, 65, 77, 90, 104, 119, 135, 152, 170, 189, 209, 230, 0, 0, 0, 0]\n",
      "[2, 3, 4, 5, 6, 7, 8, 9, 10, 11, 12, 13, 14, 15, 16, 17, 18, 19, 20, 21, 22]\n",
      "nach der Schleife [2, 5, 9, 14, 20, 27, 35, 44, 54, 65, 77, 90, 104, 119, 135, 152, 170, 189, 209, 230, 252, 0, 0, 0] \n",
      "\n",
      "vor der Schleife [2, 5, 9, 14, 20, 27, 35, 44, 54, 65, 77, 90, 104, 119, 135, 152, 170, 189, 209, 230, 252, 0, 0, 0]\n",
      "[2, 3, 4, 5, 6, 7, 8, 9, 10, 11, 12, 13, 14, 15, 16, 17, 18, 19, 20, 21, 22, 23]\n",
      "nach der Schleife [2, 5, 9, 14, 20, 27, 35, 44, 54, 65, 77, 90, 104, 119, 135, 152, 170, 189, 209, 230, 252, 275, 0, 0] \n",
      "\n",
      "vor der Schleife [2, 5, 9, 14, 20, 27, 35, 44, 54, 65, 77, 90, 104, 119, 135, 152, 170, 189, 209, 230, 252, 275, 0, 0]\n",
      "[2, 3, 4, 5, 6, 7, 8, 9, 10, 11, 12, 13, 14, 15, 16, 17, 18, 19, 20, 21, 22, 23, 24]\n",
      "nach der Schleife [2, 5, 9, 14, 20, 27, 35, 44, 54, 65, 77, 90, 104, 119, 135, 152, 170, 189, 209, 230, 252, 275, 299, 0] \n",
      "\n",
      "vor der Schleife [2, 5, 9, 14, 20, 27, 35, 44, 54, 65, 77, 90, 104, 119, 135, 152, 170, 189, 209, 230, 252, 275, 299, 0]\n",
      "[2, 3, 4, 5, 6, 7, 8, 9, 10, 11, 12, 13, 14, 15, 16, 17, 18, 19, 20, 21, 22, 23, 24, 25]\n",
      "nach der Schleife [2, 5, 9, 14, 20, 27, 35, 44, 54, 65, 77, 90, 104, 119, 135, 152, 170, 189, 209, 230, 252, 275, 299, 324] \n",
      "\n"
     ]
    }
   ],
   "source": [
    "queue1 = Queue([], [], [])\n",
    "wartegaeste1 = Wartegaeste([])\n",
    "auffuellen(queue1, wartegaeste1)"
   ]
  },
  {
   "cell_type": "code",
   "execution_count": 7,
   "metadata": {},
   "outputs": [
    {
     "data": {
      "text/plain": [
       "[6, 5, 4, 3, 2, 1]"
      ]
     },
     "execution_count": 7,
     "metadata": {},
     "output_type": "execute_result"
    }
   ],
   "source": [
    "def heapsort(i):\n",
    "    array = []\n",
    "    for n in i:\n",
    "        hqm.heappush_max(array, n)\n",
    "    return [hqm.heappop_max(array) for i in range(len(array))]\n",
    "\n",
    "heapsort([4,6,1,3,5,2])"
   ]
  },
  {
   "cell_type": "code",
   "execution_count": 52,
   "metadata": {},
   "outputs": [],
   "source": [
    "def auffuellen_3(queue, wartegaeste):\n",
    "    queue.stunde = []\n",
    "    queue.neuerandrang = []\n",
    "    queue.anzahl = [0]*24\n",
    "    wartegaeste.wartezeit = []\n",
    "    timestep = 1/bahn.frequenz\n",
    "    for i in range(24):\n",
    "        #while True:\n",
    "        #    try:\n",
    "        queue.stunde += [i]\n",
    "        n = 2+i\n",
    "        #    break\n",
    "        #except ValueError:\n",
    "        #    print(\"Dieser Wert ist falsch! Bitte erneut eingeben.\"\n",
    "        \n",
    "        queue.neuerandrang += [n]\n",
    "        for j in range(i+1):\n",
    "            queue.anzahl[i] += queue.neuerandrang[j]\n",
    "        p = []\n",
    "        for k in range(queue.anzahl[i]):\n",
    "            p += [0]\n",
    "        wartegaeste.wartezeit = p\n",
    "        if queue.anzahl[i]<=bahn.kapazitaet:\n",
    "            queue.anzahl[i]=0\n",
    "        else:\n",
    "            for b in range(len(wartegaeste.wartezeit)):\n",
    "                wartegaeste.wartezeit[b] += timestep\n",
    "        #print(queue.neuerandrang)\n",
    "        #print(queue.anzahl)\n",
    "        print(len(wartegaeste.wartezeit))"
   ]
  },
  {
   "cell_type": "code",
   "execution_count": 53,
   "metadata": {
    "scrolled": false
   },
   "outputs": [
    {
     "name": "stdout",
     "output_type": "stream",
     "text": [
      "2\n",
      "5\n",
      "9\n",
      "14\n",
      "20\n",
      "27\n",
      "35\n",
      "44\n",
      "54\n",
      "65\n",
      "77\n",
      "90\n",
      "104\n",
      "119\n",
      "135\n",
      "152\n",
      "170\n",
      "189\n",
      "209\n",
      "230\n",
      "252\n",
      "275\n",
      "299\n",
      "324\n"
     ]
    }
   ],
   "source": [
    "queue2 = Queue([], [], [])\n",
    "wartegaeste2 = Wartegaeste([])\n",
    "auffuellen_3(queue2, wartegaeste2)"
   ]
  },
  {
   "cell_type": "code",
   "execution_count": null,
   "metadata": {},
   "outputs": [],
   "source": []
  }
 ],
 "metadata": {
  "kernelspec": {
   "display_name": "Python 3",
   "language": "python",
   "name": "python3"
  },
  "language_info": {
   "codemirror_mode": {
    "name": "ipython",
    "version": 3
   },
   "file_extension": ".py",
   "mimetype": "text/x-python",
   "name": "python",
   "nbconvert_exporter": "python",
   "pygments_lexer": "ipython3",
   "version": "3.6.6"
  }
 },
 "nbformat": 4,
 "nbformat_minor": 2
}
