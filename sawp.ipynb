{
 "cells": [
  {
   "cell_type": "code",
   "execution_count": null,
   "metadata": {},
   "outputs": [],
   "source": [
    "\"\"\"class BK: #Beförderungsknoten\n",
    "    def __init__(self, Q, array_BF):\n",
    "        self.q = Q #Warteschlange\n",
    "        self.array_BF = [data]\"\"\""
   ]
  },
  {
   "cell_type": "code",
   "execution_count": null,
   "metadata": {},
   "outputs": [],
   "source": [
    "\"\"\"queue.stunde = range(24)\n",
    "a=len(queue.stunde)\n",
    "print(a)\"\"\"\n",
    "\n",
    "\"\"\"for i in range(len(queue.stunde)):\n",
    "    while True:\n",
    "        try:\n",
    "            queue.andrang[i] = input(\"Gib bitte den Andrang in der x-ten Stunde ein: \")\n",
    "            queue.andrang[i] = int(queue.andrang[i])\n",
    "            break\n",
    "        except ValueError:\n",
    "            print(\"Dieser Wert ist falsch! Bitte erneut eingeben.\")\n",
    "\"\"\""
   ]
  },
  {
   "cell_type": "code",
   "execution_count": null,
   "metadata": {},
   "outputs": [],
   "source": []
  },
  {
   "cell_type": "code",
   "execution_count": null,
   "metadata": {},
   "outputs": [],
   "source": []
  },
  {
   "cell_type": "code",
   "execution_count": null,
   "metadata": {},
   "outputs": [],
   "source": []
  }
 ],
 "metadata": {
  "kernelspec": {
   "display_name": "Python 3",
   "language": "python",
   "name": "python3"
  },
  "language_info": {
   "codemirror_mode": {
    "name": "ipython",
    "version": 3
   },
   "file_extension": ".py",
   "mimetype": "text/x-python",
   "name": "python",
   "nbconvert_exporter": "python",
   "pygments_lexer": "ipython3",
   "version": "3.6.6"
  }
 },
 "nbformat": 4,
 "nbformat_minor": 2
}
